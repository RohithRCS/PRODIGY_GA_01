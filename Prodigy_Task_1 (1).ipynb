{
  "nbformat": 4,
  "nbformat_minor": 0,
  "metadata": {
    "colab": {
      "provenance": [],
      "gpuType": "T4"
    },
    "kernelspec": {
      "name": "python3",
      "display_name": "Python 3"
    },
    "language_info": {
      "name": "python"
    },
    "accelerator": "GPU",
    "widgets": {
      "application/vnd.jupyter.widget-state+json": {
        "b93be203871b4f6496dab1f2748d14fb": {
          "model_module": "@jupyter-widgets/controls",
          "model_name": "HBoxModel",
          "model_module_version": "1.5.0",
          "state": {
            "_dom_classes": [],
            "_model_module": "@jupyter-widgets/controls",
            "_model_module_version": "1.5.0",
            "_model_name": "HBoxModel",
            "_view_count": null,
            "_view_module": "@jupyter-widgets/controls",
            "_view_module_version": "1.5.0",
            "_view_name": "HBoxView",
            "box_style": "",
            "children": [
              "IPY_MODEL_ef164361206345bba38a4803bb517c55",
              "IPY_MODEL_ccc2ebfc8f6841a3998229538494553a",
              "IPY_MODEL_ee8ed7ed9e74448d87049f1e843c35c7"
            ],
            "layout": "IPY_MODEL_9930ef5d1e12484e997e95cd6fac9fde"
          }
        },
        "ef164361206345bba38a4803bb517c55": {
          "model_module": "@jupyter-widgets/controls",
          "model_name": "HTMLModel",
          "model_module_version": "1.5.0",
          "state": {
            "_dom_classes": [],
            "_model_module": "@jupyter-widgets/controls",
            "_model_module_version": "1.5.0",
            "_model_name": "HTMLModel",
            "_view_count": null,
            "_view_module": "@jupyter-widgets/controls",
            "_view_module_version": "1.5.0",
            "_view_name": "HTMLView",
            "description": "",
            "description_tooltip": null,
            "layout": "IPY_MODEL_ea3467402a3a446e902b111068cf5c79",
            "placeholder": "​",
            "style": "IPY_MODEL_56204316d51a41938e1eb166764c7113",
            "value": "config.json: 100%"
          }
        },
        "ccc2ebfc8f6841a3998229538494553a": {
          "model_module": "@jupyter-widgets/controls",
          "model_name": "FloatProgressModel",
          "model_module_version": "1.5.0",
          "state": {
            "_dom_classes": [],
            "_model_module": "@jupyter-widgets/controls",
            "_model_module_version": "1.5.0",
            "_model_name": "FloatProgressModel",
            "_view_count": null,
            "_view_module": "@jupyter-widgets/controls",
            "_view_module_version": "1.5.0",
            "_view_name": "ProgressView",
            "bar_style": "success",
            "description": "",
            "description_tooltip": null,
            "layout": "IPY_MODEL_176368db80e44ef3932fa596300bbbf3",
            "max": 718,
            "min": 0,
            "orientation": "horizontal",
            "style": "IPY_MODEL_b7b42d378f6b484b9d08413bd1d734a9",
            "value": 718
          }
        },
        "ee8ed7ed9e74448d87049f1e843c35c7": {
          "model_module": "@jupyter-widgets/controls",
          "model_name": "HTMLModel",
          "model_module_version": "1.5.0",
          "state": {
            "_dom_classes": [],
            "_model_module": "@jupyter-widgets/controls",
            "_model_module_version": "1.5.0",
            "_model_name": "HTMLModel",
            "_view_count": null,
            "_view_module": "@jupyter-widgets/controls",
            "_view_module_version": "1.5.0",
            "_view_name": "HTMLView",
            "description": "",
            "description_tooltip": null,
            "layout": "IPY_MODEL_93952d60dcda40fa843f5b0e37df040c",
            "placeholder": "​",
            "style": "IPY_MODEL_1a07e6917e544b1f9b35c9f1cc86abbb",
            "value": " 718/718 [00:00&lt;00:00, 13.5kB/s]"
          }
        },
        "9930ef5d1e12484e997e95cd6fac9fde": {
          "model_module": "@jupyter-widgets/base",
          "model_name": "LayoutModel",
          "model_module_version": "1.2.0",
          "state": {
            "_model_module": "@jupyter-widgets/base",
            "_model_module_version": "1.2.0",
            "_model_name": "LayoutModel",
            "_view_count": null,
            "_view_module": "@jupyter-widgets/base",
            "_view_module_version": "1.2.0",
            "_view_name": "LayoutView",
            "align_content": null,
            "align_items": null,
            "align_self": null,
            "border": null,
            "bottom": null,
            "display": null,
            "flex": null,
            "flex_flow": null,
            "grid_area": null,
            "grid_auto_columns": null,
            "grid_auto_flow": null,
            "grid_auto_rows": null,
            "grid_column": null,
            "grid_gap": null,
            "grid_row": null,
            "grid_template_areas": null,
            "grid_template_columns": null,
            "grid_template_rows": null,
            "height": null,
            "justify_content": null,
            "justify_items": null,
            "left": null,
            "margin": null,
            "max_height": null,
            "max_width": null,
            "min_height": null,
            "min_width": null,
            "object_fit": null,
            "object_position": null,
            "order": null,
            "overflow": null,
            "overflow_x": null,
            "overflow_y": null,
            "padding": null,
            "right": null,
            "top": null,
            "visibility": null,
            "width": null
          }
        },
        "ea3467402a3a446e902b111068cf5c79": {
          "model_module": "@jupyter-widgets/base",
          "model_name": "LayoutModel",
          "model_module_version": "1.2.0",
          "state": {
            "_model_module": "@jupyter-widgets/base",
            "_model_module_version": "1.2.0",
            "_model_name": "LayoutModel",
            "_view_count": null,
            "_view_module": "@jupyter-widgets/base",
            "_view_module_version": "1.2.0",
            "_view_name": "LayoutView",
            "align_content": null,
            "align_items": null,
            "align_self": null,
            "border": null,
            "bottom": null,
            "display": null,
            "flex": null,
            "flex_flow": null,
            "grid_area": null,
            "grid_auto_columns": null,
            "grid_auto_flow": null,
            "grid_auto_rows": null,
            "grid_column": null,
            "grid_gap": null,
            "grid_row": null,
            "grid_template_areas": null,
            "grid_template_columns": null,
            "grid_template_rows": null,
            "height": null,
            "justify_content": null,
            "justify_items": null,
            "left": null,
            "margin": null,
            "max_height": null,
            "max_width": null,
            "min_height": null,
            "min_width": null,
            "object_fit": null,
            "object_position": null,
            "order": null,
            "overflow": null,
            "overflow_x": null,
            "overflow_y": null,
            "padding": null,
            "right": null,
            "top": null,
            "visibility": null,
            "width": null
          }
        },
        "56204316d51a41938e1eb166764c7113": {
          "model_module": "@jupyter-widgets/controls",
          "model_name": "DescriptionStyleModel",
          "model_module_version": "1.5.0",
          "state": {
            "_model_module": "@jupyter-widgets/controls",
            "_model_module_version": "1.5.0",
            "_model_name": "DescriptionStyleModel",
            "_view_count": null,
            "_view_module": "@jupyter-widgets/base",
            "_view_module_version": "1.2.0",
            "_view_name": "StyleView",
            "description_width": ""
          }
        },
        "176368db80e44ef3932fa596300bbbf3": {
          "model_module": "@jupyter-widgets/base",
          "model_name": "LayoutModel",
          "model_module_version": "1.2.0",
          "state": {
            "_model_module": "@jupyter-widgets/base",
            "_model_module_version": "1.2.0",
            "_model_name": "LayoutModel",
            "_view_count": null,
            "_view_module": "@jupyter-widgets/base",
            "_view_module_version": "1.2.0",
            "_view_name": "LayoutView",
            "align_content": null,
            "align_items": null,
            "align_self": null,
            "border": null,
            "bottom": null,
            "display": null,
            "flex": null,
            "flex_flow": null,
            "grid_area": null,
            "grid_auto_columns": null,
            "grid_auto_flow": null,
            "grid_auto_rows": null,
            "grid_column": null,
            "grid_gap": null,
            "grid_row": null,
            "grid_template_areas": null,
            "grid_template_columns": null,
            "grid_template_rows": null,
            "height": null,
            "justify_content": null,
            "justify_items": null,
            "left": null,
            "margin": null,
            "max_height": null,
            "max_width": null,
            "min_height": null,
            "min_width": null,
            "object_fit": null,
            "object_position": null,
            "order": null,
            "overflow": null,
            "overflow_x": null,
            "overflow_y": null,
            "padding": null,
            "right": null,
            "top": null,
            "visibility": null,
            "width": null
          }
        },
        "b7b42d378f6b484b9d08413bd1d734a9": {
          "model_module": "@jupyter-widgets/controls",
          "model_name": "ProgressStyleModel",
          "model_module_version": "1.5.0",
          "state": {
            "_model_module": "@jupyter-widgets/controls",
            "_model_module_version": "1.5.0",
            "_model_name": "ProgressStyleModel",
            "_view_count": null,
            "_view_module": "@jupyter-widgets/base",
            "_view_module_version": "1.2.0",
            "_view_name": "StyleView",
            "bar_color": null,
            "description_width": ""
          }
        },
        "93952d60dcda40fa843f5b0e37df040c": {
          "model_module": "@jupyter-widgets/base",
          "model_name": "LayoutModel",
          "model_module_version": "1.2.0",
          "state": {
            "_model_module": "@jupyter-widgets/base",
            "_model_module_version": "1.2.0",
            "_model_name": "LayoutModel",
            "_view_count": null,
            "_view_module": "@jupyter-widgets/base",
            "_view_module_version": "1.2.0",
            "_view_name": "LayoutView",
            "align_content": null,
            "align_items": null,
            "align_self": null,
            "border": null,
            "bottom": null,
            "display": null,
            "flex": null,
            "flex_flow": null,
            "grid_area": null,
            "grid_auto_columns": null,
            "grid_auto_flow": null,
            "grid_auto_rows": null,
            "grid_column": null,
            "grid_gap": null,
            "grid_row": null,
            "grid_template_areas": null,
            "grid_template_columns": null,
            "grid_template_rows": null,
            "height": null,
            "justify_content": null,
            "justify_items": null,
            "left": null,
            "margin": null,
            "max_height": null,
            "max_width": null,
            "min_height": null,
            "min_width": null,
            "object_fit": null,
            "object_position": null,
            "order": null,
            "overflow": null,
            "overflow_x": null,
            "overflow_y": null,
            "padding": null,
            "right": null,
            "top": null,
            "visibility": null,
            "width": null
          }
        },
        "1a07e6917e544b1f9b35c9f1cc86abbb": {
          "model_module": "@jupyter-widgets/controls",
          "model_name": "DescriptionStyleModel",
          "model_module_version": "1.5.0",
          "state": {
            "_model_module": "@jupyter-widgets/controls",
            "_model_module_version": "1.5.0",
            "_model_name": "DescriptionStyleModel",
            "_view_count": null,
            "_view_module": "@jupyter-widgets/base",
            "_view_module_version": "1.2.0",
            "_view_name": "StyleView",
            "description_width": ""
          }
        },
        "5b53801341f84103acdd554debdc6387": {
          "model_module": "@jupyter-widgets/controls",
          "model_name": "HBoxModel",
          "model_module_version": "1.5.0",
          "state": {
            "_dom_classes": [],
            "_model_module": "@jupyter-widgets/controls",
            "_model_module_version": "1.5.0",
            "_model_name": "HBoxModel",
            "_view_count": null,
            "_view_module": "@jupyter-widgets/controls",
            "_view_module_version": "1.5.0",
            "_view_name": "HBoxView",
            "box_style": "",
            "children": [
              "IPY_MODEL_0bd2859cb82b4a0881b6cbc882db64ea",
              "IPY_MODEL_495bab81eb6048089c56d30503ea6659",
              "IPY_MODEL_9ab5353cae2f4db081b89283e08b7701"
            ],
            "layout": "IPY_MODEL_a4e09ed3ee0d45e4b92eaecd4f4c42df"
          }
        },
        "0bd2859cb82b4a0881b6cbc882db64ea": {
          "model_module": "@jupyter-widgets/controls",
          "model_name": "HTMLModel",
          "model_module_version": "1.5.0",
          "state": {
            "_dom_classes": [],
            "_model_module": "@jupyter-widgets/controls",
            "_model_module_version": "1.5.0",
            "_model_name": "HTMLModel",
            "_view_count": null,
            "_view_module": "@jupyter-widgets/controls",
            "_view_module_version": "1.5.0",
            "_view_name": "HTMLView",
            "description": "",
            "description_tooltip": null,
            "layout": "IPY_MODEL_fe59209396414dd682b8327fd8c9ae18",
            "placeholder": "​",
            "style": "IPY_MODEL_b0e60ad8776f4964acafe7e0eb7d2029",
            "value": "model.safetensors: 100%"
          }
        },
        "495bab81eb6048089c56d30503ea6659": {
          "model_module": "@jupyter-widgets/controls",
          "model_name": "FloatProgressModel",
          "model_module_version": "1.5.0",
          "state": {
            "_dom_classes": [],
            "_model_module": "@jupyter-widgets/controls",
            "_model_module_version": "1.5.0",
            "_model_name": "FloatProgressModel",
            "_view_count": null,
            "_view_module": "@jupyter-widgets/controls",
            "_view_module_version": "1.5.0",
            "_view_name": "ProgressView",
            "bar_style": "success",
            "description": "",
            "description_tooltip": null,
            "layout": "IPY_MODEL_52f0a48788e3457e89bf8e04f4d97675",
            "max": 1519984962,
            "min": 0,
            "orientation": "horizontal",
            "style": "IPY_MODEL_bcd13f56632a423da6c0f58cae207049",
            "value": 1519984962
          }
        },
        "9ab5353cae2f4db081b89283e08b7701": {
          "model_module": "@jupyter-widgets/controls",
          "model_name": "HTMLModel",
          "model_module_version": "1.5.0",
          "state": {
            "_dom_classes": [],
            "_model_module": "@jupyter-widgets/controls",
            "_model_module_version": "1.5.0",
            "_model_name": "HTMLModel",
            "_view_count": null,
            "_view_module": "@jupyter-widgets/controls",
            "_view_module_version": "1.5.0",
            "_view_name": "HTMLView",
            "description": "",
            "description_tooltip": null,
            "layout": "IPY_MODEL_2e325675311642f09391fe538f7eaccd",
            "placeholder": "​",
            "style": "IPY_MODEL_11bd61e8ac4d493d9dc94f9eab5feebc",
            "value": " 1.52G/1.52G [00:10&lt;00:00, 202MB/s]"
          }
        },
        "a4e09ed3ee0d45e4b92eaecd4f4c42df": {
          "model_module": "@jupyter-widgets/base",
          "model_name": "LayoutModel",
          "model_module_version": "1.2.0",
          "state": {
            "_model_module": "@jupyter-widgets/base",
            "_model_module_version": "1.2.0",
            "_model_name": "LayoutModel",
            "_view_count": null,
            "_view_module": "@jupyter-widgets/base",
            "_view_module_version": "1.2.0",
            "_view_name": "LayoutView",
            "align_content": null,
            "align_items": null,
            "align_self": null,
            "border": null,
            "bottom": null,
            "display": null,
            "flex": null,
            "flex_flow": null,
            "grid_area": null,
            "grid_auto_columns": null,
            "grid_auto_flow": null,
            "grid_auto_rows": null,
            "grid_column": null,
            "grid_gap": null,
            "grid_row": null,
            "grid_template_areas": null,
            "grid_template_columns": null,
            "grid_template_rows": null,
            "height": null,
            "justify_content": null,
            "justify_items": null,
            "left": null,
            "margin": null,
            "max_height": null,
            "max_width": null,
            "min_height": null,
            "min_width": null,
            "object_fit": null,
            "object_position": null,
            "order": null,
            "overflow": null,
            "overflow_x": null,
            "overflow_y": null,
            "padding": null,
            "right": null,
            "top": null,
            "visibility": null,
            "width": null
          }
        },
        "fe59209396414dd682b8327fd8c9ae18": {
          "model_module": "@jupyter-widgets/base",
          "model_name": "LayoutModel",
          "model_module_version": "1.2.0",
          "state": {
            "_model_module": "@jupyter-widgets/base",
            "_model_module_version": "1.2.0",
            "_model_name": "LayoutModel",
            "_view_count": null,
            "_view_module": "@jupyter-widgets/base",
            "_view_module_version": "1.2.0",
            "_view_name": "LayoutView",
            "align_content": null,
            "align_items": null,
            "align_self": null,
            "border": null,
            "bottom": null,
            "display": null,
            "flex": null,
            "flex_flow": null,
            "grid_area": null,
            "grid_auto_columns": null,
            "grid_auto_flow": null,
            "grid_auto_rows": null,
            "grid_column": null,
            "grid_gap": null,
            "grid_row": null,
            "grid_template_areas": null,
            "grid_template_columns": null,
            "grid_template_rows": null,
            "height": null,
            "justify_content": null,
            "justify_items": null,
            "left": null,
            "margin": null,
            "max_height": null,
            "max_width": null,
            "min_height": null,
            "min_width": null,
            "object_fit": null,
            "object_position": null,
            "order": null,
            "overflow": null,
            "overflow_x": null,
            "overflow_y": null,
            "padding": null,
            "right": null,
            "top": null,
            "visibility": null,
            "width": null
          }
        },
        "b0e60ad8776f4964acafe7e0eb7d2029": {
          "model_module": "@jupyter-widgets/controls",
          "model_name": "DescriptionStyleModel",
          "model_module_version": "1.5.0",
          "state": {
            "_model_module": "@jupyter-widgets/controls",
            "_model_module_version": "1.5.0",
            "_model_name": "DescriptionStyleModel",
            "_view_count": null,
            "_view_module": "@jupyter-widgets/base",
            "_view_module_version": "1.2.0",
            "_view_name": "StyleView",
            "description_width": ""
          }
        },
        "52f0a48788e3457e89bf8e04f4d97675": {
          "model_module": "@jupyter-widgets/base",
          "model_name": "LayoutModel",
          "model_module_version": "1.2.0",
          "state": {
            "_model_module": "@jupyter-widgets/base",
            "_model_module_version": "1.2.0",
            "_model_name": "LayoutModel",
            "_view_count": null,
            "_view_module": "@jupyter-widgets/base",
            "_view_module_version": "1.2.0",
            "_view_name": "LayoutView",
            "align_content": null,
            "align_items": null,
            "align_self": null,
            "border": null,
            "bottom": null,
            "display": null,
            "flex": null,
            "flex_flow": null,
            "grid_area": null,
            "grid_auto_columns": null,
            "grid_auto_flow": null,
            "grid_auto_rows": null,
            "grid_column": null,
            "grid_gap": null,
            "grid_row": null,
            "grid_template_areas": null,
            "grid_template_columns": null,
            "grid_template_rows": null,
            "height": null,
            "justify_content": null,
            "justify_items": null,
            "left": null,
            "margin": null,
            "max_height": null,
            "max_width": null,
            "min_height": null,
            "min_width": null,
            "object_fit": null,
            "object_position": null,
            "order": null,
            "overflow": null,
            "overflow_x": null,
            "overflow_y": null,
            "padding": null,
            "right": null,
            "top": null,
            "visibility": null,
            "width": null
          }
        },
        "bcd13f56632a423da6c0f58cae207049": {
          "model_module": "@jupyter-widgets/controls",
          "model_name": "ProgressStyleModel",
          "model_module_version": "1.5.0",
          "state": {
            "_model_module": "@jupyter-widgets/controls",
            "_model_module_version": "1.5.0",
            "_model_name": "ProgressStyleModel",
            "_view_count": null,
            "_view_module": "@jupyter-widgets/base",
            "_view_module_version": "1.2.0",
            "_view_name": "StyleView",
            "bar_color": null,
            "description_width": ""
          }
        },
        "2e325675311642f09391fe538f7eaccd": {
          "model_module": "@jupyter-widgets/base",
          "model_name": "LayoutModel",
          "model_module_version": "1.2.0",
          "state": {
            "_model_module": "@jupyter-widgets/base",
            "_model_module_version": "1.2.0",
            "_model_name": "LayoutModel",
            "_view_count": null,
            "_view_module": "@jupyter-widgets/base",
            "_view_module_version": "1.2.0",
            "_view_name": "LayoutView",
            "align_content": null,
            "align_items": null,
            "align_self": null,
            "border": null,
            "bottom": null,
            "display": null,
            "flex": null,
            "flex_flow": null,
            "grid_area": null,
            "grid_auto_columns": null,
            "grid_auto_flow": null,
            "grid_auto_rows": null,
            "grid_column": null,
            "grid_gap": null,
            "grid_row": null,
            "grid_template_areas": null,
            "grid_template_columns": null,
            "grid_template_rows": null,
            "height": null,
            "justify_content": null,
            "justify_items": null,
            "left": null,
            "margin": null,
            "max_height": null,
            "max_width": null,
            "min_height": null,
            "min_width": null,
            "object_fit": null,
            "object_position": null,
            "order": null,
            "overflow": null,
            "overflow_x": null,
            "overflow_y": null,
            "padding": null,
            "right": null,
            "top": null,
            "visibility": null,
            "width": null
          }
        },
        "11bd61e8ac4d493d9dc94f9eab5feebc": {
          "model_module": "@jupyter-widgets/controls",
          "model_name": "DescriptionStyleModel",
          "model_module_version": "1.5.0",
          "state": {
            "_model_module": "@jupyter-widgets/controls",
            "_model_module_version": "1.5.0",
            "_model_name": "DescriptionStyleModel",
            "_view_count": null,
            "_view_module": "@jupyter-widgets/base",
            "_view_module_version": "1.2.0",
            "_view_name": "StyleView",
            "description_width": ""
          }
        },
        "9ab4f24be7d34f21997c75cd749374e3": {
          "model_module": "@jupyter-widgets/controls",
          "model_name": "HBoxModel",
          "model_module_version": "1.5.0",
          "state": {
            "_dom_classes": [],
            "_model_module": "@jupyter-widgets/controls",
            "_model_module_version": "1.5.0",
            "_model_name": "HBoxModel",
            "_view_count": null,
            "_view_module": "@jupyter-widgets/controls",
            "_view_module_version": "1.5.0",
            "_view_name": "HBoxView",
            "box_style": "",
            "children": [
              "IPY_MODEL_cfac995c9d05474b96dc128a542474c8",
              "IPY_MODEL_cca058eac92b465398ca2f114fc3d445",
              "IPY_MODEL_287e8e952f1b4fbc81bf8ec906a3fe09"
            ],
            "layout": "IPY_MODEL_f4fa7adae62b4ddb9701ceba5241c8ea"
          }
        },
        "cfac995c9d05474b96dc128a542474c8": {
          "model_module": "@jupyter-widgets/controls",
          "model_name": "HTMLModel",
          "model_module_version": "1.5.0",
          "state": {
            "_dom_classes": [],
            "_model_module": "@jupyter-widgets/controls",
            "_model_module_version": "1.5.0",
            "_model_name": "HTMLModel",
            "_view_count": null,
            "_view_module": "@jupyter-widgets/controls",
            "_view_module_version": "1.5.0",
            "_view_name": "HTMLView",
            "description": "",
            "description_tooltip": null,
            "layout": "IPY_MODEL_f21a81689f1044a68de77e207b0458ae",
            "placeholder": "​",
            "style": "IPY_MODEL_f1de68075a804280b47cdf59e56af39f",
            "value": "generation_config.json: 100%"
          }
        },
        "cca058eac92b465398ca2f114fc3d445": {
          "model_module": "@jupyter-widgets/controls",
          "model_name": "FloatProgressModel",
          "model_module_version": "1.5.0",
          "state": {
            "_dom_classes": [],
            "_model_module": "@jupyter-widgets/controls",
            "_model_module_version": "1.5.0",
            "_model_name": "FloatProgressModel",
            "_view_count": null,
            "_view_module": "@jupyter-widgets/controls",
            "_view_module_version": "1.5.0",
            "_view_name": "ProgressView",
            "bar_style": "success",
            "description": "",
            "description_tooltip": null,
            "layout": "IPY_MODEL_b2f41cab08724ff4a020f9a6be0bb960",
            "max": 124,
            "min": 0,
            "orientation": "horizontal",
            "style": "IPY_MODEL_d6e8b87883e34b52b7ca44ad60c13082",
            "value": 124
          }
        },
        "287e8e952f1b4fbc81bf8ec906a3fe09": {
          "model_module": "@jupyter-widgets/controls",
          "model_name": "HTMLModel",
          "model_module_version": "1.5.0",
          "state": {
            "_dom_classes": [],
            "_model_module": "@jupyter-widgets/controls",
            "_model_module_version": "1.5.0",
            "_model_name": "HTMLModel",
            "_view_count": null,
            "_view_module": "@jupyter-widgets/controls",
            "_view_module_version": "1.5.0",
            "_view_name": "HTMLView",
            "description": "",
            "description_tooltip": null,
            "layout": "IPY_MODEL_5cc34036d28c4421919ce0473d98c048",
            "placeholder": "​",
            "style": "IPY_MODEL_ae50c5d8619d43ad85a5737505f2a7be",
            "value": " 124/124 [00:00&lt;00:00, 7.87kB/s]"
          }
        },
        "f4fa7adae62b4ddb9701ceba5241c8ea": {
          "model_module": "@jupyter-widgets/base",
          "model_name": "LayoutModel",
          "model_module_version": "1.2.0",
          "state": {
            "_model_module": "@jupyter-widgets/base",
            "_model_module_version": "1.2.0",
            "_model_name": "LayoutModel",
            "_view_count": null,
            "_view_module": "@jupyter-widgets/base",
            "_view_module_version": "1.2.0",
            "_view_name": "LayoutView",
            "align_content": null,
            "align_items": null,
            "align_self": null,
            "border": null,
            "bottom": null,
            "display": null,
            "flex": null,
            "flex_flow": null,
            "grid_area": null,
            "grid_auto_columns": null,
            "grid_auto_flow": null,
            "grid_auto_rows": null,
            "grid_column": null,
            "grid_gap": null,
            "grid_row": null,
            "grid_template_areas": null,
            "grid_template_columns": null,
            "grid_template_rows": null,
            "height": null,
            "justify_content": null,
            "justify_items": null,
            "left": null,
            "margin": null,
            "max_height": null,
            "max_width": null,
            "min_height": null,
            "min_width": null,
            "object_fit": null,
            "object_position": null,
            "order": null,
            "overflow": null,
            "overflow_x": null,
            "overflow_y": null,
            "padding": null,
            "right": null,
            "top": null,
            "visibility": null,
            "width": null
          }
        },
        "f21a81689f1044a68de77e207b0458ae": {
          "model_module": "@jupyter-widgets/base",
          "model_name": "LayoutModel",
          "model_module_version": "1.2.0",
          "state": {
            "_model_module": "@jupyter-widgets/base",
            "_model_module_version": "1.2.0",
            "_model_name": "LayoutModel",
            "_view_count": null,
            "_view_module": "@jupyter-widgets/base",
            "_view_module_version": "1.2.0",
            "_view_name": "LayoutView",
            "align_content": null,
            "align_items": null,
            "align_self": null,
            "border": null,
            "bottom": null,
            "display": null,
            "flex": null,
            "flex_flow": null,
            "grid_area": null,
            "grid_auto_columns": null,
            "grid_auto_flow": null,
            "grid_auto_rows": null,
            "grid_column": null,
            "grid_gap": null,
            "grid_row": null,
            "grid_template_areas": null,
            "grid_template_columns": null,
            "grid_template_rows": null,
            "height": null,
            "justify_content": null,
            "justify_items": null,
            "left": null,
            "margin": null,
            "max_height": null,
            "max_width": null,
            "min_height": null,
            "min_width": null,
            "object_fit": null,
            "object_position": null,
            "order": null,
            "overflow": null,
            "overflow_x": null,
            "overflow_y": null,
            "padding": null,
            "right": null,
            "top": null,
            "visibility": null,
            "width": null
          }
        },
        "f1de68075a804280b47cdf59e56af39f": {
          "model_module": "@jupyter-widgets/controls",
          "model_name": "DescriptionStyleModel",
          "model_module_version": "1.5.0",
          "state": {
            "_model_module": "@jupyter-widgets/controls",
            "_model_module_version": "1.5.0",
            "_model_name": "DescriptionStyleModel",
            "_view_count": null,
            "_view_module": "@jupyter-widgets/base",
            "_view_module_version": "1.2.0",
            "_view_name": "StyleView",
            "description_width": ""
          }
        },
        "b2f41cab08724ff4a020f9a6be0bb960": {
          "model_module": "@jupyter-widgets/base",
          "model_name": "LayoutModel",
          "model_module_version": "1.2.0",
          "state": {
            "_model_module": "@jupyter-widgets/base",
            "_model_module_version": "1.2.0",
            "_model_name": "LayoutModel",
            "_view_count": null,
            "_view_module": "@jupyter-widgets/base",
            "_view_module_version": "1.2.0",
            "_view_name": "LayoutView",
            "align_content": null,
            "align_items": null,
            "align_self": null,
            "border": null,
            "bottom": null,
            "display": null,
            "flex": null,
            "flex_flow": null,
            "grid_area": null,
            "grid_auto_columns": null,
            "grid_auto_flow": null,
            "grid_auto_rows": null,
            "grid_column": null,
            "grid_gap": null,
            "grid_row": null,
            "grid_template_areas": null,
            "grid_template_columns": null,
            "grid_template_rows": null,
            "height": null,
            "justify_content": null,
            "justify_items": null,
            "left": null,
            "margin": null,
            "max_height": null,
            "max_width": null,
            "min_height": null,
            "min_width": null,
            "object_fit": null,
            "object_position": null,
            "order": null,
            "overflow": null,
            "overflow_x": null,
            "overflow_y": null,
            "padding": null,
            "right": null,
            "top": null,
            "visibility": null,
            "width": null
          }
        },
        "d6e8b87883e34b52b7ca44ad60c13082": {
          "model_module": "@jupyter-widgets/controls",
          "model_name": "ProgressStyleModel",
          "model_module_version": "1.5.0",
          "state": {
            "_model_module": "@jupyter-widgets/controls",
            "_model_module_version": "1.5.0",
            "_model_name": "ProgressStyleModel",
            "_view_count": null,
            "_view_module": "@jupyter-widgets/base",
            "_view_module_version": "1.2.0",
            "_view_name": "StyleView",
            "bar_color": null,
            "description_width": ""
          }
        },
        "5cc34036d28c4421919ce0473d98c048": {
          "model_module": "@jupyter-widgets/base",
          "model_name": "LayoutModel",
          "model_module_version": "1.2.0",
          "state": {
            "_model_module": "@jupyter-widgets/base",
            "_model_module_version": "1.2.0",
            "_model_name": "LayoutModel",
            "_view_count": null,
            "_view_module": "@jupyter-widgets/base",
            "_view_module_version": "1.2.0",
            "_view_name": "LayoutView",
            "align_content": null,
            "align_items": null,
            "align_self": null,
            "border": null,
            "bottom": null,
            "display": null,
            "flex": null,
            "flex_flow": null,
            "grid_area": null,
            "grid_auto_columns": null,
            "grid_auto_flow": null,
            "grid_auto_rows": null,
            "grid_column": null,
            "grid_gap": null,
            "grid_row": null,
            "grid_template_areas": null,
            "grid_template_columns": null,
            "grid_template_rows": null,
            "height": null,
            "justify_content": null,
            "justify_items": null,
            "left": null,
            "margin": null,
            "max_height": null,
            "max_width": null,
            "min_height": null,
            "min_width": null,
            "object_fit": null,
            "object_position": null,
            "order": null,
            "overflow": null,
            "overflow_x": null,
            "overflow_y": null,
            "padding": null,
            "right": null,
            "top": null,
            "visibility": null,
            "width": null
          }
        },
        "ae50c5d8619d43ad85a5737505f2a7be": {
          "model_module": "@jupyter-widgets/controls",
          "model_name": "DescriptionStyleModel",
          "model_module_version": "1.5.0",
          "state": {
            "_model_module": "@jupyter-widgets/controls",
            "_model_module_version": "1.5.0",
            "_model_name": "DescriptionStyleModel",
            "_view_count": null,
            "_view_module": "@jupyter-widgets/base",
            "_view_module_version": "1.2.0",
            "_view_name": "StyleView",
            "description_width": ""
          }
        },
        "fe4d7ae1a7d44a268803156e87c72365": {
          "model_module": "@jupyter-widgets/controls",
          "model_name": "HBoxModel",
          "model_module_version": "1.5.0",
          "state": {
            "_dom_classes": [],
            "_model_module": "@jupyter-widgets/controls",
            "_model_module_version": "1.5.0",
            "_model_name": "HBoxModel",
            "_view_count": null,
            "_view_module": "@jupyter-widgets/controls",
            "_view_module_version": "1.5.0",
            "_view_name": "HBoxView",
            "box_style": "",
            "children": [
              "IPY_MODEL_9d2edbfc7f22413cb3b5de9b5c3850ab",
              "IPY_MODEL_64d3b72e21484fc88791b77ab0a785ba",
              "IPY_MODEL_3802e998380e432b99bf616155db2ef0"
            ],
            "layout": "IPY_MODEL_5de4f8daeca74812b65ee333457c8f33"
          }
        },
        "9d2edbfc7f22413cb3b5de9b5c3850ab": {
          "model_module": "@jupyter-widgets/controls",
          "model_name": "HTMLModel",
          "model_module_version": "1.5.0",
          "state": {
            "_dom_classes": [],
            "_model_module": "@jupyter-widgets/controls",
            "_model_module_version": "1.5.0",
            "_model_name": "HTMLModel",
            "_view_count": null,
            "_view_module": "@jupyter-widgets/controls",
            "_view_module_version": "1.5.0",
            "_view_name": "HTMLView",
            "description": "",
            "description_tooltip": null,
            "layout": "IPY_MODEL_5ec9c0aedf9b44b8be05da41b97fad8e",
            "placeholder": "​",
            "style": "IPY_MODEL_6fd7547e916945ceb1a17e6ff547927d",
            "value": "tokenizer_config.json: 100%"
          }
        },
        "64d3b72e21484fc88791b77ab0a785ba": {
          "model_module": "@jupyter-widgets/controls",
          "model_name": "FloatProgressModel",
          "model_module_version": "1.5.0",
          "state": {
            "_dom_classes": [],
            "_model_module": "@jupyter-widgets/controls",
            "_model_module_version": "1.5.0",
            "_model_name": "FloatProgressModel",
            "_view_count": null,
            "_view_module": "@jupyter-widgets/controls",
            "_view_module_version": "1.5.0",
            "_view_name": "ProgressView",
            "bar_style": "success",
            "description": "",
            "description_tooltip": null,
            "layout": "IPY_MODEL_38317087084b46f2a8e49c91b7899ae6",
            "max": 26,
            "min": 0,
            "orientation": "horizontal",
            "style": "IPY_MODEL_95298eb552bb4dc98dd69240f90f0c93",
            "value": 26
          }
        },
        "3802e998380e432b99bf616155db2ef0": {
          "model_module": "@jupyter-widgets/controls",
          "model_name": "HTMLModel",
          "model_module_version": "1.5.0",
          "state": {
            "_dom_classes": [],
            "_model_module": "@jupyter-widgets/controls",
            "_model_module_version": "1.5.0",
            "_model_name": "HTMLModel",
            "_view_count": null,
            "_view_module": "@jupyter-widgets/controls",
            "_view_module_version": "1.5.0",
            "_view_name": "HTMLView",
            "description": "",
            "description_tooltip": null,
            "layout": "IPY_MODEL_58ec8b8068794aefa5fdeb12268f7150",
            "placeholder": "​",
            "style": "IPY_MODEL_60e958d189d9402e910ab3a18abb5059",
            "value": " 26.0/26.0 [00:00&lt;00:00, 2.09kB/s]"
          }
        },
        "5de4f8daeca74812b65ee333457c8f33": {
          "model_module": "@jupyter-widgets/base",
          "model_name": "LayoutModel",
          "model_module_version": "1.2.0",
          "state": {
            "_model_module": "@jupyter-widgets/base",
            "_model_module_version": "1.2.0",
            "_model_name": "LayoutModel",
            "_view_count": null,
            "_view_module": "@jupyter-widgets/base",
            "_view_module_version": "1.2.0",
            "_view_name": "LayoutView",
            "align_content": null,
            "align_items": null,
            "align_self": null,
            "border": null,
            "bottom": null,
            "display": null,
            "flex": null,
            "flex_flow": null,
            "grid_area": null,
            "grid_auto_columns": null,
            "grid_auto_flow": null,
            "grid_auto_rows": null,
            "grid_column": null,
            "grid_gap": null,
            "grid_row": null,
            "grid_template_areas": null,
            "grid_template_columns": null,
            "grid_template_rows": null,
            "height": null,
            "justify_content": null,
            "justify_items": null,
            "left": null,
            "margin": null,
            "max_height": null,
            "max_width": null,
            "min_height": null,
            "min_width": null,
            "object_fit": null,
            "object_position": null,
            "order": null,
            "overflow": null,
            "overflow_x": null,
            "overflow_y": null,
            "padding": null,
            "right": null,
            "top": null,
            "visibility": null,
            "width": null
          }
        },
        "5ec9c0aedf9b44b8be05da41b97fad8e": {
          "model_module": "@jupyter-widgets/base",
          "model_name": "LayoutModel",
          "model_module_version": "1.2.0",
          "state": {
            "_model_module": "@jupyter-widgets/base",
            "_model_module_version": "1.2.0",
            "_model_name": "LayoutModel",
            "_view_count": null,
            "_view_module": "@jupyter-widgets/base",
            "_view_module_version": "1.2.0",
            "_view_name": "LayoutView",
            "align_content": null,
            "align_items": null,
            "align_self": null,
            "border": null,
            "bottom": null,
            "display": null,
            "flex": null,
            "flex_flow": null,
            "grid_area": null,
            "grid_auto_columns": null,
            "grid_auto_flow": null,
            "grid_auto_rows": null,
            "grid_column": null,
            "grid_gap": null,
            "grid_row": null,
            "grid_template_areas": null,
            "grid_template_columns": null,
            "grid_template_rows": null,
            "height": null,
            "justify_content": null,
            "justify_items": null,
            "left": null,
            "margin": null,
            "max_height": null,
            "max_width": null,
            "min_height": null,
            "min_width": null,
            "object_fit": null,
            "object_position": null,
            "order": null,
            "overflow": null,
            "overflow_x": null,
            "overflow_y": null,
            "padding": null,
            "right": null,
            "top": null,
            "visibility": null,
            "width": null
          }
        },
        "6fd7547e916945ceb1a17e6ff547927d": {
          "model_module": "@jupyter-widgets/controls",
          "model_name": "DescriptionStyleModel",
          "model_module_version": "1.5.0",
          "state": {
            "_model_module": "@jupyter-widgets/controls",
            "_model_module_version": "1.5.0",
            "_model_name": "DescriptionStyleModel",
            "_view_count": null,
            "_view_module": "@jupyter-widgets/base",
            "_view_module_version": "1.2.0",
            "_view_name": "StyleView",
            "description_width": ""
          }
        },
        "38317087084b46f2a8e49c91b7899ae6": {
          "model_module": "@jupyter-widgets/base",
          "model_name": "LayoutModel",
          "model_module_version": "1.2.0",
          "state": {
            "_model_module": "@jupyter-widgets/base",
            "_model_module_version": "1.2.0",
            "_model_name": "LayoutModel",
            "_view_count": null,
            "_view_module": "@jupyter-widgets/base",
            "_view_module_version": "1.2.0",
            "_view_name": "LayoutView",
            "align_content": null,
            "align_items": null,
            "align_self": null,
            "border": null,
            "bottom": null,
            "display": null,
            "flex": null,
            "flex_flow": null,
            "grid_area": null,
            "grid_auto_columns": null,
            "grid_auto_flow": null,
            "grid_auto_rows": null,
            "grid_column": null,
            "grid_gap": null,
            "grid_row": null,
            "grid_template_areas": null,
            "grid_template_columns": null,
            "grid_template_rows": null,
            "height": null,
            "justify_content": null,
            "justify_items": null,
            "left": null,
            "margin": null,
            "max_height": null,
            "max_width": null,
            "min_height": null,
            "min_width": null,
            "object_fit": null,
            "object_position": null,
            "order": null,
            "overflow": null,
            "overflow_x": null,
            "overflow_y": null,
            "padding": null,
            "right": null,
            "top": null,
            "visibility": null,
            "width": null
          }
        },
        "95298eb552bb4dc98dd69240f90f0c93": {
          "model_module": "@jupyter-widgets/controls",
          "model_name": "ProgressStyleModel",
          "model_module_version": "1.5.0",
          "state": {
            "_model_module": "@jupyter-widgets/controls",
            "_model_module_version": "1.5.0",
            "_model_name": "ProgressStyleModel",
            "_view_count": null,
            "_view_module": "@jupyter-widgets/base",
            "_view_module_version": "1.2.0",
            "_view_name": "StyleView",
            "bar_color": null,
            "description_width": ""
          }
        },
        "58ec8b8068794aefa5fdeb12268f7150": {
          "model_module": "@jupyter-widgets/base",
          "model_name": "LayoutModel",
          "model_module_version": "1.2.0",
          "state": {
            "_model_module": "@jupyter-widgets/base",
            "_model_module_version": "1.2.0",
            "_model_name": "LayoutModel",
            "_view_count": null,
            "_view_module": "@jupyter-widgets/base",
            "_view_module_version": "1.2.0",
            "_view_name": "LayoutView",
            "align_content": null,
            "align_items": null,
            "align_self": null,
            "border": null,
            "bottom": null,
            "display": null,
            "flex": null,
            "flex_flow": null,
            "grid_area": null,
            "grid_auto_columns": null,
            "grid_auto_flow": null,
            "grid_auto_rows": null,
            "grid_column": null,
            "grid_gap": null,
            "grid_row": null,
            "grid_template_areas": null,
            "grid_template_columns": null,
            "grid_template_rows": null,
            "height": null,
            "justify_content": null,
            "justify_items": null,
            "left": null,
            "margin": null,
            "max_height": null,
            "max_width": null,
            "min_height": null,
            "min_width": null,
            "object_fit": null,
            "object_position": null,
            "order": null,
            "overflow": null,
            "overflow_x": null,
            "overflow_y": null,
            "padding": null,
            "right": null,
            "top": null,
            "visibility": null,
            "width": null
          }
        },
        "60e958d189d9402e910ab3a18abb5059": {
          "model_module": "@jupyter-widgets/controls",
          "model_name": "DescriptionStyleModel",
          "model_module_version": "1.5.0",
          "state": {
            "_model_module": "@jupyter-widgets/controls",
            "_model_module_version": "1.5.0",
            "_model_name": "DescriptionStyleModel",
            "_view_count": null,
            "_view_module": "@jupyter-widgets/base",
            "_view_module_version": "1.2.0",
            "_view_name": "StyleView",
            "description_width": ""
          }
        },
        "e5d7a6fad8094fd48898cf50273d8e83": {
          "model_module": "@jupyter-widgets/controls",
          "model_name": "HBoxModel",
          "model_module_version": "1.5.0",
          "state": {
            "_dom_classes": [],
            "_model_module": "@jupyter-widgets/controls",
            "_model_module_version": "1.5.0",
            "_model_name": "HBoxModel",
            "_view_count": null,
            "_view_module": "@jupyter-widgets/controls",
            "_view_module_version": "1.5.0",
            "_view_name": "HBoxView",
            "box_style": "",
            "children": [
              "IPY_MODEL_c3b81b40654b49aa87bbf6dd56844758",
              "IPY_MODEL_6a532fad6ef9411c9ebd662131368b16",
              "IPY_MODEL_a3795d53712d4c59b4591e785060236a"
            ],
            "layout": "IPY_MODEL_17fb291d60ce4fafbf18304b3721bcd8"
          }
        },
        "c3b81b40654b49aa87bbf6dd56844758": {
          "model_module": "@jupyter-widgets/controls",
          "model_name": "HTMLModel",
          "model_module_version": "1.5.0",
          "state": {
            "_dom_classes": [],
            "_model_module": "@jupyter-widgets/controls",
            "_model_module_version": "1.5.0",
            "_model_name": "HTMLModel",
            "_view_count": null,
            "_view_module": "@jupyter-widgets/controls",
            "_view_module_version": "1.5.0",
            "_view_name": "HTMLView",
            "description": "",
            "description_tooltip": null,
            "layout": "IPY_MODEL_43d224c78f9c480c854a0c1344396480",
            "placeholder": "​",
            "style": "IPY_MODEL_8c5840b066b74d2988ef520072e0b33a",
            "value": "vocab.json: 100%"
          }
        },
        "6a532fad6ef9411c9ebd662131368b16": {
          "model_module": "@jupyter-widgets/controls",
          "model_name": "FloatProgressModel",
          "model_module_version": "1.5.0",
          "state": {
            "_dom_classes": [],
            "_model_module": "@jupyter-widgets/controls",
            "_model_module_version": "1.5.0",
            "_model_name": "FloatProgressModel",
            "_view_count": null,
            "_view_module": "@jupyter-widgets/controls",
            "_view_module_version": "1.5.0",
            "_view_name": "ProgressView",
            "bar_style": "success",
            "description": "",
            "description_tooltip": null,
            "layout": "IPY_MODEL_423a7c1a95da44268dc7fc499cf6d203",
            "max": 1042301,
            "min": 0,
            "orientation": "horizontal",
            "style": "IPY_MODEL_a4afab7f08a94ec68a32b85093756715",
            "value": 1042301
          }
        },
        "a3795d53712d4c59b4591e785060236a": {
          "model_module": "@jupyter-widgets/controls",
          "model_name": "HTMLModel",
          "model_module_version": "1.5.0",
          "state": {
            "_dom_classes": [],
            "_model_module": "@jupyter-widgets/controls",
            "_model_module_version": "1.5.0",
            "_model_name": "HTMLModel",
            "_view_count": null,
            "_view_module": "@jupyter-widgets/controls",
            "_view_module_version": "1.5.0",
            "_view_name": "HTMLView",
            "description": "",
            "description_tooltip": null,
            "layout": "IPY_MODEL_257dbc407e044e0ca8ba3c17121480a5",
            "placeholder": "​",
            "style": "IPY_MODEL_28170fa399584b6aa29e4c1229d5d54f",
            "value": " 1.04M/1.04M [00:00&lt;00:00, 1.22MB/s]"
          }
        },
        "17fb291d60ce4fafbf18304b3721bcd8": {
          "model_module": "@jupyter-widgets/base",
          "model_name": "LayoutModel",
          "model_module_version": "1.2.0",
          "state": {
            "_model_module": "@jupyter-widgets/base",
            "_model_module_version": "1.2.0",
            "_model_name": "LayoutModel",
            "_view_count": null,
            "_view_module": "@jupyter-widgets/base",
            "_view_module_version": "1.2.0",
            "_view_name": "LayoutView",
            "align_content": null,
            "align_items": null,
            "align_self": null,
            "border": null,
            "bottom": null,
            "display": null,
            "flex": null,
            "flex_flow": null,
            "grid_area": null,
            "grid_auto_columns": null,
            "grid_auto_flow": null,
            "grid_auto_rows": null,
            "grid_column": null,
            "grid_gap": null,
            "grid_row": null,
            "grid_template_areas": null,
            "grid_template_columns": null,
            "grid_template_rows": null,
            "height": null,
            "justify_content": null,
            "justify_items": null,
            "left": null,
            "margin": null,
            "max_height": null,
            "max_width": null,
            "min_height": null,
            "min_width": null,
            "object_fit": null,
            "object_position": null,
            "order": null,
            "overflow": null,
            "overflow_x": null,
            "overflow_y": null,
            "padding": null,
            "right": null,
            "top": null,
            "visibility": null,
            "width": null
          }
        },
        "43d224c78f9c480c854a0c1344396480": {
          "model_module": "@jupyter-widgets/base",
          "model_name": "LayoutModel",
          "model_module_version": "1.2.0",
          "state": {
            "_model_module": "@jupyter-widgets/base",
            "_model_module_version": "1.2.0",
            "_model_name": "LayoutModel",
            "_view_count": null,
            "_view_module": "@jupyter-widgets/base",
            "_view_module_version": "1.2.0",
            "_view_name": "LayoutView",
            "align_content": null,
            "align_items": null,
            "align_self": null,
            "border": null,
            "bottom": null,
            "display": null,
            "flex": null,
            "flex_flow": null,
            "grid_area": null,
            "grid_auto_columns": null,
            "grid_auto_flow": null,
            "grid_auto_rows": null,
            "grid_column": null,
            "grid_gap": null,
            "grid_row": null,
            "grid_template_areas": null,
            "grid_template_columns": null,
            "grid_template_rows": null,
            "height": null,
            "justify_content": null,
            "justify_items": null,
            "left": null,
            "margin": null,
            "max_height": null,
            "max_width": null,
            "min_height": null,
            "min_width": null,
            "object_fit": null,
            "object_position": null,
            "order": null,
            "overflow": null,
            "overflow_x": null,
            "overflow_y": null,
            "padding": null,
            "right": null,
            "top": null,
            "visibility": null,
            "width": null
          }
        },
        "8c5840b066b74d2988ef520072e0b33a": {
          "model_module": "@jupyter-widgets/controls",
          "model_name": "DescriptionStyleModel",
          "model_module_version": "1.5.0",
          "state": {
            "_model_module": "@jupyter-widgets/controls",
            "_model_module_version": "1.5.0",
            "_model_name": "DescriptionStyleModel",
            "_view_count": null,
            "_view_module": "@jupyter-widgets/base",
            "_view_module_version": "1.2.0",
            "_view_name": "StyleView",
            "description_width": ""
          }
        },
        "423a7c1a95da44268dc7fc499cf6d203": {
          "model_module": "@jupyter-widgets/base",
          "model_name": "LayoutModel",
          "model_module_version": "1.2.0",
          "state": {
            "_model_module": "@jupyter-widgets/base",
            "_model_module_version": "1.2.0",
            "_model_name": "LayoutModel",
            "_view_count": null,
            "_view_module": "@jupyter-widgets/base",
            "_view_module_version": "1.2.0",
            "_view_name": "LayoutView",
            "align_content": null,
            "align_items": null,
            "align_self": null,
            "border": null,
            "bottom": null,
            "display": null,
            "flex": null,
            "flex_flow": null,
            "grid_area": null,
            "grid_auto_columns": null,
            "grid_auto_flow": null,
            "grid_auto_rows": null,
            "grid_column": null,
            "grid_gap": null,
            "grid_row": null,
            "grid_template_areas": null,
            "grid_template_columns": null,
            "grid_template_rows": null,
            "height": null,
            "justify_content": null,
            "justify_items": null,
            "left": null,
            "margin": null,
            "max_height": null,
            "max_width": null,
            "min_height": null,
            "min_width": null,
            "object_fit": null,
            "object_position": null,
            "order": null,
            "overflow": null,
            "overflow_x": null,
            "overflow_y": null,
            "padding": null,
            "right": null,
            "top": null,
            "visibility": null,
            "width": null
          }
        },
        "a4afab7f08a94ec68a32b85093756715": {
          "model_module": "@jupyter-widgets/controls",
          "model_name": "ProgressStyleModel",
          "model_module_version": "1.5.0",
          "state": {
            "_model_module": "@jupyter-widgets/controls",
            "_model_module_version": "1.5.0",
            "_model_name": "ProgressStyleModel",
            "_view_count": null,
            "_view_module": "@jupyter-widgets/base",
            "_view_module_version": "1.2.0",
            "_view_name": "StyleView",
            "bar_color": null,
            "description_width": ""
          }
        },
        "257dbc407e044e0ca8ba3c17121480a5": {
          "model_module": "@jupyter-widgets/base",
          "model_name": "LayoutModel",
          "model_module_version": "1.2.0",
          "state": {
            "_model_module": "@jupyter-widgets/base",
            "_model_module_version": "1.2.0",
            "_model_name": "LayoutModel",
            "_view_count": null,
            "_view_module": "@jupyter-widgets/base",
            "_view_module_version": "1.2.0",
            "_view_name": "LayoutView",
            "align_content": null,
            "align_items": null,
            "align_self": null,
            "border": null,
            "bottom": null,
            "display": null,
            "flex": null,
            "flex_flow": null,
            "grid_area": null,
            "grid_auto_columns": null,
            "grid_auto_flow": null,
            "grid_auto_rows": null,
            "grid_column": null,
            "grid_gap": null,
            "grid_row": null,
            "grid_template_areas": null,
            "grid_template_columns": null,
            "grid_template_rows": null,
            "height": null,
            "justify_content": null,
            "justify_items": null,
            "left": null,
            "margin": null,
            "max_height": null,
            "max_width": null,
            "min_height": null,
            "min_width": null,
            "object_fit": null,
            "object_position": null,
            "order": null,
            "overflow": null,
            "overflow_x": null,
            "overflow_y": null,
            "padding": null,
            "right": null,
            "top": null,
            "visibility": null,
            "width": null
          }
        },
        "28170fa399584b6aa29e4c1229d5d54f": {
          "model_module": "@jupyter-widgets/controls",
          "model_name": "DescriptionStyleModel",
          "model_module_version": "1.5.0",
          "state": {
            "_model_module": "@jupyter-widgets/controls",
            "_model_module_version": "1.5.0",
            "_model_name": "DescriptionStyleModel",
            "_view_count": null,
            "_view_module": "@jupyter-widgets/base",
            "_view_module_version": "1.2.0",
            "_view_name": "StyleView",
            "description_width": ""
          }
        },
        "92ca3fd4fc8a47eba928640281d7fb60": {
          "model_module": "@jupyter-widgets/controls",
          "model_name": "HBoxModel",
          "model_module_version": "1.5.0",
          "state": {
            "_dom_classes": [],
            "_model_module": "@jupyter-widgets/controls",
            "_model_module_version": "1.5.0",
            "_model_name": "HBoxModel",
            "_view_count": null,
            "_view_module": "@jupyter-widgets/controls",
            "_view_module_version": "1.5.0",
            "_view_name": "HBoxView",
            "box_style": "",
            "children": [
              "IPY_MODEL_c15925df59e84786966c3bd45a6c293f",
              "IPY_MODEL_010f4b0f28d84e42b498203040e738d6",
              "IPY_MODEL_0bbe76c7b8cd4fed9bf8b30de610a915"
            ],
            "layout": "IPY_MODEL_bef6d5b84ca54015b19849e7a91b42f9"
          }
        },
        "c15925df59e84786966c3bd45a6c293f": {
          "model_module": "@jupyter-widgets/controls",
          "model_name": "HTMLModel",
          "model_module_version": "1.5.0",
          "state": {
            "_dom_classes": [],
            "_model_module": "@jupyter-widgets/controls",
            "_model_module_version": "1.5.0",
            "_model_name": "HTMLModel",
            "_view_count": null,
            "_view_module": "@jupyter-widgets/controls",
            "_view_module_version": "1.5.0",
            "_view_name": "HTMLView",
            "description": "",
            "description_tooltip": null,
            "layout": "IPY_MODEL_ab33306e3bde4ec4a83ffafe03d327f7",
            "placeholder": "​",
            "style": "IPY_MODEL_9ae5c1a926ea40b3ada87baf26c50904",
            "value": "merges.txt: 100%"
          }
        },
        "010f4b0f28d84e42b498203040e738d6": {
          "model_module": "@jupyter-widgets/controls",
          "model_name": "FloatProgressModel",
          "model_module_version": "1.5.0",
          "state": {
            "_dom_classes": [],
            "_model_module": "@jupyter-widgets/controls",
            "_model_module_version": "1.5.0",
            "_model_name": "FloatProgressModel",
            "_view_count": null,
            "_view_module": "@jupyter-widgets/controls",
            "_view_module_version": "1.5.0",
            "_view_name": "ProgressView",
            "bar_style": "success",
            "description": "",
            "description_tooltip": null,
            "layout": "IPY_MODEL_9024b43d4cbe46829f1d33d751292d55",
            "max": 456318,
            "min": 0,
            "orientation": "horizontal",
            "style": "IPY_MODEL_b550b348f7194970b3d96914f66bca5f",
            "value": 456318
          }
        },
        "0bbe76c7b8cd4fed9bf8b30de610a915": {
          "model_module": "@jupyter-widgets/controls",
          "model_name": "HTMLModel",
          "model_module_version": "1.5.0",
          "state": {
            "_dom_classes": [],
            "_model_module": "@jupyter-widgets/controls",
            "_model_module_version": "1.5.0",
            "_model_name": "HTMLModel",
            "_view_count": null,
            "_view_module": "@jupyter-widgets/controls",
            "_view_module_version": "1.5.0",
            "_view_name": "HTMLView",
            "description": "",
            "description_tooltip": null,
            "layout": "IPY_MODEL_8061f7a4cdab4c118504541229cbf1bc",
            "placeholder": "​",
            "style": "IPY_MODEL_9964300a7fa4473b9bb4256b05a3abfa",
            "value": " 456k/456k [00:00&lt;00:00, 27.2MB/s]"
          }
        },
        "bef6d5b84ca54015b19849e7a91b42f9": {
          "model_module": "@jupyter-widgets/base",
          "model_name": "LayoutModel",
          "model_module_version": "1.2.0",
          "state": {
            "_model_module": "@jupyter-widgets/base",
            "_model_module_version": "1.2.0",
            "_model_name": "LayoutModel",
            "_view_count": null,
            "_view_module": "@jupyter-widgets/base",
            "_view_module_version": "1.2.0",
            "_view_name": "LayoutView",
            "align_content": null,
            "align_items": null,
            "align_self": null,
            "border": null,
            "bottom": null,
            "display": null,
            "flex": null,
            "flex_flow": null,
            "grid_area": null,
            "grid_auto_columns": null,
            "grid_auto_flow": null,
            "grid_auto_rows": null,
            "grid_column": null,
            "grid_gap": null,
            "grid_row": null,
            "grid_template_areas": null,
            "grid_template_columns": null,
            "grid_template_rows": null,
            "height": null,
            "justify_content": null,
            "justify_items": null,
            "left": null,
            "margin": null,
            "max_height": null,
            "max_width": null,
            "min_height": null,
            "min_width": null,
            "object_fit": null,
            "object_position": null,
            "order": null,
            "overflow": null,
            "overflow_x": null,
            "overflow_y": null,
            "padding": null,
            "right": null,
            "top": null,
            "visibility": null,
            "width": null
          }
        },
        "ab33306e3bde4ec4a83ffafe03d327f7": {
          "model_module": "@jupyter-widgets/base",
          "model_name": "LayoutModel",
          "model_module_version": "1.2.0",
          "state": {
            "_model_module": "@jupyter-widgets/base",
            "_model_module_version": "1.2.0",
            "_model_name": "LayoutModel",
            "_view_count": null,
            "_view_module": "@jupyter-widgets/base",
            "_view_module_version": "1.2.0",
            "_view_name": "LayoutView",
            "align_content": null,
            "align_items": null,
            "align_self": null,
            "border": null,
            "bottom": null,
            "display": null,
            "flex": null,
            "flex_flow": null,
            "grid_area": null,
            "grid_auto_columns": null,
            "grid_auto_flow": null,
            "grid_auto_rows": null,
            "grid_column": null,
            "grid_gap": null,
            "grid_row": null,
            "grid_template_areas": null,
            "grid_template_columns": null,
            "grid_template_rows": null,
            "height": null,
            "justify_content": null,
            "justify_items": null,
            "left": null,
            "margin": null,
            "max_height": null,
            "max_width": null,
            "min_height": null,
            "min_width": null,
            "object_fit": null,
            "object_position": null,
            "order": null,
            "overflow": null,
            "overflow_x": null,
            "overflow_y": null,
            "padding": null,
            "right": null,
            "top": null,
            "visibility": null,
            "width": null
          }
        },
        "9ae5c1a926ea40b3ada87baf26c50904": {
          "model_module": "@jupyter-widgets/controls",
          "model_name": "DescriptionStyleModel",
          "model_module_version": "1.5.0",
          "state": {
            "_model_module": "@jupyter-widgets/controls",
            "_model_module_version": "1.5.0",
            "_model_name": "DescriptionStyleModel",
            "_view_count": null,
            "_view_module": "@jupyter-widgets/base",
            "_view_module_version": "1.2.0",
            "_view_name": "StyleView",
            "description_width": ""
          }
        },
        "9024b43d4cbe46829f1d33d751292d55": {
          "model_module": "@jupyter-widgets/base",
          "model_name": "LayoutModel",
          "model_module_version": "1.2.0",
          "state": {
            "_model_module": "@jupyter-widgets/base",
            "_model_module_version": "1.2.0",
            "_model_name": "LayoutModel",
            "_view_count": null,
            "_view_module": "@jupyter-widgets/base",
            "_view_module_version": "1.2.0",
            "_view_name": "LayoutView",
            "align_content": null,
            "align_items": null,
            "align_self": null,
            "border": null,
            "bottom": null,
            "display": null,
            "flex": null,
            "flex_flow": null,
            "grid_area": null,
            "grid_auto_columns": null,
            "grid_auto_flow": null,
            "grid_auto_rows": null,
            "grid_column": null,
            "grid_gap": null,
            "grid_row": null,
            "grid_template_areas": null,
            "grid_template_columns": null,
            "grid_template_rows": null,
            "height": null,
            "justify_content": null,
            "justify_items": null,
            "left": null,
            "margin": null,
            "max_height": null,
            "max_width": null,
            "min_height": null,
            "min_width": null,
            "object_fit": null,
            "object_position": null,
            "order": null,
            "overflow": null,
            "overflow_x": null,
            "overflow_y": null,
            "padding": null,
            "right": null,
            "top": null,
            "visibility": null,
            "width": null
          }
        },
        "b550b348f7194970b3d96914f66bca5f": {
          "model_module": "@jupyter-widgets/controls",
          "model_name": "ProgressStyleModel",
          "model_module_version": "1.5.0",
          "state": {
            "_model_module": "@jupyter-widgets/controls",
            "_model_module_version": "1.5.0",
            "_model_name": "ProgressStyleModel",
            "_view_count": null,
            "_view_module": "@jupyter-widgets/base",
            "_view_module_version": "1.2.0",
            "_view_name": "StyleView",
            "bar_color": null,
            "description_width": ""
          }
        },
        "8061f7a4cdab4c118504541229cbf1bc": {
          "model_module": "@jupyter-widgets/base",
          "model_name": "LayoutModel",
          "model_module_version": "1.2.0",
          "state": {
            "_model_module": "@jupyter-widgets/base",
            "_model_module_version": "1.2.0",
            "_model_name": "LayoutModel",
            "_view_count": null,
            "_view_module": "@jupyter-widgets/base",
            "_view_module_version": "1.2.0",
            "_view_name": "LayoutView",
            "align_content": null,
            "align_items": null,
            "align_self": null,
            "border": null,
            "bottom": null,
            "display": null,
            "flex": null,
            "flex_flow": null,
            "grid_area": null,
            "grid_auto_columns": null,
            "grid_auto_flow": null,
            "grid_auto_rows": null,
            "grid_column": null,
            "grid_gap": null,
            "grid_row": null,
            "grid_template_areas": null,
            "grid_template_columns": null,
            "grid_template_rows": null,
            "height": null,
            "justify_content": null,
            "justify_items": null,
            "left": null,
            "margin": null,
            "max_height": null,
            "max_width": null,
            "min_height": null,
            "min_width": null,
            "object_fit": null,
            "object_position": null,
            "order": null,
            "overflow": null,
            "overflow_x": null,
            "overflow_y": null,
            "padding": null,
            "right": null,
            "top": null,
            "visibility": null,
            "width": null
          }
        },
        "9964300a7fa4473b9bb4256b05a3abfa": {
          "model_module": "@jupyter-widgets/controls",
          "model_name": "DescriptionStyleModel",
          "model_module_version": "1.5.0",
          "state": {
            "_model_module": "@jupyter-widgets/controls",
            "_model_module_version": "1.5.0",
            "_model_name": "DescriptionStyleModel",
            "_view_count": null,
            "_view_module": "@jupyter-widgets/base",
            "_view_module_version": "1.2.0",
            "_view_name": "StyleView",
            "description_width": ""
          }
        },
        "d3f9b20618d54b06bfd666357320a8e4": {
          "model_module": "@jupyter-widgets/controls",
          "model_name": "HBoxModel",
          "model_module_version": "1.5.0",
          "state": {
            "_dom_classes": [],
            "_model_module": "@jupyter-widgets/controls",
            "_model_module_version": "1.5.0",
            "_model_name": "HBoxModel",
            "_view_count": null,
            "_view_module": "@jupyter-widgets/controls",
            "_view_module_version": "1.5.0",
            "_view_name": "HBoxView",
            "box_style": "",
            "children": [
              "IPY_MODEL_6e1b711dfd1b44839aad46b229b2c881",
              "IPY_MODEL_ee7b937acde94cd19e241aa03c3ca2bc",
              "IPY_MODEL_bb6bbf5984c44fa1a29d7e31b81ee9f3"
            ],
            "layout": "IPY_MODEL_95f20d0a9d294f888badc6d4db996648"
          }
        },
        "6e1b711dfd1b44839aad46b229b2c881": {
          "model_module": "@jupyter-widgets/controls",
          "model_name": "HTMLModel",
          "model_module_version": "1.5.0",
          "state": {
            "_dom_classes": [],
            "_model_module": "@jupyter-widgets/controls",
            "_model_module_version": "1.5.0",
            "_model_name": "HTMLModel",
            "_view_count": null,
            "_view_module": "@jupyter-widgets/controls",
            "_view_module_version": "1.5.0",
            "_view_name": "HTMLView",
            "description": "",
            "description_tooltip": null,
            "layout": "IPY_MODEL_2997b99610284c40bc1c915ecf77934f",
            "placeholder": "​",
            "style": "IPY_MODEL_3dd247e44bf2437f922da5be5b77239f",
            "value": "tokenizer.json: 100%"
          }
        },
        "ee7b937acde94cd19e241aa03c3ca2bc": {
          "model_module": "@jupyter-widgets/controls",
          "model_name": "FloatProgressModel",
          "model_module_version": "1.5.0",
          "state": {
            "_dom_classes": [],
            "_model_module": "@jupyter-widgets/controls",
            "_model_module_version": "1.5.0",
            "_model_name": "FloatProgressModel",
            "_view_count": null,
            "_view_module": "@jupyter-widgets/controls",
            "_view_module_version": "1.5.0",
            "_view_name": "ProgressView",
            "bar_style": "success",
            "description": "",
            "description_tooltip": null,
            "layout": "IPY_MODEL_a5800724023d4f96a76bd88a816e6679",
            "max": 1355256,
            "min": 0,
            "orientation": "horizontal",
            "style": "IPY_MODEL_2cb907d4210447c89b874ad501f001b7",
            "value": 1355256
          }
        },
        "bb6bbf5984c44fa1a29d7e31b81ee9f3": {
          "model_module": "@jupyter-widgets/controls",
          "model_name": "HTMLModel",
          "model_module_version": "1.5.0",
          "state": {
            "_dom_classes": [],
            "_model_module": "@jupyter-widgets/controls",
            "_model_module_version": "1.5.0",
            "_model_name": "HTMLModel",
            "_view_count": null,
            "_view_module": "@jupyter-widgets/controls",
            "_view_module_version": "1.5.0",
            "_view_name": "HTMLView",
            "description": "",
            "description_tooltip": null,
            "layout": "IPY_MODEL_c70e5e7381b24ec283c6322389038b54",
            "placeholder": "​",
            "style": "IPY_MODEL_08858d031b9a4d77a94a170d85632184",
            "value": " 1.36M/1.36M [00:00&lt;00:00, 3.08MB/s]"
          }
        },
        "95f20d0a9d294f888badc6d4db996648": {
          "model_module": "@jupyter-widgets/base",
          "model_name": "LayoutModel",
          "model_module_version": "1.2.0",
          "state": {
            "_model_module": "@jupyter-widgets/base",
            "_model_module_version": "1.2.0",
            "_model_name": "LayoutModel",
            "_view_count": null,
            "_view_module": "@jupyter-widgets/base",
            "_view_module_version": "1.2.0",
            "_view_name": "LayoutView",
            "align_content": null,
            "align_items": null,
            "align_self": null,
            "border": null,
            "bottom": null,
            "display": null,
            "flex": null,
            "flex_flow": null,
            "grid_area": null,
            "grid_auto_columns": null,
            "grid_auto_flow": null,
            "grid_auto_rows": null,
            "grid_column": null,
            "grid_gap": null,
            "grid_row": null,
            "grid_template_areas": null,
            "grid_template_columns": null,
            "grid_template_rows": null,
            "height": null,
            "justify_content": null,
            "justify_items": null,
            "left": null,
            "margin": null,
            "max_height": null,
            "max_width": null,
            "min_height": null,
            "min_width": null,
            "object_fit": null,
            "object_position": null,
            "order": null,
            "overflow": null,
            "overflow_x": null,
            "overflow_y": null,
            "padding": null,
            "right": null,
            "top": null,
            "visibility": null,
            "width": null
          }
        },
        "2997b99610284c40bc1c915ecf77934f": {
          "model_module": "@jupyter-widgets/base",
          "model_name": "LayoutModel",
          "model_module_version": "1.2.0",
          "state": {
            "_model_module": "@jupyter-widgets/base",
            "_model_module_version": "1.2.0",
            "_model_name": "LayoutModel",
            "_view_count": null,
            "_view_module": "@jupyter-widgets/base",
            "_view_module_version": "1.2.0",
            "_view_name": "LayoutView",
            "align_content": null,
            "align_items": null,
            "align_self": null,
            "border": null,
            "bottom": null,
            "display": null,
            "flex": null,
            "flex_flow": null,
            "grid_area": null,
            "grid_auto_columns": null,
            "grid_auto_flow": null,
            "grid_auto_rows": null,
            "grid_column": null,
            "grid_gap": null,
            "grid_row": null,
            "grid_template_areas": null,
            "grid_template_columns": null,
            "grid_template_rows": null,
            "height": null,
            "justify_content": null,
            "justify_items": null,
            "left": null,
            "margin": null,
            "max_height": null,
            "max_width": null,
            "min_height": null,
            "min_width": null,
            "object_fit": null,
            "object_position": null,
            "order": null,
            "overflow": null,
            "overflow_x": null,
            "overflow_y": null,
            "padding": null,
            "right": null,
            "top": null,
            "visibility": null,
            "width": null
          }
        },
        "3dd247e44bf2437f922da5be5b77239f": {
          "model_module": "@jupyter-widgets/controls",
          "model_name": "DescriptionStyleModel",
          "model_module_version": "1.5.0",
          "state": {
            "_model_module": "@jupyter-widgets/controls",
            "_model_module_version": "1.5.0",
            "_model_name": "DescriptionStyleModel",
            "_view_count": null,
            "_view_module": "@jupyter-widgets/base",
            "_view_module_version": "1.2.0",
            "_view_name": "StyleView",
            "description_width": ""
          }
        },
        "a5800724023d4f96a76bd88a816e6679": {
          "model_module": "@jupyter-widgets/base",
          "model_name": "LayoutModel",
          "model_module_version": "1.2.0",
          "state": {
            "_model_module": "@jupyter-widgets/base",
            "_model_module_version": "1.2.0",
            "_model_name": "LayoutModel",
            "_view_count": null,
            "_view_module": "@jupyter-widgets/base",
            "_view_module_version": "1.2.0",
            "_view_name": "LayoutView",
            "align_content": null,
            "align_items": null,
            "align_self": null,
            "border": null,
            "bottom": null,
            "display": null,
            "flex": null,
            "flex_flow": null,
            "grid_area": null,
            "grid_auto_columns": null,
            "grid_auto_flow": null,
            "grid_auto_rows": null,
            "grid_column": null,
            "grid_gap": null,
            "grid_row": null,
            "grid_template_areas": null,
            "grid_template_columns": null,
            "grid_template_rows": null,
            "height": null,
            "justify_content": null,
            "justify_items": null,
            "left": null,
            "margin": null,
            "max_height": null,
            "max_width": null,
            "min_height": null,
            "min_width": null,
            "object_fit": null,
            "object_position": null,
            "order": null,
            "overflow": null,
            "overflow_x": null,
            "overflow_y": null,
            "padding": null,
            "right": null,
            "top": null,
            "visibility": null,
            "width": null
          }
        },
        "2cb907d4210447c89b874ad501f001b7": {
          "model_module": "@jupyter-widgets/controls",
          "model_name": "ProgressStyleModel",
          "model_module_version": "1.5.0",
          "state": {
            "_model_module": "@jupyter-widgets/controls",
            "_model_module_version": "1.5.0",
            "_model_name": "ProgressStyleModel",
            "_view_count": null,
            "_view_module": "@jupyter-widgets/base",
            "_view_module_version": "1.2.0",
            "_view_name": "StyleView",
            "bar_color": null,
            "description_width": ""
          }
        },
        "c70e5e7381b24ec283c6322389038b54": {
          "model_module": "@jupyter-widgets/base",
          "model_name": "LayoutModel",
          "model_module_version": "1.2.0",
          "state": {
            "_model_module": "@jupyter-widgets/base",
            "_model_module_version": "1.2.0",
            "_model_name": "LayoutModel",
            "_view_count": null,
            "_view_module": "@jupyter-widgets/base",
            "_view_module_version": "1.2.0",
            "_view_name": "LayoutView",
            "align_content": null,
            "align_items": null,
            "align_self": null,
            "border": null,
            "bottom": null,
            "display": null,
            "flex": null,
            "flex_flow": null,
            "grid_area": null,
            "grid_auto_columns": null,
            "grid_auto_flow": null,
            "grid_auto_rows": null,
            "grid_column": null,
            "grid_gap": null,
            "grid_row": null,
            "grid_template_areas": null,
            "grid_template_columns": null,
            "grid_template_rows": null,
            "height": null,
            "justify_content": null,
            "justify_items": null,
            "left": null,
            "margin": null,
            "max_height": null,
            "max_width": null,
            "min_height": null,
            "min_width": null,
            "object_fit": null,
            "object_position": null,
            "order": null,
            "overflow": null,
            "overflow_x": null,
            "overflow_y": null,
            "padding": null,
            "right": null,
            "top": null,
            "visibility": null,
            "width": null
          }
        },
        "08858d031b9a4d77a94a170d85632184": {
          "model_module": "@jupyter-widgets/controls",
          "model_name": "DescriptionStyleModel",
          "model_module_version": "1.5.0",
          "state": {
            "_model_module": "@jupyter-widgets/controls",
            "_model_module_version": "1.5.0",
            "_model_name": "DescriptionStyleModel",
            "_view_count": null,
            "_view_module": "@jupyter-widgets/base",
            "_view_module_version": "1.2.0",
            "_view_name": "StyleView",
            "description_width": ""
          }
        }
      }
    }
  },
  "cells": [
    {
      "cell_type": "code",
      "source": [
        "from transformers import GPT2LMHeadModel, GPT2TokenizerFast, GPT2Config\n",
        "from transformers import get_linear_schedule_with_warmup\n",
        "\n",
        "import torch\n",
        "from torch.optim import AdamW\n",
        "from torch.utils.data import Dataset, DataLoader\n",
        "from torch.utils.data import random_split, RandomSampler, SequentialSampler\n",
        "\n",
        "import pandas as pd\n",
        "\n",
        "device = \"cuda\" if torch.cuda.is_available() else \"cpu\"\n",
        "# model_name: ['gpt2', 'gpt2-medium', 'gpt2-large', 'gpt2-xl']\n",
        "model_name = \"gpt2-medium\"\n",
        "model_save_path = './model'"
      ],
      "metadata": {
        "id": "_8ZzLHwdDtMF"
      },
      "execution_count": null,
      "outputs": []
    },
    {
      "cell_type": "code",
      "source": [
        "configuration = GPT2Config.from_pretrained(model_name)\n",
        "model = GPT2LMHeadModel.from_pretrained(model_name, config=configuration)\n",
        "\n",
        "tokenizer = GPT2TokenizerFast.from_pretrained(model_name)\n",
        "\n",
        "input_sequence = \"beef, salt, pepper\"\n",
        "input_ids = tokenizer.encode(input_sequence, return_tensors='pt')\n",
        "\n",
        "model = model.to(device)\n",
        "#combine both sampling techniques\n",
        "sample_outputs = model.generate(input_ids.to(device),\n",
        "                              do_sample = True, max_length = 120,\n",
        "                              top_k = 50, top_p = 0.85,\n",
        "                              num_return_sequences = 3)\n"
      ],
      "metadata": {
        "colab": {
          "base_uri": "https://localhost:8080/",
          "height": 417,
          "referenced_widgets": [
            "b93be203871b4f6496dab1f2748d14fb",
            "ef164361206345bba38a4803bb517c55",
            "ccc2ebfc8f6841a3998229538494553a",
            "ee8ed7ed9e74448d87049f1e843c35c7",
            "9930ef5d1e12484e997e95cd6fac9fde",
            "ea3467402a3a446e902b111068cf5c79",
            "56204316d51a41938e1eb166764c7113",
            "176368db80e44ef3932fa596300bbbf3",
            "b7b42d378f6b484b9d08413bd1d734a9",
            "93952d60dcda40fa843f5b0e37df040c",
            "1a07e6917e544b1f9b35c9f1cc86abbb",
            "5b53801341f84103acdd554debdc6387",
            "0bd2859cb82b4a0881b6cbc882db64ea",
            "495bab81eb6048089c56d30503ea6659",
            "9ab5353cae2f4db081b89283e08b7701",
            "a4e09ed3ee0d45e4b92eaecd4f4c42df",
            "fe59209396414dd682b8327fd8c9ae18",
            "b0e60ad8776f4964acafe7e0eb7d2029",
            "52f0a48788e3457e89bf8e04f4d97675",
            "bcd13f56632a423da6c0f58cae207049",
            "2e325675311642f09391fe538f7eaccd",
            "11bd61e8ac4d493d9dc94f9eab5feebc",
            "9ab4f24be7d34f21997c75cd749374e3",
            "cfac995c9d05474b96dc128a542474c8",
            "cca058eac92b465398ca2f114fc3d445",
            "287e8e952f1b4fbc81bf8ec906a3fe09",
            "f4fa7adae62b4ddb9701ceba5241c8ea",
            "f21a81689f1044a68de77e207b0458ae",
            "f1de68075a804280b47cdf59e56af39f",
            "b2f41cab08724ff4a020f9a6be0bb960",
            "d6e8b87883e34b52b7ca44ad60c13082",
            "5cc34036d28c4421919ce0473d98c048",
            "ae50c5d8619d43ad85a5737505f2a7be",
            "fe4d7ae1a7d44a268803156e87c72365",
            "9d2edbfc7f22413cb3b5de9b5c3850ab",
            "64d3b72e21484fc88791b77ab0a785ba",
            "3802e998380e432b99bf616155db2ef0",
            "5de4f8daeca74812b65ee333457c8f33",
            "5ec9c0aedf9b44b8be05da41b97fad8e",
            "6fd7547e916945ceb1a17e6ff547927d",
            "38317087084b46f2a8e49c91b7899ae6",
            "95298eb552bb4dc98dd69240f90f0c93",
            "58ec8b8068794aefa5fdeb12268f7150",
            "60e958d189d9402e910ab3a18abb5059",
            "e5d7a6fad8094fd48898cf50273d8e83",
            "c3b81b40654b49aa87bbf6dd56844758",
            "6a532fad6ef9411c9ebd662131368b16",
            "a3795d53712d4c59b4591e785060236a",
            "17fb291d60ce4fafbf18304b3721bcd8",
            "43d224c78f9c480c854a0c1344396480",
            "8c5840b066b74d2988ef520072e0b33a",
            "423a7c1a95da44268dc7fc499cf6d203",
            "a4afab7f08a94ec68a32b85093756715",
            "257dbc407e044e0ca8ba3c17121480a5",
            "28170fa399584b6aa29e4c1229d5d54f",
            "92ca3fd4fc8a47eba928640281d7fb60",
            "c15925df59e84786966c3bd45a6c293f",
            "010f4b0f28d84e42b498203040e738d6",
            "0bbe76c7b8cd4fed9bf8b30de610a915",
            "bef6d5b84ca54015b19849e7a91b42f9",
            "ab33306e3bde4ec4a83ffafe03d327f7",
            "9ae5c1a926ea40b3ada87baf26c50904",
            "9024b43d4cbe46829f1d33d751292d55",
            "b550b348f7194970b3d96914f66bca5f",
            "8061f7a4cdab4c118504541229cbf1bc",
            "9964300a7fa4473b9bb4256b05a3abfa",
            "d3f9b20618d54b06bfd666357320a8e4",
            "6e1b711dfd1b44839aad46b229b2c881",
            "ee7b937acde94cd19e241aa03c3ca2bc",
            "bb6bbf5984c44fa1a29d7e31b81ee9f3",
            "95f20d0a9d294f888badc6d4db996648",
            "2997b99610284c40bc1c915ecf77934f",
            "3dd247e44bf2437f922da5be5b77239f",
            "a5800724023d4f96a76bd88a816e6679",
            "2cb907d4210447c89b874ad501f001b7",
            "c70e5e7381b24ec283c6322389038b54",
            "08858d031b9a4d77a94a170d85632184"
          ]
        },
        "id": "jRDUQD5oDyn3",
        "outputId": "a274ff25-3894-4528-b7b5-1bd061872ee3"
      },
      "execution_count": null,
      "outputs": [
        {
          "output_type": "stream",
          "name": "stderr",
          "text": [
            "/usr/local/lib/python3.10/dist-packages/huggingface_hub/utils/_token.py:89: UserWarning: \n",
            "The secret `HF_TOKEN` does not exist in your Colab secrets.\n",
            "To authenticate with the Hugging Face Hub, create a token in your settings tab (https://huggingface.co/settings/tokens), set it as secret in your Google Colab and restart your session.\n",
            "You will be able to reuse this secret in all of your notebooks.\n",
            "Please note that authentication is recommended but still optional to access public models or datasets.\n",
            "  warnings.warn(\n"
          ]
        },
        {
          "output_type": "display_data",
          "data": {
            "text/plain": [
              "config.json:   0%|          | 0.00/718 [00:00<?, ?B/s]"
            ],
            "application/vnd.jupyter.widget-view+json": {
              "version_major": 2,
              "version_minor": 0,
              "model_id": "b93be203871b4f6496dab1f2748d14fb"
            }
          },
          "metadata": {}
        },
        {
          "output_type": "display_data",
          "data": {
            "text/plain": [
              "model.safetensors:   0%|          | 0.00/1.52G [00:00<?, ?B/s]"
            ],
            "application/vnd.jupyter.widget-view+json": {
              "version_major": 2,
              "version_minor": 0,
              "model_id": "5b53801341f84103acdd554debdc6387"
            }
          },
          "metadata": {}
        },
        {
          "output_type": "display_data",
          "data": {
            "text/plain": [
              "generation_config.json:   0%|          | 0.00/124 [00:00<?, ?B/s]"
            ],
            "application/vnd.jupyter.widget-view+json": {
              "version_major": 2,
              "version_minor": 0,
              "model_id": "9ab4f24be7d34f21997c75cd749374e3"
            }
          },
          "metadata": {}
        },
        {
          "output_type": "display_data",
          "data": {
            "text/plain": [
              "tokenizer_config.json:   0%|          | 0.00/26.0 [00:00<?, ?B/s]"
            ],
            "application/vnd.jupyter.widget-view+json": {
              "version_major": 2,
              "version_minor": 0,
              "model_id": "fe4d7ae1a7d44a268803156e87c72365"
            }
          },
          "metadata": {}
        },
        {
          "output_type": "display_data",
          "data": {
            "text/plain": [
              "vocab.json:   0%|          | 0.00/1.04M [00:00<?, ?B/s]"
            ],
            "application/vnd.jupyter.widget-view+json": {
              "version_major": 2,
              "version_minor": 0,
              "model_id": "e5d7a6fad8094fd48898cf50273d8e83"
            }
          },
          "metadata": {}
        },
        {
          "output_type": "display_data",
          "data": {
            "text/plain": [
              "merges.txt:   0%|          | 0.00/456k [00:00<?, ?B/s]"
            ],
            "application/vnd.jupyter.widget-view+json": {
              "version_major": 2,
              "version_minor": 0,
              "model_id": "92ca3fd4fc8a47eba928640281d7fb60"
            }
          },
          "metadata": {}
        },
        {
          "output_type": "display_data",
          "data": {
            "text/plain": [
              "tokenizer.json:   0%|          | 0.00/1.36M [00:00<?, ?B/s]"
            ],
            "application/vnd.jupyter.widget-view+json": {
              "version_major": 2,
              "version_minor": 0,
              "model_id": "d3f9b20618d54b06bfd666357320a8e4"
            }
          },
          "metadata": {}
        },
        {
          "output_type": "stream",
          "name": "stderr",
          "text": [
            "The attention mask and the pad token id were not set. As a consequence, you may observe unexpected behavior. Please pass your input's `attention_mask` to obtain reliable results.\n",
            "Setting `pad_token_id` to `eos_token_id`:50256 for open-end generation.\n",
            "The attention mask is not set and cannot be inferred from input because pad token is same as eos token.As a consequence, you may observe unexpected behavior. Please pass your input's `attention_mask` to obtain reliable results.\n"
          ]
        }
      ]
    },
    {
      "cell_type": "code",
      "source": [
        "!pip install opendatasets\n"
      ],
      "metadata": {
        "colab": {
          "base_uri": "https://localhost:8080/"
        },
        "id": "AtE4WIJ7D3_o",
        "outputId": "a423645e-d65c-4d39-d2db-64e6edebabb4"
      },
      "execution_count": null,
      "outputs": [
        {
          "output_type": "stream",
          "name": "stdout",
          "text": [
            "Collecting opendatasets\n",
            "  Downloading opendatasets-0.1.22-py3-none-any.whl.metadata (9.2 kB)\n",
            "Requirement already satisfied: tqdm in /usr/local/lib/python3.10/dist-packages (from opendatasets) (4.66.5)\n",
            "Requirement already satisfied: kaggle in /usr/local/lib/python3.10/dist-packages (from opendatasets) (1.6.17)\n",
            "Requirement already satisfied: click in /usr/local/lib/python3.10/dist-packages (from opendatasets) (8.1.7)\n",
            "Requirement already satisfied: six>=1.10 in /usr/local/lib/python3.10/dist-packages (from kaggle->opendatasets) (1.16.0)\n",
            "Requirement already satisfied: certifi>=2023.7.22 in /usr/local/lib/python3.10/dist-packages (from kaggle->opendatasets) (2024.7.4)\n",
            "Requirement already satisfied: python-dateutil in /usr/local/lib/python3.10/dist-packages (from kaggle->opendatasets) (2.8.2)\n",
            "Requirement already satisfied: requests in /usr/local/lib/python3.10/dist-packages (from kaggle->opendatasets) (2.32.3)\n",
            "Requirement already satisfied: python-slugify in /usr/local/lib/python3.10/dist-packages (from kaggle->opendatasets) (8.0.4)\n",
            "Requirement already satisfied: urllib3 in /usr/local/lib/python3.10/dist-packages (from kaggle->opendatasets) (2.0.7)\n",
            "Requirement already satisfied: bleach in /usr/local/lib/python3.10/dist-packages (from kaggle->opendatasets) (6.1.0)\n",
            "Requirement already satisfied: webencodings in /usr/local/lib/python3.10/dist-packages (from bleach->kaggle->opendatasets) (0.5.1)\n",
            "Requirement already satisfied: text-unidecode>=1.3 in /usr/local/lib/python3.10/dist-packages (from python-slugify->kaggle->opendatasets) (1.3)\n",
            "Requirement already satisfied: charset-normalizer<4,>=2 in /usr/local/lib/python3.10/dist-packages (from requests->kaggle->opendatasets) (3.3.2)\n",
            "Requirement already satisfied: idna<4,>=2.5 in /usr/local/lib/python3.10/dist-packages (from requests->kaggle->opendatasets) (3.8)\n",
            "Downloading opendatasets-0.1.22-py3-none-any.whl (15 kB)\n",
            "Installing collected packages: opendatasets\n",
            "Successfully installed opendatasets-0.1.22\n"
          ]
        }
      ]
    },
    {
      "cell_type": "code",
      "source": [
        "import opendatasets as od\n",
        "od.download(\"https://www.kaggle.com/datasets/irkaal/foodcom-recipes-and-reviews\")"
      ],
      "metadata": {
        "colab": {
          "base_uri": "https://localhost:8080/"
        },
        "id": "1G-SfFJfEEyi",
        "outputId": "df333238-87ea-409b-a607-02799cd9eb98"
      },
      "execution_count": 5,
      "outputs": [
        {
          "output_type": "stream",
          "name": "stdout",
          "text": [
            "Dataset URL: https://www.kaggle.com/datasets/irkaal/foodcom-recipes-and-reviews\n",
            "Downloading foodcom-recipes-and-reviews.zip to ./foodcom-recipes-and-reviews\n"
          ]
        },
        {
          "output_type": "stream",
          "name": "stderr",
          "text": [
            "100%|██████████| 723M/723M [00:41<00:00, 18.2MB/s]\n"
          ]
        },
        {
          "output_type": "stream",
          "name": "stdout",
          "text": [
            "\n"
          ]
        }
      ]
    },
    {
      "cell_type": "code",
      "source": [
        "df_recipes = pd.read_csv('/content/foodcom-recipes-and-reviews/recipes.csv')\n",
        "df_recipes.reset_index(drop=True, inplace=True)\n",
        "\n"
      ],
      "metadata": {
        "id": "J5g7KXWmEXAE"
      },
      "execution_count": 7,
      "outputs": []
    },
    {
      "cell_type": "code",
      "source": [
        "df_recipes.columns"
      ],
      "metadata": {
        "colab": {
          "base_uri": "https://localhost:8080/"
        },
        "id": "9RfMRLHDHYko",
        "outputId": "1aea364e-2ae5-4fce-bbfd-a8f07b5b40ac"
      },
      "execution_count": 10,
      "outputs": [
        {
          "output_type": "execute_result",
          "data": {
            "text/plain": [
              "Index(['RecipeId', 'Name', 'AuthorId', 'AuthorName', 'CookTime', 'PrepTime',\n",
              "       'TotalTime', 'DatePublished', 'Description', 'Images', 'RecipeCategory',\n",
              "       'Keywords', 'RecipeIngredientQuantities', 'RecipeIngredientParts',\n",
              "       'AggregatedRating', 'ReviewCount', 'Calories', 'FatContent',\n",
              "       'SaturatedFatContent', 'CholesterolContent', 'SodiumContent',\n",
              "       'CarbohydrateContent', 'FiberContent', 'SugarContent', 'ProteinContent',\n",
              "       'RecipeServings', 'RecipeYield', 'RecipeInstructions'],\n",
              "      dtype='object')"
            ]
          },
          "metadata": {},
          "execution_count": 10
        }
      ]
    },
    {
      "cell_type": "code",
      "source": [
        "def form_string(ingredient,instruction):\n",
        "    s = f\"<|startoftext|>Ingredients: {ingredient.strip()}. \" \\\n",
        "        f\"Instructions: {instruction.strip()}<|endoftext|>\"\n",
        "    return s\n",
        "\n",
        "data = df_recipes.apply(lambda x:form_string(\n",
        "    x['RecipeIngredientParts'], x['RecipeInstructions']), axis=1).to_list()\n",
        "data[0]"
      ],
      "metadata": {
        "colab": {
          "base_uri": "https://localhost:8080/",
          "height": 122
        },
        "id": "aVzbbliGHUGf",
        "outputId": "a67c094f-b18f-4e12-8f81-289d966a1d0a"
      },
      "execution_count": 11,
      "outputs": [
        {
          "output_type": "execute_result",
          "data": {
            "text/plain": [
              "'<|startoftext|>Ingredients: c(\"blueberries\", \"granulated sugar\", \"vanilla yogurt\", \"lemon juice\"). Instructions: c(\"Toss 2 cups berries with sugar.\", \"Let stand for 45 minutes, stirring occasionally.\", \"Transfer berry-sugar mixture to food processor.\", \"Add yogurt and process until smooth.\", \"Strain through fine sieve. Pour into baking pan (or transfer to ice cream maker and process according to manufacturers\\' directions). Freeze uncovered until edges are solid but centre is soft.  Transfer to processor and blend until smooth again.\", \"Return to pan and freeze until edges are solid.\", \"Transfer to processor and blend until smooth again.\", \\n\"Fold in remaining 2 cups of blueberries.\", \"Pour into plastic mold and freeze overnight. Let soften slightly to serve.\")<|endoftext|>'"
            ],
            "application/vnd.google.colaboratory.intrinsic+json": {
              "type": "string"
            }
          },
          "metadata": {},
          "execution_count": 11
        }
      ]
    },
    {
      "cell_type": "code",
      "source": [
        "tokenizer = GPT2TokenizerFast.from_pretrained(model_name,\n",
        "                                              bos_token='<|startoftext|>',\n",
        "                                              eos_token='<|endoftext|>',\n",
        "                                              unk_token='<|unknown|>',\n",
        "                                              pad_token='<|pad|>'\n",
        "                                             )\n"
      ],
      "metadata": {
        "id": "zdeCxtrdE1RT"
      },
      "execution_count": 12,
      "outputs": []
    },
    {
      "cell_type": "code",
      "source": [
        "batch_size = 2\n",
        "max_length = 180\n",
        "\n",
        "# standard PyTorch approach of loading data in using a Dataset class.\n",
        "class RecipeDataset(Dataset):\n",
        "    def __init__(self, data, tokenizer):\n",
        "        self.data = data\n",
        "        self.input_ids = []\n",
        "        self.attn_masks = []\n",
        "\n",
        "        for recipe in data:\n",
        "            encodings = tokenizer.encode_plus(recipe,\n",
        "                                              truncation=True,\n",
        "                                              padding='max_length',\n",
        "                                              max_length=max_length,\n",
        "                                              # return a PyTorch tensor\n",
        "                                              return_tensors='pt'\n",
        "                                             )\n",
        "            self.input_ids.append(torch.squeeze(encodings['input_ids'],0))\n",
        "            self.attn_masks.append(torch.squeeze(encodings['attention_mask'],0))\n",
        "\n",
        "\n",
        "    def __len__(self):\n",
        "        return len(self.data)\n",
        "\n",
        "    def __getitem__(self,idx):\n",
        "        return self.input_ids[idx], self.attn_masks[idx]\n",
        "\n",
        "dataset = RecipeDataset(data, tokenizer)\n",
        "print(f\"input_ids: {dataset[0][0]} attn_masks: {dataset[0][1]}\")"
      ],
      "metadata": {
        "colab": {
          "base_uri": "https://localhost:8080/"
        },
        "id": "RnS1CAx7E5xD",
        "outputId": "c22ab5d3-48dc-4288-e709-74a9e88bed70"
      },
      "execution_count": 13,
      "outputs": [
        {
          "output_type": "stream",
          "name": "stdout",
          "text": [
            "input_ids: tensor([50257, 41222,    25,   269,  7203, 17585, 20853,  1600,   366, 46324,\n",
            "         4817,  7543,  1600,   366, 10438,  5049, 32132,  1600,   366,   293,\n",
            "         2144, 13135, 11074, 27759,    25,   269,  7203,    51,   793,   362,\n",
            "        14180, 36322,   351,  7543, 33283,   366,  5756,  1302,   329,  4153,\n",
            "         2431,    11, 26547, 10491, 33283,   366, 43260,   275,  6996,    12,\n",
            "           82, 35652, 11710,   284,  2057, 12649, 33283,   366,  4550, 32132,\n",
            "          290,  1429,  1566,  7209, 33283,   366,  1273,  3201,   832,  3734,\n",
            "          264, 12311,    13, 39128,   656, 16871,  3425,   357,   273,  4351,\n",
            "          284,  4771,  8566, 16009,   290,  1429,  1864,   284, 11372,     6,\n",
            "        11678,   737, 34917, 18838,  1566, 13015,   389,  4735,   475,  7372,\n",
            "          318,  2705,    13,   220, 20558,   284, 12649,   290, 13516,  1566,\n",
            "         7209,   757, 33283,   366, 13615,   284,  3425,   290, 16611,  1566,\n",
            "        13015,   389,  4735, 33283,   366, 43260,   284, 12649,   290, 13516,\n",
            "         1566,  7209,   757, 33283,   220,   198,     1,    37,   727,   287,\n",
            "         5637,   362, 14180,   286,  4171, 20853, 33283,   366,    47,   454,\n",
            "          656,  7309, 15936,   290, 16611, 13417,    13,  3914, 39536,  4622,\n",
            "          284,  4691, 19570, 50256, 50259, 50259, 50259, 50259, 50259, 50259,\n",
            "        50259, 50259, 50259, 50259, 50259, 50259, 50259, 50259, 50259, 50259]) attn_masks: tensor([1, 1, 1, 1, 1, 1, 1, 1, 1, 1, 1, 1, 1, 1, 1, 1, 1, 1, 1, 1, 1, 1, 1, 1,\n",
            "        1, 1, 1, 1, 1, 1, 1, 1, 1, 1, 1, 1, 1, 1, 1, 1, 1, 1, 1, 1, 1, 1, 1, 1,\n",
            "        1, 1, 1, 1, 1, 1, 1, 1, 1, 1, 1, 1, 1, 1, 1, 1, 1, 1, 1, 1, 1, 1, 1, 1,\n",
            "        1, 1, 1, 1, 1, 1, 1, 1, 1, 1, 1, 1, 1, 1, 1, 1, 1, 1, 1, 1, 1, 1, 1, 1,\n",
            "        1, 1, 1, 1, 1, 1, 1, 1, 1, 1, 1, 1, 1, 1, 1, 1, 1, 1, 1, 1, 1, 1, 1, 1,\n",
            "        1, 1, 1, 1, 1, 1, 1, 1, 1, 1, 1, 1, 1, 1, 1, 1, 1, 1, 1, 1, 1, 1, 1, 1,\n",
            "        1, 1, 1, 1, 1, 1, 1, 1, 1, 1, 1, 1, 1, 1, 1, 1, 1, 1, 1, 1, 0, 0, 0, 0,\n",
            "        0, 0, 0, 0, 0, 0, 0, 0, 0, 0, 0, 0])\n"
          ]
        }
      ]
    },
    {
      "cell_type": "code",
      "source": [
        "train_size = int(0.9 * len(dataset))\n",
        "val_size = len(dataset) - train_size\n",
        "\n",
        "train_dataset, val_dataset = random_split(dataset, [train_size, val_size])\n",
        "\n",
        "# Create the DataLoaders for our training and validation datasets.\n",
        "# Get training samples in random order.\n",
        "train_dataloader = DataLoader(\n",
        "            train_dataset,\n",
        "            sampler = RandomSampler(train_dataset),\n",
        "            batch_size = batch_size # Trains with this batch size.\n",
        "        )\n",
        "\n",
        "# Get valiation samples sequentially.\n",
        "validation_dataloader = DataLoader(\n",
        "            val_dataset,\n",
        "            sampler = SequentialSampler(val_dataset),\n",
        "            batch_size = batch_size # Evaluate with this batch size.\n",
        "        )"
      ],
      "metadata": {
        "id": "4MPY4g9-FLoQ"
      },
      "execution_count": 14,
      "outputs": []
    },
    {
      "cell_type": "code",
      "source": [
        "configuration = GPT2Config.from_pretrained(model_name)\n",
        "model = GPT2LMHeadModel.from_pretrained(model_name, config=configuration)\n",
        "model = model.to(device)\n",
        "model.resize_token_embeddings(len(tokenizer))\n",
        "\n",
        "epochs = 3\n",
        "learning_rate = 2e-5\n",
        "warmup_steps = 1e2\n",
        "# to prevent any division by zero in the implementation\n",
        "epsilon = 1e-8\n",
        "optim = AdamW(model.parameters(), lr = learning_rate, eps = epsilon)\n",
        "\n",
        "total_steps = len(train_dataloader) * epochs  # [no batches] x [no epochs]\n",
        "\n",
        "# Create the learning rate scheduler.\n",
        "scheduler = get_linear_schedule_with_warmup(optim,\n",
        "                                            num_warmup_steps=warmup_steps,\n",
        "                                            num_training_steps=total_steps)\n"
      ],
      "metadata": {
        "id": "f_QEcPX1FQ8z"
      },
      "execution_count": 15,
      "outputs": []
    },
    {
      "cell_type": "code",
      "source": [
        "def infer(prompt):\n",
        "    input = f\"<|startoftext|>Ingredients: {prompt.strip()}\"\n",
        "    input = tokenizer(input, return_tensors=\"pt\")\n",
        "    input_ids      = input[\"input_ids\"]\n",
        "    attention_mask = input[\"attention_mask\"]\n",
        "\n",
        "    output = model.generate(input_ids.to(device),\n",
        "                            attention_mask=attention_mask.to(device),\n",
        "                            max_new_tokens=max_length,\n",
        "                            do_sample = True, top_k = 50, top_p = 0.85)\n",
        "    output = tokenizer.decode(output[0], skip_special_tokens=True)\n",
        "    return output\n"
      ],
      "metadata": {
        "id": "vde6M3xbFwcs"
      },
      "execution_count": 17,
      "outputs": []
    },
    {
      "cell_type": "code",
      "source": [
        "for epoch_i in range(0, epochs):\n",
        "    total_train_loss = 0\n",
        "    model.train()\n",
        "\n",
        "    for step, batch in enumerate(train_dataloader):\n",
        "        b_input_ids = batch[0].to(device)\n",
        "        b_labels    = batch[0].to(device)\n",
        "        b_masks     = batch[1].to(device)\n",
        "\n",
        "        model.zero_grad()\n",
        "        outputs = model( input_ids = b_input_ids, labels = b_labels,\n",
        "                         attention_mask = b_masks, token_type_ids = None )\n",
        "\n",
        "        loss = outputs[0]\n",
        "\n",
        "        # Get sample every x batches.\n",
        "        if step % 100 == 0 and not step == 0:\n",
        "            model.eval()\n",
        "            print(infer(\"eggs, flour, butter, sugar\"))\n",
        "            model.train()\n",
        "\n",
        "        loss.backward()\n",
        "        optim.step()\n",
        "        scheduler.step()"
      ],
      "metadata": {
        "colab": {
          "base_uri": "https://localhost:8080/",
          "height": 1000
        },
        "id": "C-MKrV5sFV4s",
        "outputId": "f453cc8e-4df6-4ac4-f1a4-3c17d4a75d40"
      },
      "execution_count": 18,
      "outputs": [
        {
          "metadata": {
            "tags": null
          },
          "name": "stderr",
          "output_type": "stream",
          "text": [
            "Setting `pad_token_id` to `eos_token_id`:50256 for open-end generation.\n"
          ]
        },
        {
          "metadata": {
            "tags": null
          },
          "name": "stdout",
          "output_type": "stream",
          "text": [
            "Ingredients: eggs, flour, butter, sugar, salt, egg white, baking soda, cinnamon, cloves, nutmeg, nutmeg extract, pepper, baking powder, flour, vanilla extract, salt, egg, milk, baking powder Instructions: mix eggs, flour, butter, sugar, salt, egg white, baking soda, cinnamon, cloves, nutmeg, nut, nutmeg extract, pepper, baking powder, flour, vanilla extract, salt, egg, milk, baking powder Instructions: mix eggs, flour, butter, sugar, salt, egg white, baking soda, cinnamon, cloves, nutmeg, nutmeg extract, pepper, baking powder, flour, vanilla extract, salt, egg,, milk, baking powder Instructions: mix eggs, flour, butter, sugar, salt, egg white, baking, cinnamon, cloves, nutmeg, nutmeg extract, pepper, baking powder, flour, vanilla extract,\n"
          ]
        },
        {
          "metadata": {
            "tags": null
          },
          "name": "stderr",
          "output_type": "stream",
          "text": [
            "Setting `pad_token_id` to `eos_token_id`:50256 for open-end generation.\n"
          ]
        },
        {
          "metadata": {
            "tags": null
          },
          "name": "stdout",
          "output_type": "stream",
          "text": [
            "Ingredients: eggs, flour, butter, sugar, cocoa powder, vanilla extract, baking soda, cornstarch, milk, lemon juice, vanilla extract, baking soda, salt, baking powder Instructions: Place all ingredients in a medium bowl and whisk until smooth and combined. Fold in the milk and vanilla. Instructions: Beat the eggs until stiff peaks form. Fold in the cornstarch and milk. Add the mixture to a medium sized bowl. Beat the remaining 2/3 of the milk mixture, until the batter is thickened and slightly fluffy, scraping down the sides and back of the bowl occasionally. Fold in the flour and continue to beat until incorporated. Fold in the remaining 1/3 of the milk mixture and the remaining flour mixture. Repeat with remaining flour mixture. Bake at 350 degrees for 12 minutes. Allow to cool. Place in a heavy pan and bake for 5 minutes or until golden brown, removing from pan and using a tooth\n"
          ]
        },
        {
          "metadata": {
            "tags": null
          },
          "name": "stderr",
          "output_type": "stream",
          "text": [
            "Setting `pad_token_id` to `eos_token_id`:50256 for open-end generation.\n"
          ]
        },
        {
          "metadata": {
            "tags": null
          },
          "name": "stdout",
          "output_type": "stream",
          "text": [
            "Ingredients: eggs, flour, butter, sugar, baking powder, baking soda, salt, cinnamon, ground cloves, nutmeg, ginger, nutmeg seeds, cloves, cloves, salt, milk, cayenne pepper, egg whites. Instructions: -Heat oven to 375°F. -In large bowl, stir together eggs, flour, butter, sugar, baking powder, baking soda, cinnamon, and cloves. -Add salt, cinnamon and nutmeg. -Spread onto dry skillet or pie plate. -Cook for 10 minutes or until cheese is melted. -Stir in cayenne pepper and egg whites. -Cover skillet or pie plate and bake for 40-45 minutes or until cheese is completely melted and edges are golden brown. -Remove from heat and serve. -I like to use a pastry brush and brush a large spoonful of melted cheese on the top and sides of\n"
          ]
        },
        {
          "metadata": {
            "tags": null
          },
          "name": "stderr",
          "output_type": "stream",
          "text": [
            "Setting `pad_token_id` to `eos_token_id`:50256 for open-end generation.\n"
          ]
        },
        {
          "metadata": {
            "tags": null
          },
          "name": "stdout",
          "output_type": "stream",
          "text": [
            "Ingredients: eggs, flour, butter, sugar, cinnamon, cloves, nutmeg, salt, garlic powder, nutmeg powder, brown sugar, molasses, maple syrup. Instructions:\n"
          ]
        },
        {
          "metadata": {
            "tags": null
          },
          "name": "stderr",
          "output_type": "stream",
          "text": [
            "Setting `pad_token_id` to `eos_token_id`:50256 for open-end generation.\n"
          ]
        },
        {
          "metadata": {
            "tags": null
          },
          "name": "stdout",
          "output_type": "stream",
          "text": [
            "Ingredients: eggs, flour, butter, sugar, salt, cayenne pepper, garlic powder, nutmeg, cumin, thyme, coriander, parsley, oregano, basil leaves, and parsley. Instructions: cook onions until translucent and remove from heat, drain well, set aside. in a large bowl, stir together flour, butter, and sugar.                                                                                                               \n"
          ]
        },
        {
          "metadata": {
            "tags": null
          },
          "name": "stderr",
          "output_type": "stream",
          "text": [
            "Setting `pad_token_id` to `eos_token_id`:50256 for open-end generation.\n"
          ]
        },
        {
          "metadata": {
            "tags": null
          },
          "name": "stdout",
          "output_type": "stream",
          "text": [
            "Ingredients: eggs, flour, butter, sugar, baking powder, vanilla extract, salt, cocoa powder, cinnamon, cloves, allspice, nutmeg, black pepper, nutmeg pie crusts: cheddar cheese, pepper jack cheese, pecans, almonds, sunflower seeds, walnuts, almonds & pecans, raisins, chocolate chips, graham cracker crumbs, sprinkles. Instructions: Instructions: Instructions: Instructions: Instructions: Instructions: Instructions: Instructions: Instructions: Instructions: Instructions: Instructions: Instructions: Instructions: Instructions: Instructions: Instructions: Instructions: Instructions: Instructions: Instructions: Instructions: Instructions: Instructions: Instructions: Instructions: Instructions: Instructions: Instructions: Instructions: Instructions: Instructions: Instructions: Instructions: Instructions: Instructions: Instructions: Instructions Instructions: Instructions: Instructions: Instructions: Instructions: Instructions: Instructions: Instructions: Instructions: Instructions: Instructions: Instructions: Instructions: Instructions:\n"
          ]
        },
        {
          "metadata": {
            "tags": null
          },
          "name": "stderr",
          "output_type": "stream",
          "text": [
            "Setting `pad_token_id` to `eos_token_id`:50256 for open-end generation.\n"
          ]
        },
        {
          "metadata": {
            "tags": null
          },
          "name": "stdout",
          "output_type": "stream",
          "text": [
            "Ingredients: eggs, flour, butter, sugar, salt, cinnamon, cloves, nutmeg, baking powder, cloves, black pepper, cinnamon, cloves and nutmeg (optional) Instructions:\n"
          ]
        },
        {
          "metadata": {
            "tags": null
          },
          "name": "stderr",
          "output_type": "stream",
          "text": [
            "Setting `pad_token_id` to `eos_token_id`:50256 for open-end generation.\n"
          ]
        },
        {
          "metadata": {
            "tags": null
          },
          "name": "stdout",
          "output_type": "stream",
          "text": [
            "Ingredients: eggs, flour, butter, sugar, baking powder, baking soda, salt, lemon juice, and vanilla extract. Instructions: 1. Butter an 8 inch round cake pan with butter. 2. Put eggs in the bottom of the pan. 3. Add flour, butter, sugar, baking powder, baking soda, salt and vanilla extract and mix well. 4. Stir in eggs and the flour mixture, then slowly add in the eggs, until well combined. 5. Fold in the butter mixture. 6. Bake in preheated 375 degree oven for 40 to 50 minutes. 7. Cool on wire racks. 8. To serve: slice the cake into 1 inch thick slices. \n",
            "Pineapple:\n",
            "Ingredients: 1 cup pineapple, chopped 1/4 cup sugar, 1/4 cup white sugar, 1 cup margarine, 1 teaspoon vanilla extract, 1/2 teaspoon cinnamon Instructions: 1. Heat margarine over\n"
          ]
        },
        {
          "metadata": {
            "tags": null
          },
          "name": "stderr",
          "output_type": "stream",
          "text": [
            "Setting `pad_token_id` to `eos_token_id`:50256 for open-end generation.\n"
          ]
        },
        {
          "metadata": {
            "tags": null
          },
          "name": "stdout",
          "output_type": "stream",
          "text": [
            "Ingredients: eggs, flour, butter, sugar, baking soda, salt, cinnamon, nutmeg, ginger, cloves, garlic, cardamom, cloves, cloves, pepper, turmeric, red chili powder, salt, pepper, cumin, cori, turmeric, cayenne powder, curry powder, cinnamon, cloves, ginger, onion powder, black pepper, cayenne pepper, chili powder, ginger, garlic, paprika, onion powder, cayenne. Instructions: \"Heat oil in large skillet over medium-high heat.\", \"Add potatoes and cook, uncovered, until tender, about 4 minutes.\", \"Add the eggs, flour and sugar.\", \"Combine with the salt, cinnamon and nutmeg.\", \"In a separate bowl combine the flour, butter, and sugar.\", \"Combine and stir in the curry powder, ginger, cloves, and cardamom.\", \"Add the turmeric, cinnamon\n"
          ]
        },
        {
          "metadata": {
            "tags": null
          },
          "name": "stderr",
          "output_type": "stream",
          "text": [
            "Setting `pad_token_id` to `eos_token_id`:50256 for open-end generation.\n"
          ]
        },
        {
          "metadata": {
            "tags": null
          },
          "name": "stdout",
          "output_type": "stream",
          "text": [
            "Ingredients: eggs, flour, butter, sugar, salt, pepper, cinnamon, vanilla extract, baking powder, vanilla extract, cocoa powder, baking soda, cayenne pepper, cloves, cloves of garlic, orange zest, green bell pepper, green onions, paprika, onion powder, cayenne, sugar, orange peel, baking soda, cinnamon, and ginger powder Instructions: mix well; add the egg yolks and stir well to combine, then add the flour, butter, sugar and salt and pepper. mix well, until well mixed, add the eggs one at a time. knead until smooth. shape dough into a ball; flatten and roll into a 1/2 inch thick rectangle. Cover and chill for 1 hour at room temperature before using. Instructions: make the filling: in a large bowl, beat the eggs and yogurt, add the rest of the ingredients and mix well. place a square slice of\n"
          ]
        },
        {
          "metadata": {
            "tags": null
          },
          "name": "stderr",
          "output_type": "stream",
          "text": [
            "Setting `pad_token_id` to `eos_token_id`:50256 for open-end generation.\n"
          ]
        },
        {
          "metadata": {
            "tags": null
          },
          "name": "stdout",
          "output_type": "stream",
          "text": [
            "Ingredients: eggs, flour, butter, sugar, baking soda, salt, vanilla extract, milk, eggs, egg yolks, vanilla essence, egg whites, sugar, baking powder, vanilla extract, eggs, baking soda, and salt. Instructions: 1. Combine flour, butter, and sugar in large bowl and beat on low speed until fluffy. 2. Add in eggs, beat on low speed for 1 minute. 3. Add in milk, beat for 2 minutes, then add in eggs, beat for 1 minute, then add in vanilla extract, beat until smooth. 4. Mix on medium speed for 2 minutes. Add in dry ingredients and beat on low speed for 3 minutes.  \n",
            "Garnish:    Make a frosting using 3/4 cup (about 3 tablespoons) butter, 2 tablespoons honey, and 1/2 cup vanilla extract.    Spoon over 1/4 cup of batter to\n"
          ]
        },
        {
          "metadata": {
            "tags": null
          },
          "name": "stderr",
          "output_type": "stream",
          "text": [
            "Setting `pad_token_id` to `eos_token_id`:50256 for open-end generation.\n"
          ]
        },
        {
          "metadata": {
            "tags": null
          },
          "name": "stdout",
          "output_type": "stream",
          "text": [
            "Ingredients: eggs, flour, butter, sugar, cinnamon, cloves, nutmeg, and cloves. Instructions: in a large bowl, beat eggs until smooth. Stir in flour, butter, and cinnamon until combined. In a separate bowl, beat together nutmeg, cloves, nutmeg, and cloves until blended. Stir in vanilla. Pour into prepared pans, spreading evenly with a spatula. Bake in preheated 350 degrees F oven for 15 to 20 minutes, or until edges are golden brown, and center is bubbly. Cool for 5 minutes before cutting and serving.\n"
          ]
        },
        {
          "metadata": {
            "tags": null
          },
          "name": "stderr",
          "output_type": "stream",
          "text": [
            "Setting `pad_token_id` to `eos_token_id`:50256 for open-end generation.\n"
          ]
        },
        {
          "metadata": {
            "tags": null
          },
          "name": "stdout",
          "output_type": "stream",
          "text": [
            "Ingredients: eggs, flour, butter, sugar, baking soda, salt, vanilla, and salt. Instructions: Line three 4-inch pie crusts with parchment paper. Set aside. In a large bowl, beat the eggs, flour, sugar, and baking soda until combined. Stir in the vanilla, salt, and baking powder. Stir in the butter and mix well. Set aside. In a large bowl, beat the butter and sugar until combined. Stir in the flour and baking soda until combined. Add the dry ingredients to the wet ingredients and beat well, scraping down sides of bowl, until just combined. Fold in the wet ingredients and fold in the dry ingredients, scraping down sides of bowl, until just combined. Using a fork or your fingers, gently fold in the dry ingredients and fold in the wet ingredients, scraping down the sides of the bowl, until just combined. Set aside. Using a fork or your fingers, gently fold\n"
          ]
        },
        {
          "metadata": {
            "tags": null
          },
          "name": "stderr",
          "output_type": "stream",
          "text": [
            "Setting `pad_token_id` to `eos_token_id`:50256 for open-end generation.\n"
          ]
        },
        {
          "metadata": {
            "tags": null
          },
          "name": "stdout",
          "output_type": "stream",
          "text": [
            "Ingredients: eggs, flour, butter, sugar, salt, black pepper, cinnamon, ground cloves, nutmeg, cinnamon stick, and salt, ground nutmeg, ground cloves, ground ginger, ground allspice, allspice berries, lemon juice, nutmeg, sugar, egg substitute, cayenne pepper, cloves, nutmeg powder, lemon juice, and water. Instructions: 1. In a large bowl, whisk together eggs, flour, butter, sugar, salt, and pepper; set aside. 2 eggs should hold a light white consistency. 3. Stir in cinnamon, cloves, ginger, allspice and salt. 4. Add spices to cinnamon stick and nutmeg, then stir to combine. 5. Add the dry ingredients to the wet and stir to combine. 6. Add the lemon juice, apple mixture, water, and spices. 7. Stir until everything is moistened. 8. Cool completely.\n"
          ]
        },
        {
          "metadata": {
            "tags": null
          },
          "name": "stderr",
          "output_type": "stream",
          "text": [
            "Setting `pad_token_id` to `eos_token_id`:50256 for open-end generation.\n"
          ]
        },
        {
          "metadata": {
            "tags": null
          },
          "name": "stdout",
          "output_type": "stream",
          "text": [
            "Ingredients: eggs, flour, butter, sugar, salt, ground cinnamon, nutmeg, baking powder, vanilla extract, baking soda, molasses, apple cider vinegar, milk, eggs, applesauce, lemon juice, lemon zest, cloves, cinnamon, nutmeg Instructions:In a small saucepan, heat 3 tablespoons of butter. Stir in sugar, salt, cinnamon, nutmeg, baking powder, vanilla extract and baking soda, until blended, then turn down heat and let stand 30 minutes or until mixture resembles coarse meal, then add the eggs, one at a time, stirring to combine. Gradually add the dry ingredients until mixture is moistened.  Stir in the milk, stirring constantly.  Bring to a boil, cover and simmer over low heat until thickened, about 1 hour, stirring occasionally. Remove from heat, stir in the applesauce, and pour over toasted cookies. Refrigerate for 1\n"
          ]
        },
        {
          "metadata": {
            "tags": null
          },
          "name": "stderr",
          "output_type": "stream",
          "text": [
            "Setting `pad_token_id` to `eos_token_id`:50256 for open-end generation.\n"
          ]
        },
        {
          "metadata": {
            "tags": null
          },
          "name": "stdout",
          "output_type": "stream",
          "text": [
            "Ingredients: eggs, flour, butter, sugar, baking powder, baking soda, salt, pepper. Instructions: c(\"In a large mixing bowl combine the flour, butter, and sugar. Stir in the yeast until combined.\", \"In a medium mixing bowl combine the flour, baking powder, baking soda, and salt. Stir in the flour mixture and mix together until thoroughly combined.\", \"Sift in the flour mixture, one at a time, until all ingredients are combined.\", \"Pour in the egg whites. Stir in the remaining 1/4 cup sugar, baking powder, baking soda, and salt.\", \"Gradually fold in the flour mixture until well combined. Add the flour mixture, one at a time, to the dry ingredients.\", \"Combine in a greased bowl or with a small spatula to form a smooth ball.\", \"Pour into greased muffin tin.\", \"Bake in a preheated 375F\n"
          ]
        },
        {
          "metadata": {
            "tags": null
          },
          "name": "stderr",
          "output_type": "stream",
          "text": [
            "Setting `pad_token_id` to `eos_token_id`:50256 for open-end generation.\n"
          ]
        },
        {
          "metadata": {
            "tags": null
          },
          "name": "stdout",
          "output_type": "stream",
          "text": [
            "Ingredients: eggs, flour, butter, sugar, baking soda, and salt. Instructions: Instructions: Instructions: Instructions: Instructions: Instructions: Instructions: Instructions: Instructions: Instructions: Instructions: Instructions: Instructions: Instructions: Instructions: Instructions: Instructions: Instructions: Instructions: Instructions: Instructions: Instructions: Instructions: Instructions: Instructions: Instructions: Instructions: Instructions: Instructions: Instructions: Instructions: Instructions: Instructions: Instructions: Instructions: Instructions: Instructions: Instructions: Instructions: Instructions: Instructions: Instructions: Instructions: Instructions: Instructions: Instructions: Instructions: Instructions: Instructions: Instructions: Instructions: Instructions: Instructions: Instructions: Instructions: Instructions: Instructions: Instructions: Instructions: Instructions: Instructions: Instructions: Instructions: Instructions: Instructions: Instructions: Instructions: Instructions: Instructions: Instructions: Instructions: Instructions: Instructions: Instructions: Instructions: Instructions: Instructions: Instructions: Instructions: Instructions: Instructions: Instructions: Instructions: Instructions: Instructions: Instructions: Instructions\n"
          ]
        },
        {
          "metadata": {
            "tags": null
          },
          "name": "stderr",
          "output_type": "stream",
          "text": [
            "Setting `pad_token_id` to `eos_token_id`:50256 for open-end generation.\n"
          ]
        },
        {
          "metadata": {
            "tags": null
          },
          "name": "stdout",
          "output_type": "stream",
          "text": [
            "Ingredients: eggs, flour, butter, sugar, baking powder, cinnamon, cloves, nutmeg, ground cloves, nutmeg stick, cloves of nutmeg, cloves of cardamom, vanilla extract, vanilla extract, lemon juice, nutmeg. Instructions: c(\"Mix eggs, flour, butter, sugar, baking powder, cinnamon, cloves, nutmeg, ground cloves, nut, vanilla extract, vanilla extract, lemon juice, nutmeg.\", \"Combine eggs and flour in large mixing bowl; beat on low speed until well mixed.\", \"On low speed, slowly add butter and sugar. beat on low speed until mixture is light and fluffy.\", \"Add nutmeg and ginger; mix until smooth. Beat in 1/4 cup powdered sugar.\", \"Add flour, 1/4 cup butter and 1/4 cup sugar. mix until well combined.\", \"Add the butter and the lemon juice; beat on medium speed until well mixed\n"
          ]
        },
        {
          "metadata": {
            "tags": null
          },
          "name": "stderr",
          "output_type": "stream",
          "text": [
            "Setting `pad_token_id` to `eos_token_id`:50256 for open-end generation.\n"
          ]
        },
        {
          "metadata": {
            "tags": null
          },
          "name": "stdout",
          "output_type": "stream",
          "text": [
            "Ingredients: eggs, flour, butter, sugar, baking powder, baking soda, salt, baking soda-brown sugar, vanilla extract, cayenne pepper, cinnamon, cloves, nutmeg, vanilla extract, molasses, sour cream, rum, egg substitute, orange juice, lemon zest, lemon juice, apple cider vinegar, lime juice, zest of lime, lemon juice, cayenne pepper, nutmeg, cinnamon, cloves, cinnamon stick, cloves, cinnamon, nutmeg, allspice, nutmeg, ground cloves, cloves, cinnamon stick, cloves, cinnamon, cloves, cloves, cinnamon, cloves, cloves, cloves, cloves, cloves, cloves, cloves, cloves, cloves, cloves, cinnamon, cloves, cloves, cloves, cloves, cloves, cloves, cloves, cloves, cloves, cloves, cloves, cloves, cloves, cloves, cloves, cloves, cloves, cloves, cloves, cloves, cloves,\n"
          ]
        },
        {
          "metadata": {
            "tags": null
          },
          "name": "stderr",
          "output_type": "stream",
          "text": [
            "Setting `pad_token_id` to `eos_token_id`:50256 for open-end generation.\n"
          ]
        },
        {
          "metadata": {
            "tags": null
          },
          "name": "stdout",
          "output_type": "stream",
          "text": [
            "Ingredients: eggs, flour, butter, sugar, vanilla extract, baking soda, salt, and cinnamon. Instructions: c(\"Combine eggs, flour, butter, and sugar in large bowl.\", \"Combine vanilla, baking soda, and salt in a large bowl.  Mix well, then set aside.\", \"In another large bowl, combine eggs, flour, and butter with other ingredients, beating until combined.  Chill for 3 to 4 hours, stirring occasionally.\", \"Preheat oven to 350 degrees.  Sprinkle 1 teaspoon sugar over batter and bake for 25 to 35 minutes or until golden brown and toothpick inserted in center comes out clean.\", \"Cool and cut into squares.\", \n",
            "\"Cut into squares.  Spoon on top of cooled cookies and frost with additional sugar.\", \n",
            "\"Note: I put a little bit of butter on top of the cookies, to keep them from sticking.  If you are using regular cr\n"
          ]
        },
        {
          "metadata": {
            "tags": null
          },
          "name": "stderr",
          "output_type": "stream",
          "text": [
            "Setting `pad_token_id` to `eos_token_id`:50256 for open-end generation.\n"
          ]
        },
        {
          "metadata": {
            "tags": null
          },
          "name": "stdout",
          "output_type": "stream",
          "text": [
            "Ingredients: eggs, flour, butter, sugar, baking soda, baking powder, salt, baking soda salt, egg whites. Instructions: c(\"Preheat oven to 350F.\", \"Combine eggs, flour, butter, sugar, baking soda, baking powder, salt, and egg whites in a bowl. Beat on high speed until smooth.\", \"Beat in eggs. Whisk in egg whites. Spread batter into greased 9x13 pan. Bake 8-10 minutes, or until golden brown.  Let cool.\", \"While cake is cooling, make your batter.  Grease 9x13 pan with oil and set aside.\", \"In a medium bowl, whisk together eggs, sugar, baking soda, baking powder, salt, and egg whites until blended.  Whisk in egg whites.  Pour batter into greased 9x13 pan and bake 6-8 minutes until golden brown.\", \"Top with chocolate chips and confection\n"
          ]
        },
        {
          "metadata": {
            "tags": null
          },
          "name": "stderr",
          "output_type": "stream",
          "text": [
            "Setting `pad_token_id` to `eos_token_id`:50256 for open-end generation.\n"
          ]
        },
        {
          "metadata": {
            "tags": null
          },
          "name": "stdout",
          "output_type": "stream",
          "text": [
            "Ingredients: eggs, flour, butter, sugar, eggs, salt, pepper, cinnamon, cloves, nutmeg, nutmeg-flavored flour, vanilla extract, baking soda, salt, cinnamon, nutmeg, ground ginger, allspice, nutmeg, cinnamon and ginger. Instructions: c(\"In a medium bowl, cream butter, flour, sugar, and eggs until creamy.\", \"Beat in eggs one at a time, then beat in salt, pepper, and cinnamon.\", \"Stir in nuts and nutmeg.  Stir in flour until combined.\", \"Stir in vanilla extract.  Gradually add the wet ingredients to the dry.\", \"Continue mixing well until just combined.\", \n",
            "\"Pour batter into a greased 9 x 5 inch spring form pan.\", \n",
            "\"Bake at 350 degrees for 45 minutes or until a toothpick inserted in the center comes out clean and the center is lightly browned.\", \n"
          ]
        },
        {
          "metadata": {
            "tags": null
          },
          "name": "stderr",
          "output_type": "stream",
          "text": [
            "Setting `pad_token_id` to `eos_token_id`:50256 for open-end generation.\n"
          ]
        },
        {
          "metadata": {
            "tags": null
          },
          "name": "stdout",
          "output_type": "stream",
          "text": [
            "Ingredients: eggs, flour, butter, sugar, cinnamon, cloves, ginger, nutmeg, salt, pepper, vanilla. Instructions: c(\"Preheat oven to 400°F (200°C).\", \"Combine flour, butter, sugar, cinnamon, cloves, ginger, nutmeg, salt, pepper, and vanilla in a bowl.\", \"Add eggs one at a time, beating well after each addition.\", \"Beat in remaining ingredients.\", \"Gradually add batter until just combined.\", \"Bake in a 375°F oven for 10 minutes, until a toothpick inserted into center comes out clean.\", \n",
            "\"Remove from oven and cool completely. In a large bowl combine butter, sugar, cinnamon, cloves, ginger, nutmeg, salt, pepper, vanilla. Stir until well combined. Cool to room temperature.\")\n"
          ]
        },
        {
          "metadata": {
            "tags": null
          },
          "name": "stderr",
          "output_type": "stream",
          "text": [
            "Setting `pad_token_id` to `eos_token_id`:50256 for open-end generation.\n"
          ]
        },
        {
          "metadata": {
            "tags": null
          },
          "name": "stdout",
          "output_type": "stream",
          "text": [
            "Ingredients: eggs, flour, butter, sugar, cocoa powder, baking soda, cinnamon, nutmeg, cloves, salt, ginger, allspice, nutmeg, ginger ale. Instructions: c(\"Combine the egg yolks, flour, and butter and mix until creamy. Spread the mixture in greased 8x8 pan.\", \"Coat each sheet of baking paper with butter.\", \"Pour batter onto the paper, using a brush to prevent bubbles.\", \"Bake at 350°F for 15 minutes. Top with 1/4 teaspoon of vanilla.\")\n"
          ]
        },
        {
          "metadata": {
            "tags": null
          },
          "name": "stderr",
          "output_type": "stream",
          "text": [
            "Setting `pad_token_id` to `eos_token_id`:50256 for open-end generation.\n"
          ]
        },
        {
          "metadata": {
            "tags": null
          },
          "name": "stdout",
          "output_type": "stream",
          "text": [
            "Ingredients: eggs, flour, butter, sugar, baking powder, salt, cinnamon, cloves, ginger, nutmeg, cloves, black pepper, cloves, whole cloves, cinnamon, nutmeg, salt, cinnamon, ginger, nutmeg, cloves, whole cloves, black pepper, cloves, whole cloves, whole cloves, cinnamon, nutmeg, salt, cloves, whole cloves, black pepper, cloves, whole cloves, cinnamon, nutmeg, salt, cinnamon, ginger, nut: c(\"eggs\", \"flour\", \"butter\", \"sugar\", \"baking powder\", \"cinnamon\", \"gerns\", \"lemon juice\", \"black pepper\", \"paprika\", \"allspice\", \"nutmeg\", \"parmesan cheese\", \"sugar\", \"unsalted butter\", \"lemon\", \"salt\", \"black pepper\", \"sugar\", \"nutmeg\", \"nut\n"
          ]
        },
        {
          "metadata": {
            "tags": null
          },
          "name": "stderr",
          "output_type": "stream",
          "text": [
            "Setting `pad_token_id` to `eos_token_id`:50256 for open-end generation.\n"
          ]
        },
        {
          "metadata": {
            "tags": null
          },
          "name": "stdout",
          "output_type": "stream",
          "text": [
            "Ingredients: eggs, flour, butter, sugar, cocoa powder, baking powder, salt, baking soda, baking powder substitute, vanilla extract, almond extract, vanilla extract, milk, sour cream, eggs, vanilla, coconut cream, unsalted butter, vanilla ice cream, confectioners' sugar, vanilla pudding mix, coconut milk, unsweetened cocoa, melted chocolate chips, marshmallow topping, orange zest Instructions: 1. Preheat oven to 350°F. 2. Whisk eggs and flour in large bowl.   Stir in cocoa, baking powder, salt and baking soda, and stir in eggs and flour until blended well.  Add to dry ingredients alternately with sugar, and cocoa, beating until just combined.  Gradually beat in the butter, vanilla, and almond extract, then mix until blended well. 3. Grease a 9x13 inch pan. 4. Using a spatula, add about 1\n"
          ]
        },
        {
          "metadata": {
            "tags": null
          },
          "name": "stderr",
          "output_type": "stream",
          "text": [
            "Setting `pad_token_id` to `eos_token_id`:50256 for open-end generation.\n"
          ]
        },
        {
          "metadata": {
            "tags": null
          },
          "name": "stdout",
          "output_type": "stream",
          "text": [
            "Ingredients: eggs, flour, butter, sugar, brown sugar, corn syrup, baking soda, salt, vanilla extract, eggs, sour cream, chocolate chips, confectioners' sugar, lemon juice, vanilla extract. Instructions: c(\"Preheat oven to 350°F.\", \"Filling:.\", \"Whisk flour, butter, sugar, brown sugar, corn syrup, baking soda, salt, vanilla extract, eggs, sour cream, chocolate chips, confectioners' sugar, lemon juice, vanilla extract.\", \"Mix together flour, sugar, brown sugar, corn syrup, baking soda, salt, and vanilla.\", \"Divide batter evenly among greased 13x9x2-inch pan.\", \"Bake for 1 hour at 350°F.\", \"Allow to cool completely on wire rack.\")\n"
          ]
        },
        {
          "metadata": {
            "tags": null
          },
          "name": "stderr",
          "output_type": "stream",
          "text": [
            "Setting `pad_token_id` to `eos_token_id`:50256 for open-end generation.\n"
          ]
        },
        {
          "metadata": {
            "tags": null
          },
          "name": "stdout",
          "output_type": "stream",
          "text": [
            "Ingredients: eggs, flour, butter, sugar, vanilla extract, salt, baking powder, baking soda, vanilla extract. Instructions: c(\"Whisk together dry ingredients.\", \"Add wet ingredients and combine well.\", \"In a small bowl, combine egg yolks and vanilla extract until well combined.\", \"Pour into greased greased or lined loaf pan.\", \"Spray bottom of pan with non stick spray and bake for 1 hour. Cool slightly before removing from pan and icing with icing sugar.\", \n",
            "\"Frost with egg yolks.\", \n",
            "\"Cool before serving. Refrigerate until ready to use.\")\n"
          ]
        },
        {
          "metadata": {
            "tags": null
          },
          "name": "stderr",
          "output_type": "stream",
          "text": [
            "Setting `pad_token_id` to `eos_token_id`:50256 for open-end generation.\n"
          ]
        },
        {
          "metadata": {
            "tags": null
          },
          "name": "stdout",
          "output_type": "stream",
          "text": [
            "Ingredients: eggs, flour, butter, sugar, brown sugar, salt, pepper, cinnamon and vanilla extract, egg yolks. Instructions: c(\"1. Combine the eggs and flour in a medium mixing bowl and knead until smooth. Cover and leave to rest in the refrigerator for a few hours.\", \"2. Heat a heavy skillet over medium heat. Butter the edges of the skillet and add the egg mixture. Stir until the mixture resembles coarse meal. Remove from the skillet and spread the batter evenly on each pan. Set aside to cool. Spread the softened butter on the top and spread the brown sugar evenly across the top of the batter.\", \"3. In a large bowl, beat the eggs, cream cheese, and sugar. Slowly beat in the remaining ingredients.  Beat on medium low speed for about 4 minutes or until just combined.  Pour the batter into the prepared pans and bake at 350 degrees for about 45 minutes or\n"
          ]
        },
        {
          "metadata": {
            "tags": null
          },
          "name": "stderr",
          "output_type": "stream",
          "text": [
            "Setting `pad_token_id` to `eos_token_id`:50256 for open-end generation.\n"
          ]
        },
        {
          "metadata": {
            "tags": null
          },
          "name": "stdout",
          "output_type": "stream",
          "text": [
            "Ingredients: eggs, flour, butter, sugar, cinnamon, cloves, nutmeg, salt, pepper. Instructions: c(\"Mix eggs and flour together in a large bowl. Slowly add the butter and sugar to the flour mixture and stir just until combined.\", \"Divide the batter into 3 even rounds, shape each into a round.\", \"Add the nutmeg and cinnamon and beat on low speed until evenly coated.  Beat again at low speed until the dough is very stiff, but not too thick. Fold in the cookies. (Use an 8 inch cookie pan for cookie dough).\", \n",
            "\"Fold one corner of each cookie square over the top and bake at 350 degrees for 10 to 15 minutes or until golden brown. Cool completely.  Cut out cookies using a sharp knife or cookie cutter.\", \n",
            "\"Cool on wire racks.  Keep warm.   When cookies are cool, cut into squares. Spread with remaining 1\n"
          ]
        },
        {
          "metadata": {
            "tags": null
          },
          "name": "stderr",
          "output_type": "stream",
          "text": [
            "Setting `pad_token_id` to `eos_token_id`:50256 for open-end generation.\n"
          ]
        },
        {
          "metadata": {
            "tags": null
          },
          "name": "stdout",
          "output_type": "stream",
          "text": [
            "Ingredients: eggs, flour, butter, sugar, vanilla, salt, pepper, baking soda, cinnamon, ground nutmeg, brown sugar, egg substitute, water, egg yolks. Instructions: c(\"Mix together flour, butter, sugar, and vanilla in a bowl.\", \"Stir in flour mixture until blended.\", \"Add eggs, one at a time, beating after each addition.\", \"Sift together egg substitute, water, and the egg yolks, adding to the flour mixture by teaspoonfuls at a time until just blended.\", \"Bake in a preheated 350 degree oven for 40 to 45 minutes or until toothpick comes out clean. Cool on wire rack and cut into squares.\", \n",
            "\"Makes about 20 cookies per square slice.\", \n",
            "\"They come out like little patties.\", \n",
            "\"Use as much as you want, if you like them thin, but keep them very firm\n"
          ]
        },
        {
          "metadata": {
            "tags": null
          },
          "name": "stderr",
          "output_type": "stream",
          "text": [
            "Setting `pad_token_id` to `eos_token_id`:50256 for open-end generation.\n"
          ]
        },
        {
          "metadata": {
            "tags": null
          },
          "name": "stdout",
          "output_type": "stream",
          "text": [
            "Ingredients: eggs, flour, butter, sugar, salt, baking powder, baking soda, vanilla extract, vanilla extract, vanilla extract, cinnamon, cloves, nutmeg, vanilla extract, cinnamon stick, nutmeg, cloves, cloves, nutmeg, vanilla extract, nutmeg, cloves, nutmeg, cloves, nutmeg, vanilla extract, nutmeg, cloves, nutmeg, cloves, nut: C-- F-- G-- H-- I-- J-- K-- L-- M-- N-- O-- P--Q--R--S-- T--U--V--W-- X-- Y-- Z--\n",
            "\"Strawberry Choconut\". Instructions: c(\"Preheat oven to 375°F (190°C) Grease a 9x13x3in baking dish.\", \"Combine flour, butter, sugar, salt, baking powder, baking soda, vanilla extract, vanilla extract, cinnamon,\n"
          ]
        },
        {
          "metadata": {
            "tags": null
          },
          "name": "stderr",
          "output_type": "stream",
          "text": [
            "Setting `pad_token_id` to `eos_token_id`:50256 for open-end generation.\n"
          ]
        },
        {
          "metadata": {
            "tags": null
          },
          "name": "stdout",
          "output_type": "stream",
          "text": [
            "Ingredients: eggs, flour, butter, sugar, salt, baking soda, vanilla extract, and baking powder. Instructions: c(\"Mix together dry ingredients and add to flour mixture. Knead for 2 minutes, then add to the wet mixture.\", \"Beat at medium speed for 30-45 seconds or until moistened.\", \"Pour batter into greased 9-inch springform pan and bake at 350 degrees for about 15 minutes or until lightly browned and a toothpick comes out clean. Cool slightly before removing to wire racks.\")\n"
          ]
        },
        {
          "metadata": {
            "tags": null
          },
          "name": "stderr",
          "output_type": "stream",
          "text": [
            "Setting `pad_token_id` to `eos_token_id`:50256 for open-end generation.\n"
          ]
        },
        {
          "metadata": {
            "tags": null
          },
          "name": "stdout",
          "output_type": "stream",
          "text": [
            "Ingredients: eggs, flour, butter, sugar, salt, cocoa powder, baking powder, baking soda, and vanilla extract; coarsely ground black pepper; 1/2 cup butter (use a 1/2-inch coarsely ground butter).\"\n"
          ]
        },
        {
          "metadata": {
            "tags": null
          },
          "name": "stderr",
          "output_type": "stream",
          "text": [
            "Setting `pad_token_id` to `eos_token_id`:50256 for open-end generation.\n"
          ]
        },
        {
          "metadata": {
            "tags": null
          },
          "name": "stdout",
          "output_type": "stream",
          "text": [
            "Ingredients: eggs, flour, butter, sugar, baking powder, baking soda, salt, cinnamon, nutmeg, cloves, ginger, ginger ale, lemon juice, lemon zest, cider vinegar, apple cider vinegar, lemon zest, cinnamon, nutmeg, cloves, ginger, ginger ale, lemon juice, lemon z: c(\"flour\", \"baking powder\", \"baking soda\", \"salt\", \"cinnamon\", \"nutmeg\", \"ginger\", \"lemon zest\", \"cider vinegar\", \"lemon juice\", \"lemon zest\", \"cider vinegar\", \"lemon juice\", \"lemon zest\", \"cider vinegar\", \"lemon juice\", \"lemon zest\", \"cider vinegar\", \"lemon juice\", \"lemon zest\", \"cider vinegar\", \"le: c(\"reduced-fat yogurt\", \"sour cream\n"
          ]
        },
        {
          "metadata": {
            "tags": null
          },
          "name": "stderr",
          "output_type": "stream",
          "text": [
            "Setting `pad_token_id` to `eos_token_id`:50256 for open-end generation.\n"
          ]
        },
        {
          "metadata": {
            "tags": null
          },
          "name": "stdout",
          "output_type": "stream",
          "text": [
            "Ingredients: eggs, flour, butter, sugar, cocoa powder, baking powder, salt, eggs, vanilla, and nutmeg. Instructions: c(\"Place the dry ingredients in a medium saucepan; heat until almost boiling.\", \"Bring to a boil; reduce heat and simmer for 1 1/2 hours or until thickened; turn down heat and cover.\", \"Remove from heat; stir in chocolate chips. (Chocolate chips are good as the base of this pudding but add more if you want it thicker).\", \"Fold the chocolate into a shallow bowl, and fold in the butter, sugar, and vanilla.\", \"Stir in the eggs, one at a time, until combined.\", \"Sift in the nuts.\", \"Gently fold in the wet ingredients, and continue to mix.\", \"Refrigerate until firm to touch, at least 2 hours.\")\n"
          ]
        },
        {
          "metadata": {
            "tags": null
          },
          "name": "stderr",
          "output_type": "stream",
          "text": [
            "Setting `pad_token_id` to `eos_token_id`:50256 for open-end generation.\n"
          ]
        },
        {
          "metadata": {
            "tags": null
          },
          "name": "stdout",
          "output_type": "stream",
          "text": [
            "Ingredients: eggs, flour, butter, sugar, cinnamon, nutmeg, brown sugar, eggs, egg yolks, vanilla extract, baking powder, baking soda, salt, cinnamon, nutmeg, vanilla extract, and baking soda\", \"unsalted butter, softened\", \"warm milk\", \"unsalted butter\", \"cider vinegar\", \"paprika\", \"baking soda\", \"butter\", \"eggs\", \"milk\", \"unsalted butter\", \"cider vinegar\", \"paprika\", \"baking soda\", \"butter\", \"eggs\", \"milk\", \"unsalted butter\", \"cider vinegar\", \"paprika\", \"baking soda\", \"butter\", \"eggs\", \"milk\", \"unsalted butter\", \"cider vinegar\", \"paprika\", \"baking soda\", \"butter\", \"eggs\", \"milk\", \"uns\n"
          ]
        },
        {
          "metadata": {
            "tags": null
          },
          "name": "stderr",
          "output_type": "stream",
          "text": [
            "Setting `pad_token_id` to `eos_token_id`:50256 for open-end generation.\n"
          ]
        },
        {
          "metadata": {
            "tags": null
          },
          "name": "stdout",
          "output_type": "stream",
          "text": [
            "Ingredients: eggs, flour, butter, sugar, baking powder, salt, ground cinnamon, ground cloves, pepper, salt and baking soda. Instructions: c(\"Combine eggs, flour, butter, and sugar in large bowl. Beat at medium speed on medium speed until stiff peaks form. Add in yeast and mix well.\", \"Add in 2 cups milk, 1/2 cup sugar and 1 cup dry yeast. Turn on to medium speed and gradually add in remaining 2 cups milk, 1/2 cup sugar and 1 cup dry yeast. Turn off speed and continue to beat until smooth and stiff peaks form.\", \"Add remaining 2 cups milk, 1/2 cup sugar and 1 cup dry yeast. Turn off on low speed and continue to beat until smooth and stiff peaks form.\", \"Drop by 1/4-inch balls of batter into greased 9x13-inch loaf pan, and roll out to 1/4-inch thickness.\",\n"
          ]
        },
        {
          "metadata": {
            "tags": null
          },
          "name": "stderr",
          "output_type": "stream",
          "text": [
            "Setting `pad_token_id` to `eos_token_id`:50256 for open-end generation.\n"
          ]
        },
        {
          "metadata": {
            "tags": null
          },
          "name": "stdout",
          "output_type": "stream",
          "text": [
            "Ingredients: eggs, flour, butter, sugar, egg yolks, vanilla extract, baking soda, baking powder, salt, cayenne pepper, paprika, garlic powder, cinnamon, nutmeg, cloves, pumpkin puree, water, salt, cinnamon, ground ginger, nutmeg, cloves, pepper, baking soda, baking powder, cayenne powder, salt, cloves, nutmeg, pumpkin puree, water, cayenne, nutmeg, ginger, cayenne pepper, cinnamon, ginger, nutmeg, spices, allspice powder, cinnamon, cloves, cloves, nutmeg, pumpkin puree, salt, ginger, nutmeg, cloves, pepper, baking soda, baking powder, cayenne powder, salt, cloves, nutmeg, pumpkin puree, salt, ginger, nutmeg, cloves, pepper, spices, allspice powder, cinnamon, cloves, cloves, nutmeg,\n"
          ]
        },
        {
          "metadata": {
            "tags": null
          },
          "name": "stderr",
          "output_type": "stream",
          "text": [
            "Setting `pad_token_id` to `eos_token_id`:50256 for open-end generation.\n"
          ]
        },
        {
          "metadata": {
            "tags": null
          },
          "name": "stdout",
          "output_type": "stream",
          "text": [
            "Ingredients: eggs, flour, butter, sugar, cocoa, vanilla extract, and baking powder.\", \"Topping: 1/2 cup milk, milk chocolate chips, powdered sugar, and cinnamon.\", \"Topping: 1/4 cup powdered sugar, and half of the dry ingredients, if using, but I have never tried this method.\", \"Creme Brulee: 1 cup powdered sugar, cocoa, and vanilla extract.\", \"Mixed Layer: 1/2 cup milk, chocolate chips, sugar, and cinnamon.\", \"Topping: 1/2 cup powdered sugar, and half of the dry ingredients, if using, but I have never tried this method.\", \"Lavender Layer: 1/2 cup milk, chocolate chips, sugar, and cinnamon.\", \"Topping: 1/4 cup powdered sugar, and half of the dry ingredients, if using, but I have never tried this method.\", \n",
            "\"Cream Cheese Layer\n"
          ]
        },
        {
          "metadata": {
            "tags": null
          },
          "name": "stderr",
          "output_type": "stream",
          "text": [
            "Setting `pad_token_id` to `eos_token_id`:50256 for open-end generation.\n"
          ]
        },
        {
          "metadata": {
            "tags": null
          },
          "name": "stdout",
          "output_type": "stream",
          "text": [
            "Ingredients: eggs, flour, butter, sugar, eggs, vanilla extract, salt and pepper, brown sugar and cinnamon. Instructions: c(\"Preheat oven to 350.\", \"In a large bowl, cream butter, sugar, eggs, vanilla, salt and pepper until creamy.\", \"Add flour and cinnamon; stir well.\", \"Add milk to creaming mixture; beat well.\", \"Add eggs 1 at a few minutes, at the end of the milk mixture, whisk to combine.\", \"Add vanilla and flour.\", \"Stir in brown sugar and cinnamon.\", \"Roll dough into 8 balls and place in greased 9\\\" square pan.\", \"Bake for 40 minutes.\", \"Let cool on wire rack for 30 minutes.\", \"Roll into cookie dough and cut into bars.\", \"Let cool on wire rack for 10 minutes.\", \n",
            "\"Serve warm with fresh fruit.\")\n"
          ]
        },
        {
          "metadata": {
            "tags": null
          },
          "name": "stderr",
          "output_type": "stream",
          "text": [
            "Setting `pad_token_id` to `eos_token_id`:50256 for open-end generation.\n"
          ]
        },
        {
          "metadata": {
            "tags": null
          },
          "name": "stdout",
          "output_type": "stream",
          "text": [
            "Ingredients: eggs, flour, butter, sugar, baking soda, salt, vanilla, and nutmeg; 1/2 cup butter\", unsalted butter\", 1/2 cup light brown sugar\", and 1 teaspoon vanilla\", optional Instructions: c(\"Preheat oven to 350.\", \"Grease an 8-inch square baking pan.\", \"In large bowl, mix eggs, flour, butter, and sugar together.  Add vanilla and nutmeg.\", \"Lightly grease pan.\", \"Bake, uncovered, 15 to 20 minutes or until just set on bottom of pan.\", \"Remove from pan.\", \"Place on cooling rack to cool completely.\", \"Let stand 5 minutes before serving.\", \"Serve warm.\")\n"
          ]
        },
        {
          "metadata": {
            "tags": null
          },
          "name": "stderr",
          "output_type": "stream",
          "text": [
            "Setting `pad_token_id` to `eos_token_id`:50256 for open-end generation.\n"
          ]
        },
        {
          "metadata": {
            "tags": null
          },
          "name": "stdout",
          "output_type": "stream",
          "text": [
            "Ingredients: eggs, flour, butter, sugar, baking soda, salt, cinnamon, cloves, ginger, nutmeg, cloves, cloves, vanilla, allspice, vanilla extract, cinnamon sticks, cloves, ginger, nutmeg, cloves, vanilla, almond extract, salt, vanilla extract, ground cinnamon, ground cloves, cinnamon stick, cloves, ginger, nutmeg, cloves, vanilla, almond extract, salt, vanilla extract, ground cinnamon, ground cloves, cinnamon stick, cloves, ginger, nutmeg, cloves, vanilla, almond extract, salt, vanilla extract, ground cinnamon, ground cloves, cinnamon stick, cloves, ginger, nuts, spices, cinnamon, cloves, ginger, nutmeg, cloves, vanilla, almond extract, salt, vanilla extract, ground cinnamon, ground cloves, cinnamon stick, cloves, ginger, nutmeg, cloves, vanilla, almond extract, salt, vanilla extract, ground cinnamon, ground cloves,\n"
          ]
        },
        {
          "metadata": {
            "tags": null
          },
          "name": "stderr",
          "output_type": "stream",
          "text": [
            "Setting `pad_token_id` to `eos_token_id`:50256 for open-end generation.\n"
          ]
        },
        {
          "metadata": {
            "tags": null
          },
          "name": "stdout",
          "output_type": "stream",
          "text": [
            "Ingredients: eggs, flour, butter, sugar, and vanilla extract. Instructions: c(\"Grease and flour two 8-cup muffin cups.\", \"Add the butter, sugar, and vanilla.  Beat on medium speed until just combined.  Add the eggs one at a time, beating well after each addition.  Mix well.\", \"Place on greased cookie sheet and bake at 350 degrees for 35 to 40 minutes.\")\n"
          ]
        },
        {
          "metadata": {
            "tags": null
          },
          "name": "stderr",
          "output_type": "stream",
          "text": [
            "Setting `pad_token_id` to `eos_token_id`:50256 for open-end generation.\n"
          ]
        },
        {
          "metadata": {
            "tags": null
          },
          "name": "stdout",
          "output_type": "stream",
          "text": [
            "Ingredients: eggs, flour, butter, sugar, baking powder, salt, vanilla extract, salt, pepper, milk, eggs, almond milk, almond extract, and almond extract. Instructions: c(\"In a bowl, cream together flour and butter. Beat in sugar. Beat in almonds. Add salt, pepper, milk and eggs. Beat well. Add almond extract. Beat in vanilla. Fold in almond extract. Divide into 6\\\" cake pans and bake at 375°F for 25-30 minutes or until edges are lightly browned. Cool.\", \"Cake pans:.\", \"Bake 10-15 minutes or until edges are lightly browned.\", \"For frosting, melt butter in a large bowl. Stir in almonds, milk and almonds. Add powdered sugar. Stir until well blended. Add the egg whites. Blend well.  Add the vanilla extract. Fold in the almond extract. Blend well.  Add almond extract. Fold\n"
          ]
        },
        {
          "metadata": {
            "tags": null
          },
          "name": "stderr",
          "output_type": "stream",
          "text": [
            "Setting `pad_token_id` to `eos_token_id`:50256 for open-end generation.\n"
          ]
        },
        {
          "metadata": {
            "tags": null
          },
          "name": "stdout",
          "output_type": "stream",
          "text": [
            "Ingredients: eggs, flour, butter, sugar, lemon juice, cinnamon, nutmeg, salt, cayenne pepper, lemon peel, and orange zest. Instructions: c(\"Beat eggs and add butter, sugar, lemon juice, cinnamon, nutmeg, salt and cayenne.\", \"Add flour and mix well.\", \"Add lemon juice and lemon zest, mix well.\", \"Add a little water to thicken and mix well.\", \"Gently fold dough into balls, roll into small balls, pinch each to the inside of the ball.\", \"Place on a greased cookie sheet and bake at 375 degrees for 20-30 minutes.\")\n"
          ]
        },
        {
          "metadata": {
            "tags": null
          },
          "name": "stderr",
          "output_type": "stream",
          "text": [
            "Setting `pad_token_id` to `eos_token_id`:50256 for open-end generation.\n"
          ]
        },
        {
          "metadata": {
            "tags": null
          },
          "name": "stdout",
          "output_type": "stream",
          "text": [
            "Ingredients: eggs, flour, butter, sugar, salt, vanilla extract, baking soda, vanilla extract, cocoa, orange zest, lemon juice, and orange zest extract. Instructions: c(\"Preheat oven to 350 degrees F.\", \"Mix first 4 ingredients in a medium bowl.  Stir in chocolate chips.  Refrigerate until set.  Remove from refrigerator and let stand for 10 minutes.\", \"Pour 1/3 cup into a 13\\\" by 10\\\" cake pan.  Press the edges together with a spatula, and place in the preheated oven.  Bake for 8 to 10 minutes.  Remove from the oven and let cool in the pan before cutting into squares.  Refrigerate at least 3 hours before cutting.\")\n"
          ]
        },
        {
          "metadata": {
            "tags": null
          },
          "name": "stderr",
          "output_type": "stream",
          "text": [
            "Setting `pad_token_id` to `eos_token_id`:50256 for open-end generation.\n"
          ]
        },
        {
          "metadata": {
            "tags": null
          },
          "name": "stdout",
          "output_type": "stream",
          "text": [
            "Ingredients: eggs, flour, butter, sugar, vanilla, baking soda, salt, eggs, vanilla extract, egg yolks, almond extract, almond milk, lemon juice, cinnamon sticks, almond extract, salt, baking soda, nutmeg, and salt. Instructions: c(\"Combine the flour, butter, sugar, and vanilla in a large bowl. With the back of a spoon or wooden spoon, slowly beat in the eggs, 1 at a time, until well mixed. Mix in the egg whites until the batter is well mixed. Add in the vanilla extract and egg yolks and beat until the mixture is light and creamy.\", \"Gradually add in the almonds, 1 at a time, until the mixture is well mixed. Add in the lemon juice, cinnamon sticks, and almond extract and mix until the almonds become a fine meal, about 2-3 minutes. Pour into greased or lightly oiled 13 x 9\n"
          ]
        },
        {
          "metadata": {
            "tags": null
          },
          "name": "stderr",
          "output_type": "stream",
          "text": [
            "Setting `pad_token_id` to `eos_token_id`:50256 for open-end generation.\n"
          ]
        },
        {
          "metadata": {
            "tags": null
          },
          "name": "stdout",
          "output_type": "stream",
          "text": [
            "Ingredients: eggs, flour, butter, sugar, baking powder, salt, pepper, vanilla extract, egg substitute, chocolate chips, cocoa powder, butter, margarine, confectioners' sugar, egg substitute, instant espresso powder, cocoa powder, vanilla, cocoa powder, melted chocolate chips, cocoa powder, melted chocolate chips, cocoa powder, vanilla, cocoa powder, melted chocolate chips, cocoa powder, melted chocolate chips, cocoa powder, chocolate chips, cocoa powder, chocolate chips, cocoa powder, cocoa powder, vanilla, cocoa powder, cocoa powder, vanilla, cocoa powder, vanilla, cocoa powder, vanilla, cocoa powder, cocoa powder, cocoa powder, cocoa powder, vanilla, cocoa powder, vanilla, cocoa powder, vanilla, cocoa powder, vanilla, cocoa powder, vanilla, cocoa powder, vanilla, cocoa powder, vanilla, cocoa powder, vanilla, cocoa powder, vanilla, cocoa powder, vanilla, cocoa powder, vanilla, cocoa powder\n"
          ]
        },
        {
          "metadata": {
            "tags": null
          },
          "name": "stderr",
          "output_type": "stream",
          "text": [
            "Setting `pad_token_id` to `eos_token_id`:50256 for open-end generation.\n"
          ]
        },
        {
          "metadata": {
            "tags": null
          },
          "name": "stdout",
          "output_type": "stream",
          "text": [
            "Ingredients: eggs, flour, butter, sugar, baking powder, baking soda, salt, cocoa, vanilla and salt, ground cinnamon.\", \"1/4 cup melted coconut\", \"egg\", \"light brown sugar\", \"vanilla extract\", \"flour\", \"butter\", \"cinnamon\", \"pecans\", \"egg\", \"light brown sugar\", \"van: Creme de Cacao, coconut and vanilla extract; mix.\", \"egg\", \"creamy peanut butter\", \"water\", \"flour\", \"butter\", \"cinnamon\", \"pecans\", \"light brown sugar\", \"van\", \"Creme de Cacao.\", \"sugar\", \"unsalted butter\", \"vanilla extract\"). Instructions: c(\"1. In a medium bowl, combine dry ingredients and mix with hands until just blended. Set aside.\", \"2. In a large bowl, stir together wet ingredients until just blended.\n"
          ]
        },
        {
          "metadata": {
            "tags": null
          },
          "name": "stderr",
          "output_type": "stream",
          "text": [
            "Setting `pad_token_id` to `eos_token_id`:50256 for open-end generation.\n"
          ]
        },
        {
          "metadata": {
            "tags": null
          },
          "name": "stdout",
          "output_type": "stream",
          "text": [
            "Ingredients: eggs, flour, butter, sugar, yeast, baking powder, baking soda, salt, vanilla, and almond extract. Instructions: c(\"In a medium saucepan, whisk together the milk, eggs, and flour until well blended, about 1 minute.\", \"In a small bowl, beat the butter, sugar, yeast, and vanilla with a wooden spoon until fluffy. Add the almond extract, stirring just until combined. Beat until well blended, about 1 minute.\", \"Add the almond extract and vanilla mixture and beat until smooth.\", \"Add the wet ingredients (the egg yolks and the egg whites) to the dry ingredients (the milk, egg whites, flour, the almond extract, and vanilla) and mix just until just combined.\", \n",
            "\"Drop by spoonfuls into greased or floured cookie sheets. Bake at 350F for about 40 minutes. Allow to cool for about 5 minutes before removing from the\n"
          ]
        },
        {
          "metadata": {
            "tags": null
          },
          "name": "stderr",
          "output_type": "stream",
          "text": [
            "Setting `pad_token_id` to `eos_token_id`:50256 for open-end generation.\n"
          ]
        },
        {
          "metadata": {
            "tags": null
          },
          "name": "stdout",
          "output_type": "stream",
          "text": [
            "Ingredients: eggs, flour, butter, sugar, brown sugar, cocoa, vanilla, baking soda, salt, cinnamon, cloves, nutmeg, nutmeg, allspice, nutmeg, salt, ground cloves, cinnamon, nutmeg, salt, allspice, cinnamon, cloves, nutmeg, nutmeg, vanilla extract, vanilla, egg whites, oil, margarine, flour, cocoa, vanilla extract, molasses, chocolate chips, peanuts, chocolate chips, allspice, cinnamon, cloves, nutmeg, nut: c(\"vanilla pudding mix\", \"butter\", \"milk\", \"heavy cream\", \"butter\", \"eggs\", \"cream cheese\", \"vanilla extract\", \"butter\", \"margarine\", \"heavy cream\", \"cream cheese\", \"margarine\", \"cream cheese\", \"butter\", \"sugar\", \"cream cheese\", \"vanilla\", \"egg\",\n"
          ]
        },
        {
          "metadata": {
            "tags": null
          },
          "name": "stderr",
          "output_type": "stream",
          "text": [
            "Setting `pad_token_id` to `eos_token_id`:50256 for open-end generation.\n"
          ]
        },
        {
          "metadata": {
            "tags": null
          },
          "name": "stdout",
          "output_type": "stream",
          "text": [
            "Ingredients: eggs, flour, butter, sugar, cinnamon, nutmeg, cloves, nutmeg, cloves, cayenne pepper, nutmeg, cloves, and cinnamon. Instructions: c(\"In a mixing bowl, combine eggs, flour, butter, and sugar; beat with mixer on medium speed until well combined.\", \"Add cinnamon and nutmeg.\", \"Beat on low speed until mixture becomes smooth.\", \"Gradually add in nutmeg and mix well.\", \"Add in spices, beating well.\", \"Drop by tablespoonfuls onto greased cookie sheets.\", \"Bake at 400 degrees for 1 hour or until lightly browned.\")\n"
          ]
        },
        {
          "metadata": {
            "tags": null
          },
          "name": "stderr",
          "output_type": "stream",
          "text": [
            "Setting `pad_token_id` to `eos_token_id`:50256 for open-end generation.\n"
          ]
        },
        {
          "metadata": {
            "tags": null
          },
          "name": "stdout",
          "output_type": "stream",
          "text": [
            "Ingredients: eggs, flour, butter, sugar, baking powder, salt, baking soda, egg yolks, vanilla extract, cocoa powder, almond extract, pecans, molasses, molasses, ground cinnamon and ground cloves.\", \"Cocoa powder: Combine egg whites with the sugar and eggs.\", \"Cream butter and sugar in a small bowl.\", \"Add flour and almond extract and vanilla.\", \"Gradually add molasses and molasses, blending well.\", \"Gradually add egg yolks.\", \"Gradually add the dry ingredients and beat well.\", \"Stir in chocolate chips.\", \"Chill overnight.\", \"Drop by rounded teaspoonfuls on cookie sheet. Place in freezer for 1 hour.\", \"Cool.\", \"Remove from refrigerator and chill, then cut into squares.\", \n",
            "\"Spread over cooled crust and cut into squares.\", \n",
            "\"You may want to roll each piece up and freeze them.\", \"\n"
          ]
        },
        {
          "metadata": {
            "tags": null
          },
          "name": "stderr",
          "output_type": "stream",
          "text": [
            "Setting `pad_token_id` to `eos_token_id`:50256 for open-end generation.\n"
          ]
        },
        {
          "metadata": {
            "tags": null
          },
          "name": "stdout",
          "output_type": "stream",
          "text": [
            "Ingredients: eggs, flour, butter, sugar, baking soda, cocoa powder, salt, cinnamon, ginger, allspice, vanilla and almond extract. Instructions: c(\"Put one package of cake mix in a large mixing bowl, then add 1/3 cup butter, 2/3 cup sugar, and 1/3 cup flour.\", \"Add 1/3 cup butter and mix together until just combined.\", \"Drop by tablespoonfuls onto greased cookie sheets.\", \"Bake at 350 degrees for about 8 to 10 minutes until golden brown.\", \"Cool slightly.\")\n"
          ]
        },
        {
          "metadata": {
            "tags": null
          },
          "name": "stderr",
          "output_type": "stream",
          "text": [
            "Setting `pad_token_id` to `eos_token_id`:50256 for open-end generation.\n"
          ]
        },
        {
          "metadata": {
            "tags": null
          },
          "name": "stdout",
          "output_type": "stream",
          "text": [
            "Ingredients: eggs, flour, butter, sugar, salt and pepper, baking soda, baking powder, cinnamon and nutmeg. Instructions: c(\"In a medium bowl, whisk the egg whites and sugar until frothy.\", \"Stir in the butter, flour and salt until well blended.\", \"Add the baking soda, baking powder, cinnamon and nutmeg and stir until combined.\", \"Drop by rounded tablespoons onto the greased cookie sheet and press gently to seal and to the edge.\", \"Bake for 30-40 minutes or until a toothpick inserted into the center comes out clean. Cool on a wire rack before removing to wire racks to cool completely.\")\n"
          ]
        },
        {
          "metadata": {
            "tags": null
          },
          "name": "stderr",
          "output_type": "stream",
          "text": [
            "Setting `pad_token_id` to `eos_token_id`:50256 for open-end generation.\n"
          ]
        },
        {
          "metadata": {
            "tags": null
          },
          "name": "stdout",
          "output_type": "stream",
          "text": [
            "Ingredients: eggs, flour, butter, sugar, vanilla extract, vanilla bean, baking powder, cinnamon, baking soda, baking soda salt, kosher salt, cinnamon, cloves, ginger, nutmeg, egg yolks, sour cream, vanilla extract, lemon rind\"). Instructions: c(\"Preheat oven to 375°F.\", \"Combine all ingredients in a small bowl and set aside.\", \"In a large mixing bowl, cream butter and sugar together until fluffy. Add egg yolks and sour cream; mix well.\", \"Add vanilla and lemon rind and mix well.\", \"Spread batter evenly over batter. Bake for 10-12 minutes or until golden brown.\", \"Let stand 10 minutes before cutting and serving.\", \n",
            "\"NOTE: To make vanilla pudding, mix all ingredients and set aside.\", \"Serve with whipped cream, if desired.\")\n"
          ]
        },
        {
          "metadata": {
            "tags": null
          },
          "name": "stderr",
          "output_type": "stream",
          "text": [
            "Setting `pad_token_id` to `eos_token_id`:50256 for open-end generation.\n"
          ]
        },
        {
          "metadata": {
            "tags": null
          },
          "name": "stdout",
          "output_type": "stream",
          "text": [
            "Ingredients: eggs, flour, butter, sugar, baking powder, baking soda, salt, baking powder and cinnamon; 1/4 cup dry milk\", \"powdered sugar\", \"vanilla\", \"all-purpose flour\", \"baking soda\", \"salt\", \"chocolate\", \"chocolate chips\", \"butter\", \"pecans\", \"granulated sugar\", \"walnuts\"). Instructions: c(\"Heat oven to 325°.\", \"Mix dry ingredients well.\", \"Add milk.\", \"Combine dry ingredients.\", \"In large mixing bowl, beat eggs until well blended.\", \"Stir in chocolate and walnuts.\", \"Add melted butter, beating well.\", \"Fold in remaining dry ingredients.\", \"Gradually stir in pumpkin until well blended.\", \"Fold in nuts and mix well.\", \"Spoon batter into greased or lined 9\\\" x 13\\\" pan and bake 20 minutes or until set.\")\n"
          ]
        },
        {
          "metadata": {
            "tags": null
          },
          "name": "stderr",
          "output_type": "stream",
          "text": [
            "Setting `pad_token_id` to `eos_token_id`:50256 for open-end generation.\n"
          ]
        },
        {
          "metadata": {
            "tags": null
          },
          "name": "stdout",
          "output_type": "stream",
          "text": [
            "Ingredients: eggs, flour, butter, sugar, baking powder, baking soda, salt, nutmeg, cinnamon, cloves, nutmeg, cloves, vanilla extract, salt, molasses, cinnamon sugar, oil, cinnamon sugar, vanilla extract, vanilla extract, salt, molasses, cocoa powder, vanilla extract, salt, molasses, butter, chocolate, brown sugar, water, cocoa, butter, sugar, oil, oil, molasses, cinnamon, salt, molasses, oil, oil, molasses, cinnamon sugar, molasses, brown sugar, water, cocoa, butter, sugar, oil, molasses, cinnamon sugar, molasses, butter, molasses, chocolate, butter, molasses, brown sugar, water, cocoa, butter, sugar, oil, molasses, cinnamon sugar, molasses, butter, molasses, chocolate, butter, molasses, brown sugar, water, cocoa, oil, molasses\n"
          ]
        },
        {
          "metadata": {
            "tags": null
          },
          "name": "stderr",
          "output_type": "stream",
          "text": [
            "Setting `pad_token_id` to `eos_token_id`:50256 for open-end generation.\n"
          ]
        },
        {
          "metadata": {
            "tags": null
          },
          "name": "stdout",
          "output_type": "stream",
          "text": [
            "Ingredients: eggs, flour, butter, sugar, cinnamon, nutmeg, salt, baking powder, vanilla, and water. Instructions: c(\"In a medium bowl, combine the dry ingredients; set aside.\", \"In a large mixing bowl, beat the egg yolks and sugar until fluffy. Beat in the vanilla and water.  Add the dry ingredients to the wet ingredients and beat until stiff and lumpy.  Add the butter and beat again until thoroughly incorporated.\", \"Drop by teaspoonfuls of batter into a greased greased cookie sheet.  Bake at 350 degrees F for about 45 minutes or until a toothpick inserted in the center comes out clean.  Cool completely on a wire rack.   Refrigerate overnight or up to 24 hours before serving.\")\n"
          ]
        },
        {
          "metadata": {
            "tags": null
          },
          "name": "stderr",
          "output_type": "stream",
          "text": [
            "Setting `pad_token_id` to `eos_token_id`:50256 for open-end generation.\n"
          ]
        },
        {
          "metadata": {
            "tags": null
          },
          "name": "stdout",
          "output_type": "stream",
          "text": [
            "Ingredients: eggs, flour, butter, sugar, baking soda, salt, yeast and salt. Instructions: c(\"Combine all ingredients in a bowl and set aside.\", \"Cut dough in half and make 18 rectangles (1 inch wide).\", \"Coat each rectangle in butter, then sprinkle with sugar and flour.\", \"Turn and cut into 18 triangles.\", \"Bake at 350 degrees for 15 to 20 minutes or until golden brown.\")\n"
          ]
        },
        {
          "metadata": {
            "tags": null
          },
          "name": "stderr",
          "output_type": "stream",
          "text": [
            "Setting `pad_token_id` to `eos_token_id`:50256 for open-end generation.\n"
          ]
        },
        {
          "metadata": {
            "tags": null
          },
          "name": "stdout",
          "output_type": "stream",
          "text": [
            "Ingredients: eggs, flour, butter, sugar, milk, vanilla extract, all-purpose flour\", \"salt\", \"nutmeg\", \"all-purpose flour\", \"cinnamon\", \"salt\", \"pecans\"). Instructions: c(\"Preheat oven to 350.\", \"Grease and flour a 9x13 baking pan.\", \"Mix together first 5 ingredients.\", \"Shape dough into 1\\\" balls and roll into 4\\\" balls.\", \"Pour 1/2 cup filling into each ball.\", \"Bake 20-25 minutes or until edges are lightly browned.\", \"Cool 10 minutes.\", \"Cut into squares and serve.\", \"Makes 24 triangles.\", \"Ingredients: baking flour, 2 T. salt, 1/4 T. cinnamon.\", \"In a large bowl combine first 7 ingredients.\", \"Gradually beat in 1/2 cup flour mixture until moistened.\", \"Bake 10-15 minutes or until just firm.\")\n"
          ]
        },
        {
          "metadata": {
            "tags": null
          },
          "name": "stderr",
          "output_type": "stream",
          "text": [
            "Setting `pad_token_id` to `eos_token_id`:50256 for open-end generation.\n"
          ]
        },
        {
          "metadata": {
            "tags": null
          },
          "name": "stdout",
          "output_type": "stream",
          "text": [
            "Ingredients: eggs, flour, butter, sugar, vanilla extract, milk, vanilla extract, salt, baking powder, cinnamon and nutmeg. Instructions: c(\"Grease a 9 x 5 inch baking dish.\", \"In medium saucepan melt butter and whisk in eggs until fluffy.\", \"Add flour and butter and whisk until light and fluffy.\", \"Add vanilla extract and whisk to combine.\", \"Add milk and vanilla extract, whisk to combine.\", \"Spoon 1/4 of mixture into baking dish.\", \"Top with remaining dough.\", \"Sprinkle remaining dough over with remaining dough.\", \"Bake at 375 F for 40 minutes.\")\n"
          ]
        },
        {
          "metadata": {
            "tags": null
          },
          "name": "stderr",
          "output_type": "stream",
          "text": [
            "Setting `pad_token_id` to `eos_token_id`:50256 for open-end generation.\n"
          ]
        },
        {
          "metadata": {
            "tags": null
          },
          "name": "stdout",
          "output_type": "stream",
          "text": [
            "Ingredients: eggs, flour, butter, sugar, salt, baking soda and spices, vanilla extract, vanilla extract, cinnamon, ginger, nutmeg and nutmeg powder. Instructions: c(\"For the muffin, beat the eggs and sugar together until well mixed, about 1 minute.\", \"Gradually add the flour mixture until thoroughly blended and just beginning to clump, about 2 minutes.\", \"Pour the batter into the prepared muffin cups.\", \"Bake in the preheated oven for 25 minutes.\")\n"
          ]
        },
        {
          "metadata": {
            "tags": null
          },
          "name": "stderr",
          "output_type": "stream",
          "text": [
            "Setting `pad_token_id` to `eos_token_id`:50256 for open-end generation.\n"
          ]
        },
        {
          "metadata": {
            "tags": null
          },
          "name": "stdout",
          "output_type": "stream",
          "text": [
            "Ingredients: eggs, flour, butter, sugar, corn syrup, salt, and pepper; mix in 1 1/2 cups sugar.\", \"Mix together with your hands until well mixed. Fold in 1/2 cup of the corn syrup.  (I make this by hand and place in a large bowl and mix with the rest of the syrup, and add more corn syrup if it is too stiff.).\", \"Pour into 8\\\"x8\\\" baking dish and spread with the remaining syrup.   Bake at 350º for 25 minutes.   Serve warm with whipped cream.\")\n"
          ]
        },
        {
          "metadata": {
            "tags": null
          },
          "name": "stderr",
          "output_type": "stream",
          "text": [
            "Setting `pad_token_id` to `eos_token_id`:50256 for open-end generation.\n"
          ]
        },
        {
          "metadata": {
            "tags": null
          },
          "name": "stdout",
          "output_type": "stream",
          "text": [
            "Ingredients: eggs, flour, butter, sugar, corn syrup, baking soda, salt, baking powder, salt, baking soda, corn syrup, cinnamon, orange juice, and vanilla extract. Instructions: c(\"Preheat oven to 350 degrees.\", \"Cream together egg yolks and oil. Add dry ingredients to eggs and beat until creamy. Add flour, beating until well blended.\", \"Divide mixture between prepared pan and greased 12-inch tart pan.\", \"Bake for 40 minutes, or until toothpick comes out clean.\", \"Remove from oven and let cool completely.\", \"Serve chilled with vanilla ice cream.\")\n"
          ]
        },
        {
          "metadata": {
            "tags": null
          },
          "name": "stderr",
          "output_type": "stream",
          "text": [
            "Setting `pad_token_id` to `eos_token_id`:50256 for open-end generation.\n"
          ]
        },
        {
          "metadata": {
            "tags": null
          },
          "name": "stdout",
          "output_type": "stream",
          "text": [
            "Ingredients: eggs, flour, butter, sugar, baking soda, vanilla extract, cinnamon, nutmeg, cinnamon stick, nutmeg, baking powder, salt, cinnamon powder, vanilla, cocoa, vanilla extract, and ground almonds. Instructions: c(\"Preheat oven to 375.\", \"Coat 13 x 9 x 2 inch baking dish with cooking spray. Lightly spray baking sheet with cooking spray. Set aside.\", \"Combine first 6 ingredients in a medium bowl. Whisk together first 5 ingredients and stir in almond mixture. Spread over crust in prepared baking dish.\", \"Bake crust for about 20 minutes or until top is golden brown. Let cool slightly. Cut into squares or bars using a sharp knife or cookie cutter. Keep refrigerated.\", \n",
            "\"Serve with a nice syrup to dip them in.\")\n"
          ]
        },
        {
          "metadata": {
            "tags": null
          },
          "name": "stderr",
          "output_type": "stream",
          "text": [
            "Setting `pad_token_id` to `eos_token_id`:50256 for open-end generation.\n"
          ]
        },
        {
          "metadata": {
            "tags": null
          },
          "name": "stdout",
          "output_type": "stream",
          "text": [
            "Ingredients: eggs, flour, butter, sugar, and vanilla extract. Instructions: c(\"Combine all ingredients in a saucepan.\", \"Add a splash of water to make the consistency you want.\", \"Bake at 325°F for 25 minutes.\")\n"
          ]
        },
        {
          "metadata": {
            "tags": null
          },
          "name": "stderr",
          "output_type": "stream",
          "text": [
            "Setting `pad_token_id` to `eos_token_id`:50256 for open-end generation.\n"
          ]
        },
        {
          "metadata": {
            "tags": null
          },
          "name": "stdout",
          "output_type": "stream",
          "text": [
            "Ingredients: eggs, flour, butter, sugar, and salt\", \"butter or margarine\", \"margarine\", \"margarine\", \"margarine\", \"margarine\", \"margarine\", \"margarine\", \"margarine\", \"margarine\", \"margarine\", \"margarine\", \"margarine\", \"margarine\", \"margarine\", \"margarine\", \"margarine\", \"margarine\", \"margarine\", \"margarine\", \"margarine\", \"margarine\", \"margarine\", \"margarine\", \"margarine\", \"margarine\", \"margarine\", \"margarine\", \"margarine\", \"margarine\", \"margarine\", \"margarine\", \"margarine\", \"margarine\", \"margarine\", \"margarine\", \"margarine\", \"margarine\", \"margarine\", \"margarine\", \"margarine\", \"margarine\", \"margarine\", \"margarine\", \"\n"
          ]
        },
        {
          "metadata": {
            "tags": null
          },
          "name": "stderr",
          "output_type": "stream",
          "text": [
            "Setting `pad_token_id` to `eos_token_id`:50256 for open-end generation.\n"
          ]
        },
        {
          "metadata": {
            "tags": null
          },
          "name": "stdout",
          "output_type": "stream",
          "text": [
            "Ingredients: eggs, flour, butter, sugar, egg white, corn syrup, cornmeal, yeast, agave nectar, vanilla extract, cornstarch, salt, baking soda, baking powder, molasses, baking soda, molasses, sugar, vanilla extract, cornstarch, baking soda, baking powder, molasses, sugar, vanilla extract, molasses, vanilla extract, molasses, vanilla extract, molasses, vanilla extract, molasses, vanilla extract, molasses, vanilla extract, molasses, vanilla extract, molasses, vanilla extract, molasses, vanilla extract, molasses, vanilla extract, molasses, vanilla extract, molasses, vanilla extract, molasses, vanilla extract, molasses, vanilla extract, molasses, vanilla extract, molasses, vanilla extract, molasses, vanilla extract, molasses, vanilla extract, molasses, vanilla extract, molasses, vanilla extract, molasses\n"
          ]
        },
        {
          "metadata": {
            "tags": null
          },
          "name": "stderr",
          "output_type": "stream",
          "text": [
            "Setting `pad_token_id` to `eos_token_id`:50256 for open-end generation.\n"
          ]
        },
        {
          "metadata": {
            "tags": null
          },
          "name": "stdout",
          "output_type": "stream",
          "text": [
            "Ingredients: eggs, flour, butter, sugar, salt and vanilla extract. Instructions: c(\"Lightly grease an 8 inch round cake pan with vegetable oil or spray with cooking spray.\", \"Add egg whites to batter and blend well with hands.\", \"Combine wet ingredients in medium bowl.\", \"Add dry ingredients to wet mixture and stir well.\", \"Pour batter into prepared pan.\", \"Bake at 350 degrees for 30 minutes.\")\n"
          ]
        },
        {
          "metadata": {
            "tags": null
          },
          "name": "stderr",
          "output_type": "stream",
          "text": [
            "Setting `pad_token_id` to `eos_token_id`:50256 for open-end generation.\n"
          ]
        },
        {
          "metadata": {
            "tags": null
          },
          "name": "stdout",
          "output_type": "stream",
          "text": [
            "Ingredients: eggs, flour, butter, sugar, baking powder, baking soda, salt, salt, vanilla, allspice, cinnamon, and nutmeg. Instructions: c(\"Place in an airtight container and let stand until it reaches room temperature.\", \"Place the eggs in a bowl, mix the flour, butter, sugar, baking powder, baking soda, salt, and vanilla in a bowl.\", \"Add the eggs one at a time to the dry ingredients.\", \"Add the cinnamon, nutmeg, and egg mixture, mixing until the mixture is moistened, the mixture should be thick.\", \"Add the salt and mix with a fork until the batter is moistened.\", \"Bake for 10-12 minutes, or until it is firm and golden brown.\", \n",
            "\"Serve warm with buttercream frosting on the side.\", \"Note: The egg yolks are best used in a separate bowl for this.\", \"If\n"
          ]
        },
        {
          "metadata": {
            "tags": null
          },
          "name": "stderr",
          "output_type": "stream",
          "text": [
            "Setting `pad_token_id` to `eos_token_id`:50256 for open-end generation.\n"
          ]
        },
        {
          "metadata": {
            "tags": null
          },
          "name": "stdout",
          "output_type": "stream",
          "text": [
            "Ingredients: eggs, flour, butter, sugar, salt, baking soda, vanilla extract, cornstarch.\", \"Melt butter in a medium saucepan, add eggs and stir until well combined.\", \"Add flour, stir to incorporate and cook until golden brown and set aside.\", \"Meanwhile, in a medium bowl, beat the eggs, then add sugar and salt. Beat well. Add vanilla, beat until stiff peaks form.\", \"Fold in flour and butter mixture.\", \"Chill.\", \"Cut into 2 inch squares and fill each with about 1 tablespoon.\", \"Bake at 350 for about 20 to 25 minutes, or until lightly browned and lightly browned on center.\", \"Serve with a spoon.\"\n",
            ")\n"
          ]
        },
        {
          "metadata": {
            "tags": null
          },
          "name": "stderr",
          "output_type": "stream",
          "text": [
            "Setting `pad_token_id` to `eos_token_id`:50256 for open-end generation.\n"
          ]
        },
        {
          "metadata": {
            "tags": null
          },
          "name": "stdout",
          "output_type": "stream",
          "text": [
            "Ingredients: eggs, flour, butter, sugar, cinnamon, ginger, cloves, cardamom and cloves\", \"creamy peanut butter\", \"brown sugar\", \"eggs\", \"vanilla\", \"water\"). Instructions: c(\"In a large mixing bowl, beat the eggs until foamy.\", \"Mix the sugar and egg yolks.\", \"Add the cream and mix well.  Add the flour, butter and nutmeg and mix well.\", \"Put in the egg mixture, the cream and the vanilla.\", \"Divide the mixture among 8 or 9 greased, floured or even ungreased baking pans.\", \"Bake for about 8 minutes or until top springs back when touched with toothpick.  Cool on wire racks before removing from pans.  Serve warm with icing or in a greased and frosted cupcake pan.\"\n",
            ")\n"
          ]
        },
        {
          "metadata": {
            "tags": null
          },
          "name": "stderr",
          "output_type": "stream",
          "text": [
            "Setting `pad_token_id` to `eos_token_id`:50256 for open-end generation.\n"
          ]
        },
        {
          "metadata": {
            "tags": null
          },
          "name": "stdout",
          "output_type": "stream",
          "text": [
            "Ingredients: eggs, flour, butter, sugar, baking powder, salt, cinnamon, nutmeg, cloves, cardamoms, cinnamon sticks, raisins, cloves and cardamoms.\", \"Mix the dry ingredients in the egg yolks and add to the wet ingredients and the egg white mixture.\", \"Mix the wet ingredients and the egg whites and put in the dry ingredients.\", \"Spread batter into a 9x13 baking dish. Spread 1/2 of the batter on the prepared baking dish. Then top with the remaining 1/2 and spread with the remaining 1/2. Sprinkle with cinnamon sticks and raisins.\", \n",
            "\"Bake at 350°F for 45 minutes.\")\n"
          ]
        },
        {
          "metadata": {
            "tags": null
          },
          "name": "stderr",
          "output_type": "stream",
          "text": [
            "Setting `pad_token_id` to `eos_token_id`:50256 for open-end generation.\n"
          ]
        },
        {
          "metadata": {
            "tags": null
          },
          "name": "stdout",
          "output_type": "stream",
          "text": [
            "Ingredients: eggs, flour, butter, sugar, cocoa, salt, pepper, baking soda, vanilla, and eggs\", \"crushed pineapple\", \"vanilla extract\", \"ground cinnamon\", \"baking soda\"). Instructions: c(\"Combine dry ingredients in a large bowl.\", \"Add dry ingredients to warm mixture.\", \"Combine wet ingredients in a large bowl.\", \"Add wet ingredients to the wet mixture.\", \"Gently stir.\", \"Pour into prepared muffin cups and bake at 350 for 20-25 min or until toothpick inserted in center comes out clean.\", \"Cool.\")\n"
          ]
        },
        {
          "metadata": {
            "tags": null
          },
          "name": "stderr",
          "output_type": "stream",
          "text": [
            "Setting `pad_token_id` to `eos_token_id`:50256 for open-end generation.\n"
          ]
        },
        {
          "metadata": {
            "tags": null
          },
          "name": "stdout",
          "output_type": "stream",
          "text": [
            "Ingredients: eggs, flour, butter, sugar, salt, cinnamon, cloves, nutmeg, ginger, nutmeg, cloves, ginger, cardamom, cardamom, cardamom, cardamom, cardamom, cinnamon, cloves, cardamom, cinnamon, cardamom, cardamom, cardamom, cinnamon, cardamom, cinnamon, cardamom, cardamom, cardamom, cardamom, cardamom, cardamom, cardamom, cardamom, cardamom, cardamom, cardamom, cardamom, cardamom, cardamom, cardamom, cardamom, cardamom, cardamom, cardamom, cardamom, cardamom, cardamom, cardamom, cardamom, cardamom, cardamom, cardamom, cardamom\n"
          ]
        },
        {
          "metadata": {
            "tags": null
          },
          "name": "stderr",
          "output_type": "stream",
          "text": [
            "Setting `pad_token_id` to `eos_token_id`:50256 for open-end generation.\n"
          ]
        },
        {
          "metadata": {
            "tags": null
          },
          "name": "stdout",
          "output_type": "stream",
          "text": [
            "Ingredients: eggs, flour, butter, sugar, salt, baking powder, baking soda, orange, orange zest, cinnamon, ground nutmeg, cloves, cardamom, ground ginger, gingerroot, cloves of cardamom, ginger, lemon peel, lemon juice, lemon rind, cardamom pods, cardamom powder, cardamom powder\", \"eggs\", \"granulated sugar\", \"lemon juice\", \"water\"). Instructions: c(\"Preheat oven to 375°F\", \"Mix together the ingredients in a large bowl.\", \"Mix in egg yolk and water.\", \"Add to dry ingredients and mix well.\", \"Drop by teaspoonfuls into the greased and floured cookie sheets.\", \"Bake for 15-20 minutes.\", \"Remove from oven and let cool.\", \"Place a scoop of the mixture on top of the egg whites.\")\n"
          ]
        },
        {
          "metadata": {
            "tags": null
          },
          "name": "stderr",
          "output_type": "stream",
          "text": [
            "Setting `pad_token_id` to `eos_token_id`:50256 for open-end generation.\n"
          ]
        },
        {
          "metadata": {
            "tags": null
          },
          "name": "stdout",
          "output_type": "stream",
          "text": [
            "Ingredients: eggs, flour, butter, sugar, and vanilla; mix in baking soda and salt.\", \"In large bowl, stir together the dry ingredients, then stir in the wet ingredients.\", \"Combine dry ingredients and the wet ingredients.\", \"Add the dry ingredients and stir just until smooth. Add vanilla and continue to stir until batter comes together (do not overmix).\", \n",
            "\"Fold in the hot chocolate.\")\n"
          ]
        },
        {
          "metadata": {
            "tags": null
          },
          "name": "stderr",
          "output_type": "stream",
          "text": [
            "Setting `pad_token_id` to `eos_token_id`:50256 for open-end generation.\n"
          ]
        },
        {
          "metadata": {
            "tags": null
          },
          "name": "stdout",
          "output_type": "stream",
          "text": [
            "Ingredients: eggs, flour, butter, sugar, baking powder, salt, nutmeg, cinnamon, nutmeg, ginger, and cloves\", \"butter\", \"margarine\", \"margarine\", \"brown sugar\", \"butter\", \"margarine\", \"brown sugar\", \"butter\", \"margarine\", \"margarine\", \"margarine\", \"margarine\", \"margarine\", \"margarine\", \"margarine\", \"margarine\", \"margarine\", \"margarine\", \"margarine\", \"margarine\", \"margarine\", \"margarine\", \"margarine\", \"margarine\", \"margarine\", \"margarine\", \"margarine\", \"margarine\", \"margarine\", \"margarine\", \"margarine\", \"margarine\", \"margarine\", \"margarine\", \"margarine\", \"margarine\", \"margarine\", \"margarine\", \"margarine\", \"margarine\", \"\n"
          ]
        },
        {
          "metadata": {
            "tags": null
          },
          "name": "stderr",
          "output_type": "stream",
          "text": [
            "Setting `pad_token_id` to `eos_token_id`:50256 for open-end generation.\n"
          ]
        },
        {
          "metadata": {
            "tags": null
          },
          "name": "stdout",
          "output_type": "stream",
          "text": [
            "Ingredients: eggs, flour, butter, sugar, salt, black pepper, and nutmeg, except for the raisin-banana mixture\", \"Combine egg and flour and mix well.\", \"Roll out dough out to about 6 inches in diameter. Wrap in foil and chill.\", \"Punch down dough, turning once to seal.\", \"Refrigerate overnight.\", \"Preheat oven to 350 degrees.\", \"Mix together the rest ingredients, except the nuts and raisins and combine them well.\", \"Roll out to desired size.\", \"Brush with reserved raisin mixture and bake for 45 minutes to an hour.\")\n"
          ]
        },
        {
          "metadata": {
            "tags": null
          },
          "name": "stderr",
          "output_type": "stream",
          "text": [
            "Setting `pad_token_id` to `eos_token_id`:50256 for open-end generation.\n"
          ]
        },
        {
          "metadata": {
            "tags": null
          },
          "name": "stdout",
          "output_type": "stream",
          "text": [
            "Ingredients: eggs, flour, butter, sugar, milk and corn syrup. Instructions: c(\"Mix all ingredients in a blender.\", \"Refrigerate for 2 hours.\", \"Beat dough on low speed for 2 minutes.\", \"Refrigerate at least 1 hour.\", \"Frost with 1 cup sugar and add milk if desired.\")\n"
          ]
        },
        {
          "metadata": {
            "tags": null
          },
          "name": "stderr",
          "output_type": "stream",
          "text": [
            "Setting `pad_token_id` to `eos_token_id`:50256 for open-end generation.\n"
          ]
        },
        {
          "metadata": {
            "tags": null
          },
          "name": "stdout",
          "output_type": "stream",
          "text": [
            "Ingredients: eggs, flour, butter, sugar, and salt. Instructions: c(\"Grease and flour an 8x8 inch loaf pan.\", \"Heat oven to 350 degrees F.\", \"Lightly butter loaf pan.\", \"Dip dough into batter.\", \"Mix with fork until well coated.\", \"Roll dough to 1/4 inch thickness.\", \"Place on lightly greased baking sheet and bake for 20 minutes.\", \"Remove from oven and turn out onto a rack.\", \"Pound out a half inch thick and place on a lightly greased rack in oven for 2 minutes.\", \"While dough is baking sprinkle with powdered sugar and continue to bake for 3 minutes.\", \"Sprinkle with chocolate chips and sprinkle with remaining chocolate.\", \n",
            "\"Allow to cool in the pan for 10 minutes, turning once.\")\n"
          ]
        },
        {
          "metadata": {
            "tags": null
          },
          "name": "stderr",
          "output_type": "stream",
          "text": [
            "Setting `pad_token_id` to `eos_token_id`:50256 for open-end generation.\n"
          ]
        },
        {
          "metadata": {
            "tags": null
          },
          "name": "stdout",
          "output_type": "stream",
          "text": [
            "Ingredients: eggs, flour, butter, sugar, baking soda, molasses, brown sugar, vanilla extract, cinnamon, ginger, cloves, allspice, salt, and nutmeg, combined.\", \"Beat eggs and sugar until well blended.\", \"Add molasses, spices, and salt to eggs and molasses mixture; beat well.\", \"Drop by teaspoonfuls onto greased and floured baking sheets.\", \"Bake at 325°F for 8-9 minutes or until toothpick inserted in center comes out clean.\")\n"
          ]
        },
        {
          "metadata": {
            "tags": null
          },
          "name": "stderr",
          "output_type": "stream",
          "text": [
            "Setting `pad_token_id` to `eos_token_id`:50256 for open-end generation.\n"
          ]
        },
        {
          "metadata": {
            "tags": null
          },
          "name": "stdout",
          "output_type": "stream",
          "text": [
            "Ingredients: eggs, flour, butter, sugar, vanilla, vanilla extract, baking soda, salt, and cinnamon. Instructions: c(\"Preheat oven to 350.\", \"In large bowl, combine egg, oil, sugar, vanilla, and baking soda; set aside.\", \"In another bowl, beat together egg mixture, butter, and sugar until light and fluffy.\", \"Pour into greased muffin tins; bake for 12 minutes.\", \"Let cool completely.\", \"Place cinnamon and salt in a small mixing bowl; set aside.\", \"In a separate bowl, stir together baking soda, salt, and cinnamon.\", \"In another bowl, combine sugar and vanilla.\", \n",
            "\"Add cinnamon, vanilla and cinnamon to the chocolate mixture; stir together until well mixed.\", \"Spoon into 8 or 9 lined muffin cups. Sprinkle with chocolate chips and nuts, if desired.\")\n"
          ]
        },
        {
          "metadata": {
            "tags": null
          },
          "name": "stderr",
          "output_type": "stream",
          "text": [
            "Setting `pad_token_id` to `eos_token_id`:50256 for open-end generation.\n"
          ]
        },
        {
          "metadata": {
            "tags": null
          },
          "name": "stdout",
          "output_type": "stream",
          "text": [
            "Ingredients: eggs, flour, butter, sugar and vanilla, mixed in 1 cup at a time. Instructions: c(\"Preheat oven to 350°F.\", \"Mix dry ingredients in a small bowl.\", \"In a large bowl, beat eggs, flour, and butter until well combined.\", \"Add vanilla and beat until well mixed.\", \"Fold in flour mixture, 1 tablespoon at a time.\", \"Add egg mixture alternately with milk, and beat until well mixed.\", \"Divide dough into 1/2\\\" balls, and place on lightly greased baking sheets.\", \"Bake 15-20 minutes, or until golden brown.\", \"Cool on wire racks before slicing.\")\n"
          ]
        },
        {
          "metadata": {
            "tags": null
          },
          "name": "stderr",
          "output_type": "stream",
          "text": [
            "Setting `pad_token_id` to `eos_token_id`:50256 for open-end generation.\n"
          ]
        },
        {
          "metadata": {
            "tags": null
          },
          "name": "stdout",
          "output_type": "stream",
          "text": [
            "Ingredients: eggs, flour, butter, sugar, salt, egg yolks, vanilla extract, baking powder, cinnamon, nutmeg, and cloves\", \"butter\", \"egg\", \"vanilla extract\", \"sugar\", \"lemon, zest of\", \"flour\"). Instructions: c(\"Make the batter as per directions, or mix in the yolks.\", \"Add the butter, egg yolks and vanilla extract and beat well.\", \"Add the sugar and beat again.\", \"Add the flour and beat to combine.\", \"Pour into the greased pan, spread batter and bake for 1 hour and 40 minutes, or until a toothpick comes out clean.\", \"Let stand at room temperature until the butter is melted, then turn off the heat, cool completely and slice.\", \n",
            "\"Place on a wire rack to cool completely.\", \"Top each slice with a slice of lemon or orange slice, if\n"
          ]
        },
        {
          "metadata": {
            "tags": null
          },
          "name": "stderr",
          "output_type": "stream",
          "text": [
            "Setting `pad_token_id` to `eos_token_id`:50256 for open-end generation.\n"
          ]
        },
        {
          "metadata": {
            "tags": null
          },
          "name": "stdout",
          "output_type": "stream",
          "text": [
            "Ingredients: eggs, flour, butter, sugar, cocoa powder, baking soda, salt, cinnamon, nutmeg, cloves, ginger, allspice, nutmeg and. Instructions: c(\"In a large saucepan, whisk together eggs, flour, butter, sugar and cocoa powder.\", \"Add baking soda, salt and cinnamon and mix well.\", \"Cook over medium-high heat until the mixture thickens slightly, about 3 minutes.\", \"Slowly whisk in the allspice, nutmeg and nutmeg until it's blended.\", \"Add the almonds and cook, stirring frequently, until the almonds are golden brown and the mixture begins to thicken.\", \"Place the mixture in a bowl and cover with a kitchen towel.\", \n",
            "\"Cover the pan and cook for 1 hour, or until the mixture has thicken and the almonds are melted.\", \"Serve immediately.\")\n"
          ]
        },
        {
          "metadata": {
            "tags": null
          },
          "name": "stderr",
          "output_type": "stream",
          "text": [
            "Setting `pad_token_id` to `eos_token_id`:50256 for open-end generation.\n"
          ]
        },
        {
          "metadata": {
            "tags": null
          },
          "name": "stdout",
          "output_type": "stream",
          "text": [
            "Ingredients: eggs, flour, butter, sugar, salt, pepper and cayenne pepper in a large saucepan over medium heat; simmer, stirring occasionally, until the eggs are thoroughly set (about 10 minutes), stirring occasionally. Turn off the heat and let cool slightly. Stir in the flour mixture and the salt and pepper.\", \"Melt the butter in a medium nonstick frying pan over a low heat. When it begins to shimmer, add the sugar, stir and stir a few times until the sugar dissolves. Add the eggs; gradually pour the flour mixture into the pan. Cook about 3 minutes over a low heat, stirring often to make sure that the flour doesn't scorch. Turn off the heat and allow the flour to cool completely.  Once the flour is completely cooled, add the cayenne. Stir the mixture until smooth. Allow it to cook for 1 minute.\", \n",
            "\"Once the mixture is well cooked\n"
          ]
        },
        {
          "metadata": {
            "tags": null
          },
          "name": "stderr",
          "output_type": "stream",
          "text": [
            "Setting `pad_token_id` to `eos_token_id`:50256 for open-end generation.\n"
          ]
        },
        {
          "metadata": {
            "tags": null
          },
          "name": "stdout",
          "output_type": "stream",
          "text": [
            "Ingredients: eggs, flour, butter, sugar, baking powder, salt, eggs, and milk; 1 cup flour; 1 cup sugar, baking powder, and salt; 1/4 cup butter; 1/2 cup milk; 1/2 cup eggs; 1/2 cup water; 1/2 cup powdered sugar, baking powder, and salt. Instructions: c(\"Mix flour, 1/4 cup butter, 1/2 cup milk, and 1/4 cup egg together.\", \"Cut dough into 10 pieces; place each piece on a lightly floured surface.\", \"Combine flour, 1/4 cup butter, and 1/4 cup milk together; shape dough into a ball.\", \"Roll out each ball in flour mixture.\", \"Press dough into an ungreased baking pan.\", \n",
            "\"Bake at 325°F for 30 to 35 minutes or until a toothpick inserted into the center comes out clean.\")\n"
          ]
        },
        {
          "metadata": {
            "tags": null
          },
          "name": "stderr",
          "output_type": "stream",
          "text": [
            "Setting `pad_token_id` to `eos_token_id`:50256 for open-end generation.\n"
          ]
        },
        {
          "metadata": {
            "tags": null
          },
          "name": "stdout",
          "output_type": "stream",
          "text": [
            "Ingredients: eggs, flour, butter, sugar, molasses, yeast, salt, baking soda, and brown sugar (butter), 1/2 cup molasses, oil, eggs, oil, milk, yeast, salt, baking soda, brown sugar, and vanilla), 1/2 cup molasses, 1/4 cup molasses, and 1/2 cup oil.\", \"In a medium bowl, beat together flour, butter, molasses, oil, eggs, molasses, 1/4 cup molasses, oil, 1/4 cup molasses, oil, milk, and milk mixture on medium speed just until smooth. Stir in egg yolk, flour, molasses, butter, sugar, and molasses. Gradually add molasses mixture, 1/4 cup molasses, oil, and yeast. Mix in the brown sugar and milk until just combined.\", \n",
            "\"Stir the dough into a lightly greased\n"
          ]
        },
        {
          "metadata": {
            "tags": null
          },
          "name": "stderr",
          "output_type": "stream",
          "text": [
            "Setting `pad_token_id` to `eos_token_id`:50256 for open-end generation.\n"
          ]
        },
        {
          "metadata": {
            "tags": null
          },
          "name": "stdout",
          "output_type": "stream",
          "text": [
            "Ingredients: eggs, flour, butter, sugar, vanilla extract, brown sugar, allspice, cloves and cinnamon.\", \"Chocolate Cake Mix:\", \"cream cheese, coconut, egg white, and milk.\", \"Cream Cheese:\", \"Cream Cheese:\", \"Creme de Cacao:\", \"Cool Whip:\", \"Cool Whip:\", \"Cool Whip:\", \"Cool Whip:\", \"Cool Whip:\", \"Cool Whip:\", \"Cool Whip:\", \"Cool Whip:\", \"Cool Whip:\", \"Cool Whip:\", \"Cool Whip:\", \"Cool Whip:\", \"Cool Whip:\", \"Cool Whip:\", \"Cool Whip:\", \"Cool Whip:\", \"Cool Whip:\", \"Cool Whip:\", \"Cool Whip:\", \"Cool Whip:\", \"Cool Whip:\", \"Cool Whip:\", \"Cool Whip:\", \"Cool Whip:\", \"Cool Whip:\",\n"
          ]
        },
        {
          "metadata": {
            "tags": null
          },
          "name": "stderr",
          "output_type": "stream",
          "text": [
            "Setting `pad_token_id` to `eos_token_id`:50256 for open-end generation.\n"
          ]
        },
        {
          "metadata": {
            "tags": null
          },
          "name": "stdout",
          "output_type": "stream",
          "text": [
            "Ingredients: eggs, flour, butter, sugar, baking soda, salt, and vanilla extract. Instructions: c(\"Preheat oven to 350.\", \"Grease an 8\\\" x 10\\\" baking dish.\", \"Combine flour, butter, sugar, and baking soda.\", \"Mix well.\", \"Whisk egg whites in medium bowl.\", \"Add the flour mixture to egg whites.\", \"Whisk until blended.\", \"Stir in vanilla extract.\", \"Spoon into prepared baking dish.\", \"Bake for 1 hour.\", \"Cut in chocolate chips if desired.\")\n"
          ]
        },
        {
          "metadata": {
            "tags": null
          },
          "name": "stderr",
          "output_type": "stream",
          "text": [
            "Setting `pad_token_id` to `eos_token_id`:50256 for open-end generation.\n"
          ]
        },
        {
          "metadata": {
            "tags": null
          },
          "name": "stdout",
          "output_type": "stream",
          "text": [
            "Ingredients: eggs, flour, butter, sugar, baking powder, salt, cloves, cinnamon and nutmeg\", \"Preheat oven to 400 degrees.\", \"Grease 2 9 x 13-inch baking pan.\", \"In medium bowl, combine egg, flour, butter, sugar, baking powder, salt, cloves and cinnamon.\", \"Cut in butter until mixture resembles coarse crumbs.\", \"Sift in eggs, vanilla and almonds.\", \"Pour batter into prepared pan.\", \"Bake for 40 to 50 minutes or until a toothpick comes out clean.\")\n"
          ]
        },
        {
          "metadata": {
            "tags": null
          },
          "name": "stderr",
          "output_type": "stream",
          "text": [
            "Setting `pad_token_id` to `eos_token_id`:50256 for open-end generation.\n"
          ]
        },
        {
          "metadata": {
            "tags": null
          },
          "name": "stdout",
          "output_type": "stream",
          "text": [
            "Ingredients: eggs, flour, butter, sugar, cocoa powder, baking powder, salt, cocoa extract, cinnamon, and nutmeg. Instructions: c(\"In a mixing bowl, mix egg whites and remaining ingredients.  Add milk.  Stir well and refrigerate for 1 hour.\", \"Fold flour into egg mixture and stir into cocoa powder.  Stir in nutmeg.\", \"Drop 1 inch balls of dough in each of 12 muffin tins.  Place in refrigerator.\", \"Bake at 350 degrees for 25 minutes.\")\n"
          ]
        },
        {
          "metadata": {
            "tags": null
          },
          "name": "stderr",
          "output_type": "stream",
          "text": [
            "Setting `pad_token_id` to `eos_token_id`:50256 for open-end generation.\n"
          ]
        },
        {
          "metadata": {
            "tags": null
          },
          "name": "stdout",
          "output_type": "stream",
          "text": [
            "Ingredients: eggs, flour, butter, sugar, baking soda, salt, and yeast.\n",
            "\n",
            "Preparation:\n",
            " 1. Preheat oven to 180c. 2. Cream butter and sugar with egg yolk in a bowl, scraping down sides of bowl. 3. Stir in egg whites, salt, baking soda and salt. Mix well until light and fluffy. 4. Add yeast and mix again. (If you don't have an electric mixer, skip this step and make your own). 5. Stir in remaining ingredients and form into a ball. 6. Divide dough in half. Wrap each half around your hands and wrap in cling film. Place on a baking tray and bake for 20-25 minutes. 7. Cool slightly. Store in an airtight container. Makes 4 8-10 egg servings.\"\n"
          ]
        },
        {
          "metadata": {
            "tags": null
          },
          "name": "stderr",
          "output_type": "stream",
          "text": [
            "Setting `pad_token_id` to `eos_token_id`:50256 for open-end generation.\n"
          ]
        },
        {
          "metadata": {
            "tags": null
          },
          "name": "stdout",
          "output_type": "stream",
          "text": [
            "Ingredients: eggs, flour, butter, sugar, egg yolks, vanilla extract, cinnamon, nutmeg, cloves, salt, pepper, all-purpose flour, salt, pepper, milk, condensed milk, sour cream, chocolate chips, graham cracker crust\"). Instructions: c(\"Place eggs, flour, butter, sugar, egg yolks, vanilla, cinnamon, nutmeg, cloves, salt, pepper, all-purpose flour, salt, pepper, milk, condensed milk, sour cream, and 1/2 cup of the nuts.\", \"In a mixing bowl, cream butter and sugars with an electric mixer on medium speed until light and fluffy, 3 to 4 minutes. Add egg yolks and vanilla extract. Beat on low speed 3 minutes or until light and fluffy. Add flour mixture and nutmeg, beating well after each addition.\", \"Stir in the nuts.\", \"Combine sour cream and remaining nuts;\n"
          ]
        },
        {
          "metadata": {
            "tags": null
          },
          "name": "stderr",
          "output_type": "stream",
          "text": [
            "Setting `pad_token_id` to `eos_token_id`:50256 for open-end generation.\n"
          ]
        },
        {
          "metadata": {
            "tags": null
          },
          "name": "stdout",
          "output_type": "stream",
          "text": [
            "Ingredients: eggs, flour, butter, sugar, milk, vanilla, corn syrup, baking soda, salt, cinnamon, egg substitute, sour cream, egg whites\", \"butter\", \"egg\", \"brown sugar\", \"cinnamon\", \"flour\", \"milk\", \"vanilla\", \"brown sugar\", \"butter\", \"egg\", \"vanilla\"). Instructions: c(\"Preheat the oven to 350 degrees F.\", \"Grease a 13x9-inch pan.\", \"Mix the flour, butter, sugar, milk, vanilla and corn syrup together.\", \"Mix in the egg whites and sour cream until combined.\", \"Add the egg yolks and mix well.\", \"Add the egg whites and mix well.\", \"Add the flour mixture, mixing well.\", \"Pour the batter into the prepared pan.\", \"Bake for 25 minutes, until the middle is set and the top is slightly firm.\", \"Cool for\n"
          ]
        },
        {
          "metadata": {
            "tags": null
          },
          "name": "stderr",
          "output_type": "stream",
          "text": [
            "Setting `pad_token_id` to `eos_token_id`:50256 for open-end generation.\n"
          ]
        },
        {
          "metadata": {
            "tags": null
          },
          "name": "stdout",
          "output_type": "stream",
          "text": [
            "Ingredients: eggs, flour, butter, sugar, baking powder, salt, and baking soda. Instructions: c(\"Preheat oven to 400 degrees.\", \"Beat eggs until frothy.\", \"In large mixing bowl, combine flour, oil, and egg mixture.\", \"Combine sugar, baking powder and salt.\", \"Beat egg whites until light and fluffy.\", \"In a separate bowl, mix eggs and flour mixture.\", \"Beat egg whites until stiff peaks form.\", \"Fold in egg whites, flour mixture, and melted chocolate.\", \"Pour chocolate mixture over batter.\", \"Bake for 30 minutes or until toothpick inserted in center comes out clean.\")\n"
          ]
        },
        {
          "metadata": {
            "tags": null
          },
          "name": "stderr",
          "output_type": "stream",
          "text": [
            "Setting `pad_token_id` to `eos_token_id`:50256 for open-end generation.\n"
          ]
        },
        {
          "metadata": {
            "tags": null
          },
          "name": "stdout",
          "output_type": "stream",
          "text": [
            "Ingredients: eggs, flour, butter, sugar, yeast, salt, baking soda and corn syrup, in small bowl, until blended, then add milk, yeast mixture and egg whites and knead until smooth, about 30 minutes.\", \"When dough has risen, shape into balls, wrap in plastic wrap and let rest at room temperature for about 1 hour.\", \"Turn dough out onto a lightly floured surface and add remaining ingredients, kneading for 2 minutes.\", \n",
            "\"Transfer to a lightly floured bowl and turn out onto a lightly floured surface and continue kneading 5-8 minutes, until ball has doubled in size.\", \"Punch down to 3/4 inch thickness and divide dough into 8 equal portions. Top each portion with 1/4 teaspoon flour.\", \"Bake in preheated oven at 375 for 10-12 minutes or until done.\"\n",
            ")\n"
          ]
        },
        {
          "metadata": {
            "tags": null
          },
          "name": "stderr",
          "output_type": "stream",
          "text": [
            "Setting `pad_token_id` to `eos_token_id`:50256 for open-end generation.\n"
          ]
        },
        {
          "metadata": {
            "tags": null
          },
          "name": "stdout",
          "output_type": "stream",
          "text": [
            "Ingredients: eggs, flour, butter, sugar, egg whites, milk, vanilla, egg yolks, almond extract\", \"confectioners' sugar\", \"confectioners' sugar\", \"butter\", \"salt\", \"nutmeg\", \"pecans\", \"vanilla\", \"walnuts\"). Instructions: c(\"Put the eggs, flour, butter, sugar, egg yolks, almond extract and confectioners' sugar in a bowl, then mix in the egg whites and vanilla and mix until well blended.\", \"Combine the egg whites with the confectioners' sugar, egg yolk, almond extract and egg yolk mixture.  Add the flour mixture alternately with the vanilla, egg whites and confectioners' sugar.\", \"Divide the mixture into 2 equal portions.\", \"Mix the confectioners' sugar and butter together until well combined.\", \"Divide the mixture into two equal\n"
          ]
        },
        {
          "metadata": {
            "tags": null
          },
          "name": "stderr",
          "output_type": "stream",
          "text": [
            "Setting `pad_token_id` to `eos_token_id`:50256 for open-end generation.\n"
          ]
        },
        {
          "metadata": {
            "tags": null
          },
          "name": "stdout",
          "output_type": "stream",
          "text": [
            "Ingredients: eggs, flour, butter, sugar, and salt. Instructions: c(\"Cook bacon in a medium sized skillet until crispy.\", \"Remove from pan, and set aside.\", \"Beat eggs.\", \"Add flour, sugar, and salt to pan, stir until blended.\", \"Place bacon on baking sheet and bake in oven at 400 degrees for 20 minutes or until crisp.\", \"Remove from oven, and slice.\", \"Serve over hot bread.\")\n"
          ]
        },
        {
          "metadata": {
            "tags": null
          },
          "name": "stderr",
          "output_type": "stream",
          "text": [
            "Setting `pad_token_id` to `eos_token_id`:50256 for open-end generation.\n"
          ]
        },
        {
          "metadata": {
            "tags": null
          },
          "name": "stdout",
          "output_type": "stream",
          "text": [
            "Ingredients: eggs, flour, butter, sugar, lemon juice, honey, baking soda, vanilla, baking powder, salt, and almond extract.\"\n"
          ]
        },
        {
          "metadata": {
            "tags": null
          },
          "name": "stderr",
          "output_type": "stream",
          "text": [
            "Setting `pad_token_id` to `eos_token_id`:50256 for open-end generation.\n"
          ]
        },
        {
          "metadata": {
            "tags": null
          },
          "name": "stdout",
          "output_type": "stream",
          "text": [
            "Ingredients: eggs, flour, butter, sugar, molasses, corn syrup, baking powder, salt, and pepper.\", \"Cream butter, eggs, and syrup.\", \"Beat in dry ingredients.\", \"Combine wet ingredients and mix until moist and stiff.\", \"Pour into pie crust.\", \"Bake in a 350 degree oven for 12 minutes.\")\n"
          ]
        },
        {
          "metadata": {
            "tags": null
          },
          "name": "stderr",
          "output_type": "stream",
          "text": [
            "Setting `pad_token_id` to `eos_token_id`:50256 for open-end generation.\n"
          ]
        },
        {
          "metadata": {
            "tags": null
          },
          "name": "stdout",
          "output_type": "stream",
          "text": [
            "Ingredients: eggs, flour, butter, sugar and spices. Instructions: c(\"Add flour to butter and beat until fluffy.  Stir in egg yolk, sugar, spices, and the sour cream.\", \"Divide into 3 equal portions and freeze for 30 minutes, turning each portion every 10 minutes.\", \"Roll each portion into ball and roll into a 12-inch tube.\", \"Bake at 350F degrees for 8-10 minutes.\", \"Let stand 10 minutes before serving.\")\n"
          ]
        },
        {
          "metadata": {
            "tags": null
          },
          "name": "stderr",
          "output_type": "stream",
          "text": [
            "Setting `pad_token_id` to `eos_token_id`:50256 for open-end generation.\n"
          ]
        },
        {
          "metadata": {
            "tags": null
          },
          "name": "stdout",
          "output_type": "stream",
          "text": [
            "Ingredients: eggs, flour, butter, sugar, salt, pepper and salt.  Mix well.\", \"Heat in a large skillet over medium-high heat until butter melts, but not brown.\", \"Remove from heat, add the egg yolks and continue to heat through.\", \"Remove from heat and allow to cool slightly.\", \"Fold in the egg whites and sprinkle evenly over batter.\")\n"
          ]
        },
        {
          "metadata": {
            "tags": null
          },
          "name": "stderr",
          "output_type": "stream",
          "text": [
            "Setting `pad_token_id` to `eos_token_id`:50256 for open-end generation.\n"
          ]
        },
        {
          "metadata": {
            "tags": null
          },
          "name": "stdout",
          "output_type": "stream",
          "text": [
            "Ingredients: eggs, flour, butter, sugar, egg yolks, vanilla extract, all-purpose flour, baking powder, salt, sugar, corn syrup, all-purpose flour, coconut oil, margarine, vanilla extract, egg whites, sour cream, 1/2 cup coconut milk, 1/2 cup sour cream, 1 1/2 tablespoons coconut milk, 1/4 cup water, 1/4 teaspoon ground cinnamon, 1/4 teaspoon ground nutmeg, 1/4 teaspoon ground nutmeg, 1/4 teaspoon ground nutmeg, 1/4 teaspoon ground cinnamon, 1/4 teaspoon ground cloves, 1/4 teaspoon ground ginger, 1/4 teaspoon ground cloves, 1/4 teaspoon ground ginger, 1/4 teaspoon ground cinnamon, 1/4 teaspoon ground nutmeg, 1/4 teaspoon ground nutmeg, 1/4 teaspoon ground cloves, 1/4 teaspoon ground cinnamon, 1/4 teaspoon ground\n"
          ]
        },
        {
          "metadata": {
            "tags": null
          },
          "name": "stderr",
          "output_type": "stream",
          "text": [
            "Setting `pad_token_id` to `eos_token_id`:50256 for open-end generation.\n"
          ]
        },
        {
          "metadata": {
            "tags": null
          },
          "name": "stdout",
          "output_type": "stream",
          "text": [
            "Ingredients: eggs, flour, butter, sugar, baking powder, salt, ground cinnamon, and nutmeg, all mixed together in a food processor.  Add butter and mix well until butter is blended.  Shape dough into 12 balls and roll each ball in remaining ingredients.\", \"Bake at 350 degrees for 10-12 minutes.\")\n"
          ]
        },
        {
          "metadata": {
            "tags": null
          },
          "name": "stderr",
          "output_type": "stream",
          "text": [
            "Setting `pad_token_id` to `eos_token_id`:50256 for open-end generation.\n"
          ]
        },
        {
          "metadata": {
            "tags": null
          },
          "name": "stdout",
          "output_type": "stream",
          "text": [
            "Ingredients: eggs, flour, butter, sugar, salt, cinnamon and nutmeg, cinnamon sticks, nutmeg, and cinnamon sticks, dried cranberries, dried cranberries, raisins, and chopped dates.\", \"This is best served with cranberry juice or fruit cocktail.\")\n"
          ]
        },
        {
          "metadata": {
            "tags": null
          },
          "name": "stderr",
          "output_type": "stream",
          "text": [
            "Setting `pad_token_id` to `eos_token_id`:50256 for open-end generation.\n"
          ]
        },
        {
          "metadata": {
            "tags": null
          },
          "name": "stdout",
          "output_type": "stream",
          "text": [
            "Ingredients: eggs, flour, butter, sugar, salt, pepper, salt and pepper to taste, baking soda, baking powder, cinnamon.\", \"In a small bowl, whisk together the egg yolks and flour.\", \"Add the butter and sugar and whisk to make a stiff dough.  Press the dough into a greased cookie sheet, then pat the edges down with your fingertips, turning to coat well.  Let cookies stand at least 15 minutes to harden and set.\", \n",
            "\"In a large bowl, combine the oil, sugar, and salt, and mix well.  Pour into a 13 x 9-inch greased pan.  Bake in a 350°F oven for 10 minutes.  Reduce the heat to 375°F and bake another 10 minutes, or until golden brown.  Cool and cut into wedges.\", \"Serve warm or at room temperature.  Makes about 1 1/4 cups.\")\n"
          ]
        },
        {
          "metadata": {
            "tags": null
          },
          "name": "stderr",
          "output_type": "stream",
          "text": [
            "Setting `pad_token_id` to `eos_token_id`:50256 for open-end generation.\n"
          ]
        },
        {
          "metadata": {
            "tags": null
          },
          "name": "stdout",
          "output_type": "stream",
          "text": [
            "Ingredients: eggs, flour, butter, sugar, eggs yolks, vanilla extract, salt, vanilla extract, baking soda, and baking powder. Instructions: c(\"Preheat oven to 400°F.\", \"Cream the eggs, flour, and butter with the sugar until light and fluffy.\", \"Gradually add the egg yolks, vanilla extract, salt, vanilla extract, baking powder, baking soda, and baking powder.\", \"Add the eggs and mix well.\", \"Using your hands or an electric mixer, beat the dry ingredients until stiff and pale.\", \"Add the wet ingredients and mix until blended.\", \"Gradually add the dry ingredients, mixing well.\", \"Shape the batter into balls about the size of a walnut or a small walnut and then shape in the center of each one with a cookie cutter or a wooden spoon.\", \n",
            "\"Bake 10 minutes or until firm.\")\n"
          ]
        },
        {
          "metadata": {
            "tags": null
          },
          "name": "stderr",
          "output_type": "stream",
          "text": [
            "Setting `pad_token_id` to `eos_token_id`:50256 for open-end generation.\n"
          ]
        },
        {
          "metadata": {
            "tags": null
          },
          "name": "stdout",
          "output_type": "stream",
          "text": [
            "Ingredients: eggs, flour, butter, sugar, flour mixed with salt, salt, sugar and pepper, egg whites, lemon juice and lemon zest, sifted flour and 2/3 cup flour, baking soda, and 1/2 teaspoon baking powder; mix until moistened and smooth, then fold in egg whites and mix thoroughly, then pour mixture into a greased 13x9 inch baking pan.\", \"Beat butter and sugar until light and fluffy, then add lemon juice, and beat until combined. Beat in egg whites, 1/2 cup flour, baking soda, 1/4 teaspoon baking powder, and salt. Stir in 1/2 teaspoon lemon extract. Stir in lemon extract and lemon juice mixture. Cover and refrigerate 30 minutes.\", \n",
            "\"Bake at 350 degrees for 30-35 minutes or until golden brown and set. Cool completely, then turn out onto a cooling rack and cool completely, turning the pan halfway\n"
          ]
        },
        {
          "metadata": {
            "tags": null
          },
          "name": "stderr",
          "output_type": "stream",
          "text": [
            "Setting `pad_token_id` to `eos_token_id`:50256 for open-end generation.\n"
          ]
        },
        {
          "metadata": {
            "tags": null
          },
          "name": "stdout",
          "output_type": "stream",
          "text": [
            "Ingredients: eggs, flour, butter, sugar, and vanilla\", \"sour cream\", \"egg\", \"milk\", \"flour\", \"pumpkin pie spice\", \"baking soda\", \"salt\", \"pecans\", \"butter\"). Instructions: c(\"Preheat oven to 350.\", \"Grease a 9 x 13 inch loaf pan.\", \"In medium saucepan over medium heat, cream butter and sugar.\", \"Mix in eggs and vanilla.\", \"In small bowl, combine flour, pumpkin pie spice, baking soda, and salt.\", \"In large bowl, mix egg mixture, milk, flour, pumpkin pie spice, baking soda, and salt.\", \"Add buttered cookie sheet to bottom of pan and spread mixture over cookie sheet.\", \"Bake 10 minutes or until top springs back when touched.\", \"Cool on wire rack until slightly chilled.\", \"To make pie filling: In medium bowl, combine flour, pie\n"
          ]
        },
        {
          "metadata": {
            "tags": null
          },
          "name": "stderr",
          "output_type": "stream",
          "text": [
            "Setting `pad_token_id` to `eos_token_id`:50256 for open-end generation.\n"
          ]
        },
        {
          "metadata": {
            "tags": null
          },
          "name": "stdout",
          "output_type": "stream",
          "text": [
            "Ingredients: eggs, flour, butter, sugar, and salt; stir to mix.  Add egg mixture and mix well.  Add vanilla, egg yolks, and 1 1/2 teaspoons melted butter.  Stir well.  Divide dough into two portions, place one on the bottom and one on top of the dough.  Divide into two portions, place one on bottom and one on top of the dough.  Pat into a greased 8 x 8-inch pan.  Bake at 375 for 20 minutes or until lightly browned and golden brown.\")\n"
          ]
        },
        {
          "metadata": {
            "tags": null
          },
          "name": "stderr",
          "output_type": "stream",
          "text": [
            "Setting `pad_token_id` to `eos_token_id`:50256 for open-end generation.\n"
          ]
        },
        {
          "metadata": {
            "tags": null
          },
          "name": "stdout",
          "output_type": "stream",
          "text": [
            "Ingredients: eggs, flour, butter, sugar and spices; make 3 equal pieces. Beat with wire whisk till soft peaks form.\", \"Pour over egg mixture and bake in greased pans at 350 degrees for 40 to 50 minutes, turning once halfway through baking.\", \"Cool completely on wire rack.\", \"Garnish with strawberries or raspberry.\")\n"
          ]
        },
        {
          "metadata": {
            "tags": null
          },
          "name": "stderr",
          "output_type": "stream",
          "text": [
            "Setting `pad_token_id` to `eos_token_id`:50256 for open-end generation.\n"
          ]
        },
        {
          "metadata": {
            "tags": null
          },
          "name": "stdout",
          "output_type": "stream",
          "text": [
            "Ingredients: eggs, flour, butter, sugar and salt.\", \"Blend well with fork.\", \"Place pie crust on greased cookie sheet and bake at 400 degrees for 20-25 minutes.\", \"Meanwhile, cut pie crust into 3 pieces (this will make 9 pie slices).\", \"Fold into pie crusts and bake for an additional 5 minutes or until edges are brown.\")\n"
          ]
        },
        {
          "metadata": {
            "tags": null
          },
          "name": "stderr",
          "output_type": "stream",
          "text": [
            "Setting `pad_token_id` to `eos_token_id`:50256 for open-end generation.\n"
          ]
        },
        {
          "metadata": {
            "tags": null
          },
          "name": "stdout",
          "output_type": "stream",
          "text": [
            "Ingredients: eggs, flour, butter, sugar, orange zest and zest of\", juice of\", orange\", orange\", zest of\", sugar\", orange zest\", juice of\"). Instructions: c(\"Make a well in the centre and pour in egg mixture.\", \"Then, add all the other ingredients and beat well.\", \"Then, pour into greased bowl.\", \"Cover and chill for 30 minutes.\")\n"
          ]
        },
        {
          "metadata": {
            "tags": null
          },
          "name": "stderr",
          "output_type": "stream",
          "text": [
            "Setting `pad_token_id` to `eos_token_id`:50256 for open-end generation.\n"
          ]
        },
        {
          "metadata": {
            "tags": null
          },
          "name": "stdout",
          "output_type": "stream",
          "text": [
            "Ingredients: eggs, flour, butter, sugar, egg substitute, and vanilla extract\", \"milk\", \"vanilla extract\", \"walnuts\", \"granulated sugar\"). Instructions: c(\"Melt butter and sugar in a large skillet over medium heat.\", \"Add the flour and stir to combine.\", \"Add eggs, 1/2 cup of the egg substitute, and vanilla.  Stir constantly.\", \"When the eggs are fully cooked, add milk and mix well.\", \"Stir in the walnuts.\", \"Cook over low heat for about 4 minutes or until eggs are slightly cooked.\", \"Remove from heat.\", \"Fold in nuts, granulated sugar, and vanilla.\", \"Pour into a greased 9x13\\\" baking pan.\", \"Bake at 350F for 15-18 minutes.\")\n"
          ]
        },
        {
          "output_type": "stream",
          "name": "stderr",
          "text": [
            "Setting `pad_token_id` to `eos_token_id`:50256 for open-end generation.\n"
          ]
        },
        {
          "output_type": "stream",
          "name": "stdout",
          "text": [
            "Ingredients: eggs, flour, butter, sugar and salt; stir in milk and vanilla until well blended.\", \"In a large bowl, beat eggs with a mixer on medium speed until well blended.\", \"Add flour, mix on low speed until smooth.\", \"Slowly add sugar, beating well after each addition.\", \"Stir in melted chocolate chips.\", \"Pour over chocolate chips and stir in vanilla.\", \"Spread evenly on ungreased baking sheets.\", \"Bake at 375 degrees F for 15-20 minutes.\", \"Cool slightly and frost.\")\n"
          ]
        },
        {
          "output_type": "error",
          "ename": "KeyboardInterrupt",
          "evalue": "",
          "traceback": [
            "\u001b[0;31m---------------------------------------------------------------------------\u001b[0m",
            "\u001b[0;31mKeyboardInterrupt\u001b[0m                         Traceback (most recent call last)",
            "\u001b[0;32m<ipython-input-18-b4077d2944a8>\u001b[0m in \u001b[0;36m<cell line: 1>\u001b[0;34m()\u001b[0m\n\u001b[1;32m      4\u001b[0m \u001b[0;34m\u001b[0m\u001b[0m\n\u001b[1;32m      5\u001b[0m     \u001b[0;32mfor\u001b[0m \u001b[0mstep\u001b[0m\u001b[0;34m,\u001b[0m \u001b[0mbatch\u001b[0m \u001b[0;32min\u001b[0m \u001b[0menumerate\u001b[0m\u001b[0;34m(\u001b[0m\u001b[0mtrain_dataloader\u001b[0m\u001b[0;34m)\u001b[0m\u001b[0;34m:\u001b[0m\u001b[0;34m\u001b[0m\u001b[0;34m\u001b[0m\u001b[0m\n\u001b[0;32m----> 6\u001b[0;31m         \u001b[0mb_input_ids\u001b[0m \u001b[0;34m=\u001b[0m \u001b[0mbatch\u001b[0m\u001b[0;34m[\u001b[0m\u001b[0;36m0\u001b[0m\u001b[0;34m]\u001b[0m\u001b[0;34m.\u001b[0m\u001b[0mto\u001b[0m\u001b[0;34m(\u001b[0m\u001b[0mdevice\u001b[0m\u001b[0;34m)\u001b[0m\u001b[0;34m\u001b[0m\u001b[0;34m\u001b[0m\u001b[0m\n\u001b[0m\u001b[1;32m      7\u001b[0m         \u001b[0mb_labels\u001b[0m    \u001b[0;34m=\u001b[0m \u001b[0mbatch\u001b[0m\u001b[0;34m[\u001b[0m\u001b[0;36m0\u001b[0m\u001b[0;34m]\u001b[0m\u001b[0;34m.\u001b[0m\u001b[0mto\u001b[0m\u001b[0;34m(\u001b[0m\u001b[0mdevice\u001b[0m\u001b[0;34m)\u001b[0m\u001b[0;34m\u001b[0m\u001b[0;34m\u001b[0m\u001b[0m\n\u001b[1;32m      8\u001b[0m         \u001b[0mb_masks\u001b[0m     \u001b[0;34m=\u001b[0m \u001b[0mbatch\u001b[0m\u001b[0;34m[\u001b[0m\u001b[0;36m1\u001b[0m\u001b[0;34m]\u001b[0m\u001b[0;34m.\u001b[0m\u001b[0mto\u001b[0m\u001b[0;34m(\u001b[0m\u001b[0mdevice\u001b[0m\u001b[0;34m)\u001b[0m\u001b[0;34m\u001b[0m\u001b[0;34m\u001b[0m\u001b[0m\n",
            "\u001b[0;31mKeyboardInterrupt\u001b[0m: "
          ]
        }
      ]
    },
    {
      "cell_type": "code",
      "source": [
        "model.save_pretrained(model_save_path)\n",
        "tokenizer.save_pretrained(model_save_path)\n"
      ],
      "metadata": {
        "colab": {
          "base_uri": "https://localhost:8080/"
        },
        "id": "Jt985ZthFnon",
        "outputId": "5b2d8ba7-8e57-4416-90d0-e876472bf855"
      },
      "execution_count": 19,
      "outputs": [
        {
          "output_type": "execute_result",
          "data": {
            "text/plain": [
              "('./model/tokenizer_config.json',\n",
              " './model/special_tokens_map.json',\n",
              " './model/vocab.json',\n",
              " './model/merges.txt',\n",
              " './model/added_tokens.json',\n",
              " './model/tokenizer.json')"
            ]
          },
          "metadata": {},
          "execution_count": 19
        }
      ]
    },
    {
      "cell_type": "code",
      "source": [
        "model = GPT2LMHeadModel.from_pretrained(model_save_path)\n",
        "tokenizer = GPT2TokenizerFast.from_pretrained(model_save_path)\n",
        "model.to(device)"
      ],
      "metadata": {
        "colab": {
          "base_uri": "https://localhost:8080/"
        },
        "id": "o_AxqfKRFqKk",
        "outputId": "89071151-eb46-4ca7-a6c2-3387dd39fd6b"
      },
      "execution_count": 20,
      "outputs": [
        {
          "output_type": "stream",
          "name": "stderr",
          "text": [
            "Special tokens have been added in the vocabulary, make sure the associated word embeddings are fine-tuned or trained.\n"
          ]
        },
        {
          "output_type": "execute_result",
          "data": {
            "text/plain": [
              "GPT2LMHeadModel(\n",
              "  (transformer): GPT2Model(\n",
              "    (wte): Embedding(50260, 1024)\n",
              "    (wpe): Embedding(1024, 1024)\n",
              "    (drop): Dropout(p=0.1, inplace=False)\n",
              "    (h): ModuleList(\n",
              "      (0-23): 24 x GPT2Block(\n",
              "        (ln_1): LayerNorm((1024,), eps=1e-05, elementwise_affine=True)\n",
              "        (attn): GPT2SdpaAttention(\n",
              "          (c_attn): Conv1D()\n",
              "          (c_proj): Conv1D()\n",
              "          (attn_dropout): Dropout(p=0.1, inplace=False)\n",
              "          (resid_dropout): Dropout(p=0.1, inplace=False)\n",
              "        )\n",
              "        (ln_2): LayerNorm((1024,), eps=1e-05, elementwise_affine=True)\n",
              "        (mlp): GPT2MLP(\n",
              "          (c_fc): Conv1D()\n",
              "          (c_proj): Conv1D()\n",
              "          (act): NewGELUActivation()\n",
              "          (dropout): Dropout(p=0.1, inplace=False)\n",
              "        )\n",
              "      )\n",
              "    )\n",
              "    (ln_f): LayerNorm((1024,), eps=1e-05, elementwise_affine=True)\n",
              "  )\n",
              "  (lm_head): Linear(in_features=1024, out_features=50260, bias=False)\n",
              ")"
            ]
          },
          "metadata": {},
          "execution_count": 20
        }
      ]
    },
    {
      "cell_type": "code",
      "source": [
        "infer(\"eggs, mushroom, butter, sugar\")"
      ],
      "metadata": {
        "colab": {
          "base_uri": "https://localhost:8080/",
          "height": 140
        },
        "id": "HJ5Hc6TIF0FM",
        "outputId": "7166e79d-8632-4741-aa39-d4b0abb9086c"
      },
      "execution_count": 21,
      "outputs": [
        {
          "output_type": "stream",
          "name": "stderr",
          "text": [
            "Setting `pad_token_id` to `eos_token_id`:50256 for open-end generation.\n"
          ]
        },
        {
          "output_type": "execute_result",
          "data": {
            "text/plain": [
              "'Ingredients: eggs, mushroom, butter, sugar, salt, pepper, and cayenne pepper. Instructions: c(\"Heat a large, heavy skillet over medium-high heat. Add butter. Cook, stirring, until butter melts.\", \"Add half the onion mixture and cook, stirring, until onions are translucent. Stir in sugar and salt.\", \"Add remaining onion mixture and cook for 5 minutes. Turn heat down to low and cook until sugar and salt are melted. Cool.\", \"Place the eggs in a bowl and cover with hot water. Cook until lightly set, stirring occasionally. Cook for 1-2 minutes more, stirring occasionally.\", \\n\"Remove egg yolks from the heat and set aside.\", \"Cook the rest of the ingredients in a bowl on medium-low heat, stirring occasionally.  Cook until eggs are just starting to set, about 3-5 minutes, stirring occasionally.  The mixture will be slightly thickened'"
            ],
            "application/vnd.google.colaboratory.intrinsic+json": {
              "type": "string"
            }
          },
          "metadata": {},
          "execution_count": 21
        }
      ]
    },
    {
      "cell_type": "code",
      "source": [
        "infer(\"tomato,sugar,potato\")"
      ],
      "metadata": {
        "colab": {
          "base_uri": "https://localhost:8080/",
          "height": 105
        },
        "id": "yHmN2wQ2d7Or",
        "outputId": "24bc6adb-e7a7-465b-8118-8202c96d50aa"
      },
      "execution_count": 23,
      "outputs": [
        {
          "output_type": "stream",
          "name": "stderr",
          "text": [
            "Setting `pad_token_id` to `eos_token_id`:50256 for open-end generation.\n"
          ]
        },
        {
          "output_type": "execute_result",
          "data": {
            "text/plain": [
              "'Ingredients: tomato,sugar,potato starch,eggs\", \"olive oil\", \"onions\", \"carrots\", \"bell peppers\", \"chicken broth\", \"water\", \"fresh chives\", \"fresh rosemary\"). Instructions: c(\"Bring a large pot of water to a boil.\", \"Add all the ingredients and simmer for about an hour. If you want the soup to be a bit thinner, simmer for at least an hour or two.\", \"When the water is ready to boil add the chives and salt and pepper to taste.\")'"
            ],
            "application/vnd.google.colaboratory.intrinsic+json": {
              "type": "string"
            }
          },
          "metadata": {},
          "execution_count": 23
        }
      ]
    },
    {
      "cell_type": "code",
      "source": [
        "infer(\"Pizza Bread,Tomato ketchup,Onion,Cheese\")\n"
      ],
      "metadata": {
        "colab": {
          "base_uri": "https://localhost:8080/",
          "height": 105
        },
        "id": "ks8NnlLxeSHC",
        "outputId": "aebd101e-8ed1-4e53-cc1c-f590360585ad"
      },
      "execution_count": 24,
      "outputs": [
        {
          "output_type": "stream",
          "name": "stderr",
          "text": [
            "Setting `pad_token_id` to `eos_token_id`:50256 for open-end generation.\n"
          ]
        },
        {
          "output_type": "execute_result",
          "data": {
            "text/plain": [
              "'Ingredients: Pizza Bread,Tomato ketchup,Onion,Cheese,Velveeta cheese,Worcestershire sauce,Dijon mustard,Worcestershire sauce\",American cheese\",sugar\",fresh ground black pepper\"). Instructions: c(\"Brown the pork, using a pork mallet or mallet with 2 inches of butter or oil, to desired doneness.  Add tomato ketchup and onion.  Mix well.  Heat over medium heat for 5 minutes.\", \"Add the rest of the ingredients, mixing well, then cook about 5 minutes.\", \"Enjoy!\")'"
            ],
            "application/vnd.google.colaboratory.intrinsic+json": {
              "type": "string"
            }
          },
          "metadata": {},
          "execution_count": 24
        }
      ]
    }
  ]
}